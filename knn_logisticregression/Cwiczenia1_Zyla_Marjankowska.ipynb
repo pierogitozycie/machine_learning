{
 "cells": [
  {
   "cell_type": "markdown",
   "metadata": {},
   "source": [
    "### Ćwiczenia projektowe 1.\n",
    "Anna Marjankowska, Adrian Żyła"
   ]
  },
  {
   "cell_type": "code",
   "execution_count": 1,
   "metadata": {},
   "outputs": [],
   "source": [
    "import pandas as pd\n",
    "import numpy as np\n",
    "from sklearn.model_selection import train_test_split\n",
    "from sklearn.linear_model import LogisticRegression\n",
    "from sklearn.naive_bayes import MultinomialNB\n",
    "from sklearn.preprocessing import StandardScaler\n",
    "from sklearn.neighbors import KNeighborsClassifier\n",
    "from sklearn.metrics import confusion_matrix, ConfusionMatrixDisplay, accuracy_score, recall_score, classification_report\n",
    "import matplotlib.pyplot as plt\n",
    "import math"
   ]
  },
  {
   "cell_type": "markdown",
   "metadata": {},
   "source": [
    "### Zadanie 1. Pytania wstępne"
   ]
  },
  {
   "cell_type": "markdown",
   "metadata": {},
   "source": [
    "* __W jakim celu dokonuje się podziału zbioru danych na zbiór uczący i testowy? W jaki sposób ten podział powinien zostać wykonany?__<br><br>\n",
    "Podział na zbiór uczący i testowy umożliwia wytrenowanie modelu na danych trenignowych oraz przetestowania jego wydajności na danych testowych. <br>\n",
    "Dane testowe powinny być nowe, wcześniej niewidziane przez model, ale powinny reprezentować rzeczywisty zestaw danych na których model będzie pracować, co onzacza, ze dane testowe pownny mieć ten sam rozkład cech co dane rzeczywiste. \n",
    "Dzięki danym testowym możemy nie tylko zbadać dokładność modelu ale również zidentyfikować obszary wymagające dopracowania. <br>\n",
    "Podział powinien byc dokonany w sposób losowy. Częstą praktyką jest dokonanie podziału w proporcji $80/20$ lub $70/30$, co daje nam odpowiednio duży zbiór treningowy do wyuczenia wzorców oraz odpowiednio duży zbiór testowy, wystarczający do oceny modelu.\n",
    "\n",
    "* __Czym jest macierz błędu?__<br><br>\n",
    "Macierz błędu jest narzędziem stosowanym do _oceny jakości klasyfikacji_. Powstaje ona z przecięcia klasy prognozowanej oraz klasy faktycznie zaobserwowanej. Umożliwia zrozumienie, które rodzaje błędów są popełniane.\n",
    "Macierz błędów składa się więc z 4 wartości:\n",
    "    * True-Positive \\( TP \\) - poprawnie przewidziana klasa pozytywna.\n",
    "    * True-Negative \\( TN \\) - poprawnie przewidziana klasa negatywna.\n",
    "    * False-Positive \\( FP \\) - niepoprawnie przewidziana klasa pozytywna.\n",
    "    * False-Negative \\( FN \\) - niepoprawnie przewidziana klasa negatywna.\n",
    "\n",
    "* __Jaka jest różnica między dokładnością, czułością a specyficznością? Która z tych miar i w jakim przypadku jest ważniejsza. Podać przykłady.__<br><br>\n",
    "    * Dokładność (ang. accuracy) - miara, która pokazuje udział prawidłowych predykcji wsród wszystkich predykcji. Na przykład, dokładność równa $0.81$ oznacza, że $81\\%$ zostało poprawnie poprawnie przypisanych do klas przez nasz model.  \n",
    "    $$\n",
    "    \\text{Dokładność} = \\frac{TP + TN}{TP + TN + FP + FN}\n",
    "    $$\n",
    "    Dokładność jest przydatna, gdy liczba przypadków pozytywnych jak i negatywnych jest w przybliżeniu równa. \n",
    "    * Czułość (ang. recall) - pokazuje udział prawidłowo przewidzanych pozytywnych przypadków wśród rzeczywiście pozytywnych przypadków. Mówi o zdolności modelu do wykrywania _pozytywnych_ przypadków. Na przykład, czułość równa $0.81$ oznacza, że $81\\%$ osób z udarem zostało poprawnie zidentyfikowanych przez nasz model.  \n",
    "    $$\n",
    "    \\text{Czułość} = \\frac{TP}{TP + FN}\n",
    "    $$\n",
    "    Czułość jest uzyteczna gdy zależy nam na wykrywaniu wszystkich pozytywnych przypadków, nawet jeśli oznacza to większą liczbę fałszywych alarmów. Dobrym przykładem jest nasz zbiór danych, gdzie zależy nam na wykryciu wszystkich zagrożeń udaru, ponieważ przeoczenie choroby jest znacznie bardziej szkodliwe, niż błędne ostrzeżenie.\n",
    "    * Specyficzność (ang. spcificity) - pokazuje udział prawidłowo przewidzianych negatywnych przypadków wśród rzeczywiście negatywnych przypadków. Mówi o zdolności modelu do wykrywania _negatywnych_ przypadków. Na przykład, specyficzność równa $0.81$ oznacza, że $81\\%$ osób bez udaru zostało poprawnie zidentyfikowanych przez nasz model.\n",
    "    $$\n",
    "    \\text{Specyficzność} = \\frac{TN}{TN + FP}\n",
    "    $$\n",
    "    Specyficzność odnajduje swoje zastosowanie w modelach, gdy zależy nam na uniknięciu liczby fałszywych alarmów. Przykładem moze być klasyfikacja wiadomości email jako SPAM - zależy nam na jak najmniejszej liczbie normalnych wiadomości oznaczonych jako SPAM. \n"
   ]
  },
  {
   "cell_type": "markdown",
   "metadata": {},
   "source": [
    "#### Zadanie 2. Metoda KNN"
   ]
  },
  {
   "cell_type": "markdown",
   "metadata": {},
   "source": [
    "* __Jak działa metoda k-najbliższych sąsiadów?__<br><br>\n",
    "Metoda KNN jest algorytmem klasyfikacyjnym jak i regresyjnym opartym na podobieństwie między punktami danych, identyfikując najbliższe obserwacje. Działa na zasadzie \"głosowania\" wsród $k$ najbliższych sąsiadów dla danej próbki.  \n",
    "Dla klasyfikacji, próbka jest przypisana do klasy, do której należy większość jej $k$ najbliższych sąsiadów. W przypadku regresji obliczana jest średnia lub mediana z wartości $k$ najbliższych sąsiadów.\n",
    "<br>\n",
    "\n",
    "* __Czym jest k w metodzie KNN? Jak dobrać odpowiednią wartość k? Czy k powinno być liczbą parzystą, nieparzystą, czy nie ma to znaczenia?__<br><br>\n",
    "Liczba $k$ oznacza liczbę najbliższych sąsiadów którzy biorą udział w klasyfikacji lub regresji.\n",
    "Zazwyczaj dobranie liczby $k$ wymaga przetestowania różnych wartości $k$ oraz wybraniu tej, która daje najlepsze wyniki. Liczba $k$ nie powinna być zbyt mała, aby nie doprowadzić do nadmiernego dopasowania, oraz zbyt duża co może prowadzić do uogólnienia modelu.\n",
    "W przypadku klasyfikacji binarnej, zaleca się aby $k$ było liczbą _nieparzystą_, tak aby uniknąć sytuacji w której liczba sąsiadów z dwóch klas jest sobie równa, co prowadzi do remisu i wymusza przeprowadzenie losowania w predykcji.\n",
    "<br>\n",
    "\n",
    "* __Czy w metodzie tej można wykorzystać i jeśli tak, to w jaki sposób zmienne kategoryczne?__<br><br>\n",
    "W metodzie KNN można wykorzystać zmienne kategoryczne, wymaga to jednak zakodowania zmiennej kategorycznej na zmienną $0/1$ metodą _one-hot encoding_.\n",
    "<br>\n",
    "* __Czy standaryzacja danych jest wymagana w przypadku wykorzystywania metody k-najbliższych sąsiadów? Dlaczego tak/nie? Zastosować metodę KNN na danych bez standaryzacji i ze standaryzacją. Porównać uzyskane wyniki.__<br><br>\n",
    "Standaryzacja danych jest wymagana przy stosowaniu metody KNN. Dzieje się tak, ponieważ algorytm KNN opiera się na odległościach między punktami. Różne skale cech mogą prowadzić do niepoprawnej dominacji nietórych cech nad innymi, mimo iż nie są one tak istotne w klasyfikacji/regresji. "
   ]
  },
  {
   "cell_type": "markdown",
   "metadata": {},
   "source": [
    "Przejdźmy teraz do wgrania zestawu danych oraz ich obróbki."
   ]
  },
  {
   "cell_type": "code",
   "execution_count": 2,
   "metadata": {},
   "outputs": [
    {
     "data": {
      "text/html": [
       "<div>\n",
       "<style scoped>\n",
       "    .dataframe tbody tr th:only-of-type {\n",
       "        vertical-align: middle;\n",
       "    }\n",
       "\n",
       "    .dataframe tbody tr th {\n",
       "        vertical-align: top;\n",
       "    }\n",
       "\n",
       "    .dataframe thead th {\n",
       "        text-align: right;\n",
       "    }\n",
       "</style>\n",
       "<table border=\"1\" class=\"dataframe\">\n",
       "  <thead>\n",
       "    <tr style=\"text-align: right;\">\n",
       "      <th></th>\n",
       "      <th>gender</th>\n",
       "      <th>age</th>\n",
       "      <th>hypertension</th>\n",
       "      <th>heart_disease</th>\n",
       "      <th>ever_married</th>\n",
       "      <th>work_type</th>\n",
       "      <th>Residence_type</th>\n",
       "      <th>avg_glucose_level</th>\n",
       "      <th>bmi</th>\n",
       "      <th>smoking_status</th>\n",
       "      <th>stroke</th>\n",
       "    </tr>\n",
       "  </thead>\n",
       "  <tbody>\n",
       "    <tr>\n",
       "      <th>0</th>\n",
       "      <td>Male</td>\n",
       "      <td>67</td>\n",
       "      <td>0</td>\n",
       "      <td>1</td>\n",
       "      <td>Yes</td>\n",
       "      <td>Private</td>\n",
       "      <td>Urban</td>\n",
       "      <td>228.69</td>\n",
       "      <td>36.6</td>\n",
       "      <td>formerly smoked</td>\n",
       "      <td>1</td>\n",
       "    </tr>\n",
       "    <tr>\n",
       "      <th>1</th>\n",
       "      <td>Male</td>\n",
       "      <td>80</td>\n",
       "      <td>0</td>\n",
       "      <td>1</td>\n",
       "      <td>Yes</td>\n",
       "      <td>Private</td>\n",
       "      <td>Rural</td>\n",
       "      <td>105.92</td>\n",
       "      <td>32.5</td>\n",
       "      <td>never smoked</td>\n",
       "      <td>1</td>\n",
       "    </tr>\n",
       "    <tr>\n",
       "      <th>2</th>\n",
       "      <td>Female</td>\n",
       "      <td>49</td>\n",
       "      <td>0</td>\n",
       "      <td>0</td>\n",
       "      <td>Yes</td>\n",
       "      <td>Private</td>\n",
       "      <td>Urban</td>\n",
       "      <td>171.23</td>\n",
       "      <td>34.4</td>\n",
       "      <td>smokes</td>\n",
       "      <td>1</td>\n",
       "    </tr>\n",
       "    <tr>\n",
       "      <th>3</th>\n",
       "      <td>Female</td>\n",
       "      <td>79</td>\n",
       "      <td>1</td>\n",
       "      <td>0</td>\n",
       "      <td>Yes</td>\n",
       "      <td>Self-employed</td>\n",
       "      <td>Rural</td>\n",
       "      <td>174.12</td>\n",
       "      <td>24.0</td>\n",
       "      <td>never smoked</td>\n",
       "      <td>1</td>\n",
       "    </tr>\n",
       "    <tr>\n",
       "      <th>4</th>\n",
       "      <td>Male</td>\n",
       "      <td>81</td>\n",
       "      <td>0</td>\n",
       "      <td>0</td>\n",
       "      <td>Yes</td>\n",
       "      <td>Private</td>\n",
       "      <td>Urban</td>\n",
       "      <td>186.21</td>\n",
       "      <td>29.0</td>\n",
       "      <td>formerly smoked</td>\n",
       "      <td>1</td>\n",
       "    </tr>\n",
       "  </tbody>\n",
       "</table>\n",
       "</div>"
      ],
      "text/plain": [
       "   gender  age  hypertension  heart_disease ever_married      work_type  \\\n",
       "0    Male   67             0              1          Yes        Private   \n",
       "1    Male   80             0              1          Yes        Private   \n",
       "2  Female   49             0              0          Yes        Private   \n",
       "3  Female   79             1              0          Yes  Self-employed   \n",
       "4    Male   81             0              0          Yes        Private   \n",
       "\n",
       "  Residence_type  avg_glucose_level   bmi   smoking_status  stroke  \n",
       "0          Urban             228.69  36.6  formerly smoked       1  \n",
       "1          Rural             105.92  32.5     never smoked       1  \n",
       "2          Urban             171.23  34.4           smokes       1  \n",
       "3          Rural             174.12  24.0     never smoked       1  \n",
       "4          Urban             186.21  29.0  formerly smoked       1  "
      ]
     },
     "execution_count": 2,
     "metadata": {},
     "output_type": "execute_result"
    }
   ],
   "source": [
    "data = pd.read_csv('/Users/aniamarjankowska/Documents/IiE/I semestr/Machine Learning/Laby/stroke_zaj1.csv', sep = ';', decimal = ',')\n",
    "data.head()"
   ]
  },
  {
   "cell_type": "code",
   "execution_count": 3,
   "metadata": {},
   "outputs": [
    {
     "data": {
      "text/plain": [
       "(612, 11)"
      ]
     },
     "execution_count": 3,
     "metadata": {},
     "output_type": "execute_result"
    }
   ],
   "source": [
    "data.shape # sprawdzam ile mamy wierszy oraz kolumn"
   ]
  },
  {
   "cell_type": "markdown",
   "metadata": {},
   "source": [
    "Zmienne *gender*, *ever_married*, *work_type*, *Residence_typy*, *avg_glucose_level* oraz *smoking_status* to zmienne jakościowe. Musimy więc je zamienić na zmienne binarne. "
   ]
  },
  {
   "cell_type": "markdown",
   "metadata": {},
   "source": [
    "Sprawdzmy najpierw jakie dokładnie wartości przyjmują zmienne jakościowe:"
   ]
  },
  {
   "cell_type": "code",
   "execution_count": 4,
   "metadata": {},
   "outputs": [
    {
     "name": "stdout",
     "output_type": "stream",
     "text": [
      "gender: ['Male' 'Female']\n",
      "ever_married: ['Yes' 'No']\n",
      "work_type: ['Private' 'Self-employed' 'Govt_job' 'children']\n",
      "Residence_type: ['Urban' 'Rural']\n",
      "smoking_status: ['formerly smoked' 'never smoked' 'smokes' 'Unknown']\n"
     ]
    }
   ],
   "source": [
    "for col in ['gender', 'ever_married', 'work_type', 'Residence_type', 'smoking_status']:\n",
    "    print(f\"{col}: {data[col].unique()}\")"
   ]
  },
  {
   "cell_type": "code",
   "execution_count": 5,
   "metadata": {},
   "outputs": [],
   "source": [
    "gender_dummies = pd.get_dummies(data['gender'], dtype = int, drop_first = True) # Ustawiamy zmienna drop_first na True, aby pominac jedna kolumnę, w celu uniknięcia wspólniowości zmiennych\n",
    "ever_married_dummies = pd.get_dummies(data['ever_married'], dtype = int, drop_first = True)\n",
    "work_type_dummies = pd.get_dummies(data['work_type'], dtype = int, drop_first = True)\n",
    "residence_type_dummies = pd.get_dummies(data['Residence_type'], dtype = int, drop_first = True)\n",
    "smoking_status_dummies = pd.get_dummies(data['smoking_status'], dtype = int, drop_first = True)"
   ]
  },
  {
   "cell_type": "code",
   "execution_count": 6,
   "metadata": {},
   "outputs": [
    {
     "data": {
      "text/html": [
       "<div>\n",
       "<style scoped>\n",
       "    .dataframe tbody tr th:only-of-type {\n",
       "        vertical-align: middle;\n",
       "    }\n",
       "\n",
       "    .dataframe tbody tr th {\n",
       "        vertical-align: top;\n",
       "    }\n",
       "\n",
       "    .dataframe thead th {\n",
       "        text-align: right;\n",
       "    }\n",
       "</style>\n",
       "<table border=\"1\" class=\"dataframe\">\n",
       "  <thead>\n",
       "    <tr style=\"text-align: right;\">\n",
       "      <th></th>\n",
       "      <th>Male</th>\n",
       "      <th>age</th>\n",
       "      <th>hypertension</th>\n",
       "      <th>heart_disease</th>\n",
       "      <th>ever_married</th>\n",
       "      <th>Private</th>\n",
       "      <th>Self-employed</th>\n",
       "      <th>children</th>\n",
       "      <th>Urban</th>\n",
       "      <th>avg_glucose_level</th>\n",
       "      <th>bmi</th>\n",
       "      <th>formerly smoked</th>\n",
       "      <th>never smoked</th>\n",
       "      <th>smokes</th>\n",
       "      <th>stroke</th>\n",
       "    </tr>\n",
       "  </thead>\n",
       "  <tbody>\n",
       "    <tr>\n",
       "      <th>0</th>\n",
       "      <td>1</td>\n",
       "      <td>67</td>\n",
       "      <td>0</td>\n",
       "      <td>1</td>\n",
       "      <td>1</td>\n",
       "      <td>1</td>\n",
       "      <td>0</td>\n",
       "      <td>0</td>\n",
       "      <td>1</td>\n",
       "      <td>228.69</td>\n",
       "      <td>36.6</td>\n",
       "      <td>1</td>\n",
       "      <td>0</td>\n",
       "      <td>0</td>\n",
       "      <td>1</td>\n",
       "    </tr>\n",
       "    <tr>\n",
       "      <th>1</th>\n",
       "      <td>1</td>\n",
       "      <td>80</td>\n",
       "      <td>0</td>\n",
       "      <td>1</td>\n",
       "      <td>1</td>\n",
       "      <td>1</td>\n",
       "      <td>0</td>\n",
       "      <td>0</td>\n",
       "      <td>0</td>\n",
       "      <td>105.92</td>\n",
       "      <td>32.5</td>\n",
       "      <td>0</td>\n",
       "      <td>1</td>\n",
       "      <td>0</td>\n",
       "      <td>1</td>\n",
       "    </tr>\n",
       "    <tr>\n",
       "      <th>2</th>\n",
       "      <td>0</td>\n",
       "      <td>49</td>\n",
       "      <td>0</td>\n",
       "      <td>0</td>\n",
       "      <td>1</td>\n",
       "      <td>1</td>\n",
       "      <td>0</td>\n",
       "      <td>0</td>\n",
       "      <td>1</td>\n",
       "      <td>171.23</td>\n",
       "      <td>34.4</td>\n",
       "      <td>0</td>\n",
       "      <td>0</td>\n",
       "      <td>1</td>\n",
       "      <td>1</td>\n",
       "    </tr>\n",
       "    <tr>\n",
       "      <th>3</th>\n",
       "      <td>0</td>\n",
       "      <td>79</td>\n",
       "      <td>1</td>\n",
       "      <td>0</td>\n",
       "      <td>1</td>\n",
       "      <td>0</td>\n",
       "      <td>1</td>\n",
       "      <td>0</td>\n",
       "      <td>0</td>\n",
       "      <td>174.12</td>\n",
       "      <td>24.0</td>\n",
       "      <td>0</td>\n",
       "      <td>1</td>\n",
       "      <td>0</td>\n",
       "      <td>1</td>\n",
       "    </tr>\n",
       "    <tr>\n",
       "      <th>4</th>\n",
       "      <td>1</td>\n",
       "      <td>81</td>\n",
       "      <td>0</td>\n",
       "      <td>0</td>\n",
       "      <td>1</td>\n",
       "      <td>1</td>\n",
       "      <td>0</td>\n",
       "      <td>0</td>\n",
       "      <td>1</td>\n",
       "      <td>186.21</td>\n",
       "      <td>29.0</td>\n",
       "      <td>1</td>\n",
       "      <td>0</td>\n",
       "      <td>0</td>\n",
       "      <td>1</td>\n",
       "    </tr>\n",
       "  </tbody>\n",
       "</table>\n",
       "</div>"
      ],
      "text/plain": [
       "   Male  age  hypertension  heart_disease  ever_married  Private  \\\n",
       "0     1   67             0              1             1        1   \n",
       "1     1   80             0              1             1        1   \n",
       "2     0   49             0              0             1        1   \n",
       "3     0   79             1              0             1        0   \n",
       "4     1   81             0              0             1        1   \n",
       "\n",
       "   Self-employed  children  Urban  avg_glucose_level   bmi  formerly smoked  \\\n",
       "0              0         0      1             228.69  36.6                1   \n",
       "1              0         0      0             105.92  32.5                0   \n",
       "2              0         0      1             171.23  34.4                0   \n",
       "3              1         0      0             174.12  24.0                0   \n",
       "4              0         0      1             186.21  29.0                1   \n",
       "\n",
       "   never smoked  smokes  stroke  \n",
       "0             0       0       1  \n",
       "1             1       0       1  \n",
       "2             0       1       1  \n",
       "3             1       0       1  \n",
       "4             0       0       1  "
      ]
     },
     "execution_count": 6,
     "metadata": {},
     "output_type": "execute_result"
    }
   ],
   "source": [
    "data = pd.concat([gender_dummies, data[['age', 'hypertension', 'heart_disease']], ever_married_dummies, work_type_dummies, \n",
    "        residence_type_dummies, data[['avg_glucose_level', 'bmi',]], smoking_status_dummies, data[['stroke']]], axis = 1)\n",
    "data = data.rename(columns = {'Yes': 'ever_married'})\n",
    "data.head()"
   ]
  },
  {
   "cell_type": "code",
   "execution_count": 7,
   "metadata": {},
   "outputs": [
    {
     "data": {
      "text/plain": [
       "(612, 15)"
      ]
     },
     "execution_count": 7,
     "metadata": {},
     "output_type": "execute_result"
    }
   ],
   "source": [
    "data.shape"
   ]
  },
  {
   "cell_type": "markdown",
   "metadata": {},
   "source": [
    "Podział na zbiór uczący oraz testowy w proporcji $70/30$:"
   ]
  },
  {
   "cell_type": "code",
   "execution_count": 8,
   "metadata": {},
   "outputs": [],
   "source": [
    "X = data.iloc[:, 0:14]\n",
    "y = data.stroke\n",
    "X_train, X_test, y_train, y_test = train_test_split(X, y, test_size = 0.3, random_state = 42)"
   ]
  },
  {
   "cell_type": "markdown",
   "metadata": {},
   "source": [
    "Zbudujmy model przed standaryzacją danych:"
   ]
  },
  {
   "cell_type": "code",
   "execution_count": 9,
   "metadata": {},
   "outputs": [],
   "source": [
    "# Budowa oraz trenowanie modelu: \n",
    "knn = KNeighborsClassifier(n_neighbors = 21)\n",
    "knn.fit(X_train, y_train)\n",
    "\n",
    "# Predykcja na zbiorze uczącym oraz testowym:\n",
    "y_train_pred_knn = knn.predict(X_train)\n",
    "y_test_pred_knn = knn.predict(X_test)"
   ]
  },
  {
   "cell_type": "markdown",
   "metadata": {},
   "source": [
    "Zweryfikujemy dokładność modelu dla danych treningowych:"
   ]
  },
  {
   "cell_type": "code",
   "execution_count": 10,
   "metadata": {},
   "outputs": [
    {
     "data": {
      "image/png": "[encoded data removed]",
      "text/plain": [
       "<Figure size 432x288 with 2 Axes>"
      ]
     },
     "metadata": {
      "needs_background": "light"
     },
     "output_type": "display_data"
    },
    {
     "name": "stdout",
     "output_type": "stream",
     "text": [
      "              precision    recall  f1-score   support\n",
      "\n",
      "           0       0.84      0.87      0.85       288\n",
      "           1       0.71      0.66      0.68       140\n",
      "\n",
      "    accuracy                           0.80       428\n",
      "   macro avg       0.77      0.76      0.77       428\n",
      "weighted avg       0.80      0.80      0.80       428\n",
      "\n",
      "Dokładność modelu: 0.80\n",
      "Czułość modelu: 0.66\n"
     ]
    }
   ],
   "source": [
    "# Macierz błędów dla zbioru treningowego:\n",
    "dip = confusion_matrix(y_train, y_train_pred_knn)\n",
    "disp = ConfusionMatrixDisplay(dip, display_labels = knn.classes_)\n",
    "disp.plot()\n",
    "plt.show()\n",
    "\n",
    "# Dokładność modelu na danych treningowych:\n",
    "print(classification_report(y_train, y_train_pred_knn))\n",
    "print(f\"Dokładność modelu: {accuracy_score(y_train, y_train_pred_knn):0.2f}\")\n",
    "print(f\"Czułość modelu: {recall_score(y_train, y_train_pred_knn):0.2f}\")\n"
   ]
  },
  {
   "cell_type": "markdown",
   "metadata": {},
   "source": [
    "Oraz dla danych testowych:"
   ]
  },
  {
   "cell_type": "code",
   "execution_count": 11,
   "metadata": {},
   "outputs": [
    {
     "data": {
      "image/png": "[encoded data removed]",
      "text/plain": [
       "<Figure size 432x288 with 2 Axes>"
      ]
     },
     "metadata": {
      "needs_background": "light"
     },
     "output_type": "display_data"
    },
    {
     "name": "stdout",
     "output_type": "stream",
     "text": [
      "              precision    recall  f1-score   support\n",
      "\n",
      "           0       0.75      0.85      0.80       115\n",
      "           1       0.68      0.52      0.59        69\n",
      "\n",
      "    accuracy                           0.73       184\n",
      "   macro avg       0.71      0.69      0.69       184\n",
      "weighted avg       0.72      0.73      0.72       184\n",
      "\n",
      "Dokładność modelu: 0.73\n",
      "Czułość modelu: 0.52\n"
     ]
    }
   ],
   "source": [
    "# Macierz błędów dla zbioru testowego:\n",
    "dip = confusion_matrix(y_test, y_test_pred_knn)\n",
    "disp = ConfusionMatrixDisplay(dip, display_labels = knn.classes_)\n",
    "disp.plot()\n",
    "plt.show()\n",
    "\n",
    "# Dokładność modelu na danych testowych:\n",
    "print(classification_report(y_test, y_test_pred_knn))\n",
    "print(f\"Dokładność modelu: {accuracy_score(y_test, y_test_pred_knn):0.2f}\")\n",
    "print(f\"Czułość modelu: {recall_score(y_test, y_test_pred_knn):0.2f}\")"
   ]
  },
  {
   "cell_type": "markdown",
   "metadata": {},
   "source": [
    "Wykonajmy teraz standaryzację danych:"
   ]
  },
  {
   "cell_type": "code",
   "execution_count": 12,
   "metadata": {},
   "outputs": [],
   "source": [
    "scaler = StandardScaler()\n",
    "X_train[['age', 'avg_glucose_level', 'bmi']] = scaler.fit_transform(X_train[['age', 'avg_glucose_level', 'bmi']])\n",
    "X_test[['age', 'avg_glucose_level', 'bmi']] = scaler.transform(X_test[['age', 'avg_glucose_level', 'bmi']])"
   ]
  },
  {
   "cell_type": "markdown",
   "metadata": {},
   "source": [
    "Poszukajmy najlepszego $k$, na podstawie dokładności modelu."
   ]
  },
  {
   "cell_type": "code",
   "execution_count": 13,
   "metadata": {},
   "outputs": [],
   "source": [
    "k_values = range(1, 50)\n",
    "accuracy_knn = []"
   ]
  },
  {
   "cell_type": "code",
   "execution_count": 14,
   "metadata": {},
   "outputs": [],
   "source": [
    "for k in k_values:\n",
    "    knn = KNeighborsClassifier(n_neighbors = k)\n",
    "    knn.fit(X_train, y_train)\n",
    "    y_test_pred = knn.predict(X_test)\n",
    "\n",
    "    accuracy_knn.append(accuracy_score(y_test, y_test_pred))"
   ]
  },
  {
   "cell_type": "code",
   "execution_count": 15,
   "metadata": {},
   "outputs": [
    {
     "data": {
      "image/png": "[encoded data removed]",
      "text/plain": [
       "<Figure size 720x432 with 1 Axes>"
      ]
     },
     "metadata": {
      "needs_background": "light"
     },
     "output_type": "display_data"
    }
   ],
   "source": [
    "plt.figure(figsize=(10, 6))\n",
    "plt.plot(k_values, accuracy_knn, marker = 'o', label = 'Czułość', color = 'green')\n",
    "plt.xticks(range(0, 55, 5))\n",
    "plt.xlabel('Liczba sąsiadów (k)')\n",
    "plt.ylabel('Dokładność na zbiorze testowym')\n",
    "plt.title('Wpływ zmiany wartości k na czułość modelu')\n",
    "plt.grid(alpha = 0.3)\n",
    "plt.show()"
   ]
  },
  {
   "cell_type": "markdown",
   "metadata": {},
   "source": [
    "Zbudujmy model po standaryzacji danych:"
   ]
  },
  {
   "cell_type": "code",
   "execution_count": 16,
   "metadata": {},
   "outputs": [],
   "source": [
    "# Budowa oraz trenowanie modelu: \n",
    "knn = KNeighborsClassifier(n_neighbors = 21)\n",
    "knn.fit(X_train, y_train)\n",
    "\n",
    "# Predykcja na zbiorze uczącym oraz testowym:\n",
    "y_train_pred_knn = knn.predict(X_train)\n",
    "y_test_pred_knn = knn.predict(X_test)\n"
   ]
  },
  {
   "cell_type": "code",
   "execution_count": 17,
   "metadata": {},
   "outputs": [
    {
     "data": {
      "image/png": "[encoded data removed]",
      "text/plain": [
       "<Figure size 432x288 with 2 Axes>"
      ]
     },
     "metadata": {
      "needs_background": "light"
     },
     "output_type": "display_data"
    },
    {
     "name": "stdout",
     "output_type": "stream",
     "text": [
      "              precision    recall  f1-score   support\n",
      "\n",
      "           0       0.82      0.89      0.85       288\n",
      "           1       0.72      0.60      0.65       140\n",
      "\n",
      "    accuracy                           0.79       428\n",
      "   macro avg       0.77      0.74      0.75       428\n",
      "weighted avg       0.79      0.79      0.79       428\n",
      "\n",
      "Dokładność modelu: 0.79\n",
      "Czułość modelu: 0.60\n"
     ]
    }
   ],
   "source": [
    "# Macierz błędów dla zbioru treningowego:\n",
    "dip = confusion_matrix(y_train, y_train_pred_knn)\n",
    "disp = ConfusionMatrixDisplay(dip, display_labels = knn.classes_)\n",
    "disp.plot()\n",
    "plt.show()\n",
    "\n",
    "# Dokładność modelu na danych treningowych:\n",
    "print(classification_report(y_train, y_train_pred_knn))\n",
    "print(f\"Dokładność modelu: {accuracy_score(y_train, y_train_pred_knn):0.2f}\")\n",
    "print(f\"Czułość modelu: {recall_score(y_train, y_train_pred_knn):0.2f}\")"
   ]
  },
  {
   "cell_type": "code",
   "execution_count": 18,
   "metadata": {},
   "outputs": [
    {
     "data": {
      "image/png": "[encoded data removed]",
      "text/plain": [
       "<Figure size 432x288 with 2 Axes>"
      ]
     },
     "metadata": {
      "needs_background": "light"
     },
     "output_type": "display_data"
    },
    {
     "name": "stdout",
     "output_type": "stream",
     "text": [
      "              precision    recall  f1-score   support\n",
      "\n",
      "           0       0.76      0.89      0.82       115\n",
      "           1       0.73      0.52      0.61        69\n",
      "\n",
      "    accuracy                           0.75       184\n",
      "   macro avg       0.75      0.70      0.71       184\n",
      "weighted avg       0.75      0.75      0.74       184\n",
      "\n",
      "Dokładność modelu: 0.75\n",
      "Czułość modelu: 0.52\n"
     ]
    }
   ],
   "source": [
    "# Macierz błędów dla zbioru testowego:\n",
    "dip = confusion_matrix(y_test, y_test_pred_knn)\n",
    "disp = ConfusionMatrixDisplay(dip, display_labels = knn.classes_)\n",
    "disp.plot()\n",
    "plt.show()\n",
    "\n",
    "# Dokładność modelu na danych testowych:\n",
    "print(classification_report(y_test, y_test_pred_knn))\n",
    "print(f\"Dokładność modelu: {accuracy_score(y_test, y_test_pred_knn):0.2f}\")\n",
    "print(f\"Czułość modelu: {recall_score(y_test, y_test_pred_knn):0.2f}\")"
   ]
  },
  {
   "cell_type": "markdown",
   "metadata": {},
   "source": [
    "Jak widzimy, dokładność oraz czułość modelu dla $k = 21$ zwiększyła się po przeprowadzeniu standaryzacji danych.  \n",
    "Bez standaryzacji dokładność modelu była równa $80\\%$ na danych treningowych i $73\\%$ dla danych testowych.\n",
    "Po standaryzacji model osiągnął dokładność na poziomie $79\\%$ dla danych treningowych oraz $75\\%$ dla danych testowych.  \n",
    "Wynik jest __lepszy__ dla __danych po standaryzacji__."
   ]
  },
  {
   "cell_type": "markdown",
   "metadata": {},
   "source": [
    "#### Zadanie 3. Metoda KKNN"
   ]
  },
  {
   "cell_type": "markdown",
   "metadata": {},
   "source": [
    "* __Co odróżnia metodę KKNN od metody KNN?__<br><br>\n",
    "Metoda KKNN - inaczej ważona metoda $k$ najbliższych sąsiadów różni się od klasycznej metody KNN sposobem uwzględniania sąsiadów. W ważonej metodzie KNN sąsiedzi mają różne wagi w zależności od tego w jakiej odległości od próbki się znajdują, bliżsi sąsiedzi mają większy wpływ na wynik predykcji, niż Ci którzy znajdują się dalej od próbki. W klasycznej metodzie KNN każdy z sąsiadów ma równy wpływ na wynik klasyfikacji bądź regresji. \n",
    "<br><br>\n",
    "* __Czy w metodzi tej występują ograniczenia dotyczące wyboru wartości k?__<br><br>\n",
    "W metodzie KKNN obowiązują te same zasady co do wybnoru $k$ jak w przypadku klasycznej metody KNN. Ponieważ w ważonym KNN sąsiedzi dalej położeni mają mniejszy wpływ na wynik, większe wartości $k$ mogą być korzystniejsze niż w klasycznym KNN, bez ryzyka nadmiernego rozmycia granic klas.\n",
    "<br><br>\n",
    "* __Zastosować metodę KKNN i porównać wyniki z tymi z zadania 2.__"
   ]
  },
  {
   "cell_type": "markdown",
   "metadata": {},
   "source": [
    "Zbudujmy model dla ważonej metody KNN:"
   ]
  },
  {
   "cell_type": "code",
   "execution_count": 19,
   "metadata": {},
   "outputs": [],
   "source": [
    "kknn = KNeighborsClassifier(n_neighbors = 21, weights = 'distance') # waga to odleglość\n",
    "kknn.fit(X_train, y_train)\n",
    "\n",
    "y_train_pred_kknn = kknn.predict(X_train)\n",
    "y_test_pred_kknn = kknn.predict(X_test)\n",
    "\n"
   ]
  },
  {
   "cell_type": "code",
   "execution_count": 20,
   "metadata": {},
   "outputs": [
    {
     "data": {
      "image/png": "[encoded data removed]",
      "text/plain": [
       "<Figure size 432x288 with 2 Axes>"
      ]
     },
     "metadata": {
      "needs_background": "light"
     },
     "output_type": "display_data"
    },
    {
     "name": "stdout",
     "output_type": "stream",
     "text": [
      "              precision    recall  f1-score   support\n",
      "\n",
      "           0       1.00      1.00      1.00       288\n",
      "           1       1.00      1.00      1.00       140\n",
      "\n",
      "    accuracy                           1.00       428\n",
      "   macro avg       1.00      1.00      1.00       428\n",
      "weighted avg       1.00      1.00      1.00       428\n",
      "\n",
      "Dokładność modelu: 1.00\n",
      "Czułość modelu: 1.00\n"
     ]
    }
   ],
   "source": [
    "# Macierz błędów dla zbioru treningowego:\n",
    "dip = confusion_matrix(y_train, y_train_pred_kknn)\n",
    "disp = ConfusionMatrixDisplay(dip, display_labels = kknn.classes_)\n",
    "disp.plot()\n",
    "plt.show()\n",
    "\n",
    "# Dokładność modelu na danych treningowych:\n",
    "print(classification_report(y_train, y_train_pred_kknn))\n",
    "print(f\"Dokładność modelu: {accuracy_score(y_train, y_train_pred_kknn):0.2f}\")\n",
    "print(f\"Czułość modelu: {recall_score(y_train, y_train_pred_kknn):0.2f}\")"
   ]
  },
  {
   "cell_type": "code",
   "execution_count": 21,
   "metadata": {},
   "outputs": [
    {
     "data": {
      "image/png": "[encoded data removed]",
      "text/plain": [
       "<Figure size 432x288 with 2 Axes>"
      ]
     },
     "metadata": {
      "needs_background": "light"
     },
     "output_type": "display_data"
    },
    {
     "name": "stdout",
     "output_type": "stream",
     "text": [
      "              precision    recall  f1-score   support\n",
      "\n",
      "           0       0.74      0.88      0.80       115\n",
      "           1       0.71      0.49      0.58        69\n",
      "\n",
      "    accuracy                           0.73       184\n",
      "   macro avg       0.73      0.69      0.69       184\n",
      "weighted avg       0.73      0.73      0.72       184\n",
      "\n",
      "Dokładność modelu: 0.73\n",
      "Czułość modelu: 0.49\n"
     ]
    }
   ],
   "source": [
    "# Macierz błędów dla zbioru testowego:\n",
    "dip = confusion_matrix(y_test, y_test_pred_kknn)\n",
    "disp = ConfusionMatrixDisplay(dip, display_labels = kknn.classes_)\n",
    "disp.plot()\n",
    "plt.show()\n",
    "\n",
    "# Dokładność modelu na danych testowych:\n",
    "print(classification_report(y_test, y_test_pred_kknn))\n",
    "print(f\"Dokładność modelu: {accuracy_score(y_test, y_test_pred_kknn):0.2f}\")\n",
    "print(f\"Czułość modelu: {recall_score(y_test, y_test_pred_kknn):0.2f}\")"
   ]
  },
  {
   "cell_type": "markdown",
   "metadata": {},
   "source": [
    "Porównanie wyników dla $k = 21$:\n",
    " \n",
    "**Dla klasycznego KNN:**\n",
    "- **$79\\%$** dla zbioru uczącego i **$75\\%$** dla zbioru testowego\n",
    " \n",
    "**Dla KKNN:**\n",
    "- **$100\\%$** dla zbioru uczącego i **$74\\%$** dla zbioru testowego\n",
    " \n",
    "Zatem wynik dla __zbioru testowego__ otrzymaliśmy __gorszy__ dla ważonej metody KNN, natomiast metoda ta znacznie lepiej poradziła sobie ze zbiorem uczącym."
   ]
  },
  {
   "cell_type": "markdown",
   "metadata": {},
   "source": [
    "Spróbujmy zatem odszukać najlepszą wartość $k$ dla modelu KKNN bazując na dokładności modelu na zbiorze danych testowych."
   ]
  },
  {
   "cell_type": "code",
   "execution_count": 22,
   "metadata": {},
   "outputs": [],
   "source": [
    "k_values = range(1, 70)\n",
    "accuracy_kknn = []\n",
    "\n",
    "for k in k_values:\n",
    "    knn = KNeighborsClassifier(n_neighbors = k, weights = 'distance')\n",
    "    knn.fit(X_train, y_train)\n",
    "    y_test_pred = knn.predict(X_test)\n",
    "    \n",
    "    accuracy_kknn.append(accuracy_score(y_test, y_test_pred))"
   ]
  },
  {
   "cell_type": "code",
   "execution_count": 23,
   "metadata": {},
   "outputs": [
    {
     "data": {
      "image/png": "[encoded data removed]",
      "text/plain": [
       "<Figure size 720x432 with 1 Axes>"
      ]
     },
     "metadata": {
      "needs_background": "light"
     },
     "output_type": "display_data"
    }
   ],
   "source": [
    "plt.figure(figsize=(10, 6))\n",
    "plt.plot(k_values, accuracy_kknn, marker = 'o', label = 'Czułość', color = 'green')\n",
    "plt.xticks(range(0, 75, 5))\n",
    "plt.xlabel('Liczba sąsiadów (k)')\n",
    "plt.ylabel('Dokładność na zbiorze testowym')\n",
    "plt.title('Wpływ zmiany wartości k na czułość modelu')\n",
    "plt.grid(alpha = 0.3)\n",
    "plt.show()\n"
   ]
  },
  {
   "cell_type": "markdown",
   "metadata": {},
   "source": [
    "Z wykresu możemy odczytać, że najwyższą dokładność modelu KKNN uzyskamy między innymi dla $k = 45$."
   ]
  },
  {
   "cell_type": "markdown",
   "metadata": {},
   "source": [
    "Zbudujmy model dla $k = 45$:"
   ]
  },
  {
   "cell_type": "code",
   "execution_count": 24,
   "metadata": {},
   "outputs": [],
   "source": [
    "kknn = KNeighborsClassifier(n_neighbors = 45, weights = 'distance') # waga to odleglość\n",
    "kknn.fit(X_train, y_train)\n",
    "\n",
    "y_train_pred_kknn = kknn.predict(X_train)\n",
    "y_test_pred_kknn = kknn.predict(X_test)"
   ]
  },
  {
   "cell_type": "code",
   "execution_count": 25,
   "metadata": {},
   "outputs": [
    {
     "data": {
      "image/png": "[encoded data removed]",
      "text/plain": [
       "<Figure size 432x288 with 2 Axes>"
      ]
     },
     "metadata": {
      "needs_background": "light"
     },
     "output_type": "display_data"
    },
    {
     "name": "stdout",
     "output_type": "stream",
     "text": [
      "              precision    recall  f1-score   support\n",
      "\n",
      "           0       1.00      1.00      1.00       288\n",
      "           1       1.00      1.00      1.00       140\n",
      "\n",
      "    accuracy                           1.00       428\n",
      "   macro avg       1.00      1.00      1.00       428\n",
      "weighted avg       1.00      1.00      1.00       428\n",
      "\n",
      "Dokładność modelu: 1.00\n",
      "Czułość modelu: 1.00\n"
     ]
    }
   ],
   "source": [
    "# Macierz błędów dla zbioru treningowego:\n",
    "dip = confusion_matrix(y_train, y_train_pred_kknn)\n",
    "disp = ConfusionMatrixDisplay(dip, display_labels = kknn.classes_)\n",
    "disp.plot()\n",
    "plt.show()\n",
    "\n",
    "# Dokładność modelu na danych treningowych:\n",
    "print(classification_report(y_train, y_train_pred_kknn))\n",
    "print(f\"Dokładność modelu: {accuracy_score(y_train, y_train_pred_kknn):0.2f}\")\n",
    "print(f\"Czułość modelu: {recall_score(y_train, y_train_pred_kknn):0.2f}\")"
   ]
  },
  {
   "cell_type": "code",
   "execution_count": 26,
   "metadata": {},
   "outputs": [
    {
     "data": {
      "image/png": "[encoded data removed]",
      "text/plain": [
       "<Figure size 432x288 with 2 Axes>"
      ]
     },
     "metadata": {
      "needs_background": "light"
     },
     "output_type": "display_data"
    },
    {
     "name": "stdout",
     "output_type": "stream",
     "text": [
      "              precision    recall  f1-score   support\n",
      "\n",
      "           0       0.75      0.89      0.81       115\n",
      "           1       0.73      0.51      0.60        69\n",
      "\n",
      "    accuracy                           0.74       184\n",
      "   macro avg       0.74      0.70      0.71       184\n",
      "weighted avg       0.74      0.74      0.73       184\n",
      "\n",
      "Dokładność modelu: 0.74\n",
      "Czułość modelu: 0.51\n"
     ]
    }
   ],
   "source": [
    "# Macierz błędów dla zbioru testowego:\n",
    "dip = confusion_matrix(y_test, y_test_pred_kknn)\n",
    "disp = ConfusionMatrixDisplay(dip, display_labels = kknn.classes_)\n",
    "disp.plot()\n",
    "plt.show()\n",
    "\n",
    "# Dokładność modelu na danych testowych:\n",
    "print(classification_report(y_test, y_test_pred_kknn))\n",
    "print(f\"Dokładność modelu: {accuracy_score(y_test, y_test_pred_kknn):0.2f}\")\n",
    "print(f\"Czułość modelu: {recall_score(y_test, y_test_pred_kknn):0.2f}\")"
   ]
  },
  {
   "cell_type": "markdown",
   "metadata": {},
   "source": [
    "Dokładność modelu dla $k = 45$ jest równa $74\\%$ dla zbioru testowego, co daje nam lepszy wynik niż dla $k = 21$, ale wciąż gorszy niż uzyskany dla klasycznej metody KKN.  \n",
    "Tak jak wcześniej wspominaliśmy, w metodzie KKNN większe wartości $k$ częściej znajdują zastosowanie niż w klasycznej metodzie KNN. Obserwacje, które są dalej od próbki mają mniejszych wpływ na predykcję, niż te, które znajdują się bliżej, co zmniejsza ryzyko rozmycia klas. "
   ]
  },
  {
   "cell_type": "markdown",
   "metadata": {},
   "source": [
    "### Zadanie 4. Regresja logistyczna"
   ]
  },
  {
   "cell_type": "markdown",
   "metadata": {},
   "source": [
    "Zadanie 4. Regresja logistyczna\n",
    "\n",
    "* __Jakie są założenie regresji logistycznej?__\n",
    "    - Brak liniowości między zmienną zależną a zmiennymi niezależnymi  \n",
    "    W przeciwieństwie do regresji liniowej, regresja logistyczna nie wymaga aby między zmienną objaśnianą a zmiennymi objaśniającymi istniała zależność liniowa.<br><br>\n",
    "    - Brak współliniowości  \n",
    "    W regresji logistycznej jak i wielu modelach liniowych, współliniowości może prowadzić do niestabilnych oszacowań parametrów oraz utrudnionej interpretowalności.<br><br>\n",
    "    - Niezależność obserwacji  \n",
    "    Oznacza to, że każda oberwacja w zbiorze danych jest statystycznie niezależna od pozostałych. Wartość jednej próby nie powinna wpływać na wartość innej próby.<br><br>\n",
    "    - Zmienność danych  \n",
    "    Rozkład reszt nie jest rozkładem normalnym, co różni regresję logistyczną od liniowej.<br><br>\n",
    "    - Preferowany większy rozmiar próby  \n",
    "    Regresja logistyczna daje wiarygodne i stabilne wyniki, gdy bierze się pod uwagę większy rozmiar próby zbioru danych.\n",
    "    \n",
    "* __Jak metoda ta radzi sobie ze zmiennymi kategorycznymi?__<br><br>\n",
    "W regresji logistycznej zmienne kategoryczne należy zamienić na zmienne binarne, tzw. dummy variables, tak jak w przypadku metody KNN. Niemniej jednak duża ilość zmiennych kategorycznych może negatywnie wpływać na regresję logistyczną. W przypakach gdy każda zmienna ma wiele unikatowych wartości, może to prowadzić do problemu wysokiej wymiarowości, przez co model jest bardziej poddatny na przetrenowanie oraz wymaga większej liczby danych.<br>\n",
    "\n",
    "* __Czy w przypadku regresji logistycznej konieczna jest standaryzacja danych?__<br><br>\n",
    "Standaryzacja danych nie jest wymagana, ale jest zalecana w przypadku regresji logistycznej, gdy **zmienne mają różne skale** - standaryzacja sprawia, że modele szybciej osiągają zbieżność i są mniej podatne na dominację jednej zmiennej nad innymi. Standaryzacja może też poprawić interpretację współczynników i ułatwia porównanie zmiennych.<br>\n",
    "\n",
    "* __Czy wartości odstające mają wpływ na uzyskiwane tą metodą wyniki?__<br><br>\n",
    "Tak, wartości odstające mogą negatywnie wpływać na wyniki uzyskiwane metodą regresji logistycznej, dzieje się tak ponieważ metody optymalizacji (maksymalizacja funkcji prawdopodobieństwa) są wrażliwe na ekstremalne wartości.<br>\n",
    "\n",
    "* __W jaki sposób należy interpretować wyniki (wartości parametrów) uzyskiwane w regresji logistycznej? Przedstawić i zinterpretować wartości parametrów uzyskane podczas budowy modelu regresji logistycznej.__<br><br>\n",
    "Wartości parametrów uzyskane dla wytrenowanego modelu pokazują nam jaki indywidualny wpływ dana zmienna ma na prawdopodobieństwo przynależności do klasy pozytywnej. Gdy współczynnik przy zmiennej niezależnej jest dodatni zmienna zwiększa prawdopodobieństwo, natomiast ujemny współczynnik mówi nam, że zmienna zmniejsza prawdopodobieństwo przynależności do klasy pozytywnej. Wyraz wolny $\\beta_0$ reprezentuje iloraz szans dla prawdopodobieństwa przynależności do klasy pozytywnej przy założeniu, że nie występują inne zmienne niezależne.\n",
    "\n",
    "* __Co to jest próg odcięcia? Zweryfikować jak zmiana progu odcięcia wpływa na uzyskiwane wyniki.__<br><br>\n",
    "Progiem odcięcia w modelu regresji logistycznej nazywamy wartość, powyżej której przypisujemy obserwację do jednej klasy, a poniżej której do drugiej klasy. Jest to punkt graniczny, który pozwala na dokonanie decyzji o przynależności danego obiektu do jednej z klas na podstawie wartości przewidywanego prawdopodobieństwa. Ustalenie punktu odcięcia jest szczególnie istotne, gdy mamy doczynienia z dysproporcją w danych. Dla domyślnego punktu odcięcia $0.5$ model często ignoruje klasę mniejszościową i częściej przypisuje obserwacje do klasy większościowej.  \n",
    "Zmniejszenie punktu odcięcia powoduje częste klasyfikowanie obserwacji jako pozytywne, co prowadzi do zwiększenia czułości i w konsekwencji do zmniejszenia specyficzności. Natomiast zwiększenie wartości punktu odcięcia skutkuje częstym klasyfikowanie obserwacji jako negatywne, co w przeciwny sposób, zwiększa nam specyficzność i obniża czułość modelu."
   ]
  },
  {
   "cell_type": "markdown",
   "metadata": {},
   "source": [
    "Ponownie wczytujemy dane, oraz zamieniamy zmienne kateogryczne na zmienne binarne:"
   ]
  },
  {
   "cell_type": "code",
   "execution_count": 27,
   "metadata": {},
   "outputs": [],
   "source": [
    "data = pd.read_csv('/Users/aniamarjankowska/Documents/IiE/I semestr/Machine Learning/Laby/stroke_zaj1.csv', sep = ';', decimal = ',')\n",
    "\n",
    "gender_dummies = pd.get_dummies(data['gender'], dtype = int, drop_first = True)\n",
    "ever_married_dummies = pd.get_dummies(data['ever_married'], dtype = int, drop_first = True)\n",
    "work_type_dummies = pd.get_dummies(data['work_type'], dtype = int, drop_first = True)\n",
    "residence_type_dummies = pd.get_dummies(data['Residence_type'], dtype = int, drop_first = True)\n",
    "smoking_status_dummies = pd.get_dummies(data['smoking_status'], dtype = int, drop_first = True)\n",
    "\n",
    "data = pd.concat([gender_dummies, data[['age', 'hypertension', 'heart_disease']], ever_married_dummies, work_type_dummies, \n",
    "        residence_type_dummies, data[['avg_glucose_level', 'bmi',]], smoking_status_dummies, data[['stroke']]], axis = 1)\n",
    "\n",
    "data = data.rename(columns = {'Yes': 'ever_married'})"
   ]
  },
  {
   "cell_type": "markdown",
   "metadata": {},
   "source": [
    "Dzielimy zbiór na zbiór uczący oraz testowy, w proporcji $70/30$:"
   ]
  },
  {
   "cell_type": "code",
   "execution_count": 28,
   "metadata": {},
   "outputs": [],
   "source": [
    "X = data.drop(\"stroke\", axis = 1)\n",
    "y = data.stroke\n",
    "X_train, X_test, y_train, y_test = train_test_split(X, y, test_size = 0.3, random_state = 42)"
   ]
  },
  {
   "cell_type": "markdown",
   "metadata": {},
   "source": [
    "Wykonujemy standaryzację danych:"
   ]
  },
  {
   "cell_type": "code",
   "execution_count": 29,
   "metadata": {},
   "outputs": [],
   "source": [
    "scaler = StandardScaler()\n",
    "X_train[['age', 'avg_glucose_level', 'bmi']] = scaler.fit_transform(X_train[['age', 'avg_glucose_level', 'bmi']])\n",
    "X_test[['age', 'avg_glucose_level', 'bmi']] = scaler.transform(X_test[['age', 'avg_glucose_level', 'bmi']])"
   ]
  },
  {
   "cell_type": "markdown",
   "metadata": {},
   "source": [
    "Budujemy model regresji liniowej dla punktu odcięcia $0.5$:"
   ]
  },
  {
   "cell_type": "code",
   "execution_count": 30,
   "metadata": {},
   "outputs": [
    {
     "data": {
      "text/plain": [
       "LogisticRegression(max_iter=3000)"
      ]
     },
     "execution_count": 30,
     "metadata": {},
     "output_type": "execute_result"
    }
   ],
   "source": [
    "lr = LogisticRegression(max_iter = 3000) # ze względu na dużą liczę zmiennych kategorycznych, zwiększam max_iter na 3000\n",
    "lr.fit(X_train, y_train)"
   ]
  },
  {
   "cell_type": "code",
   "execution_count": 31,
   "metadata": {},
   "outputs": [],
   "source": [
    "y_train_pred_lr = lr.predict(X_train)\n",
    "y_train_proba_lr = lr.predict_proba(X_train)\n",
    "\n",
    "y_test_pred_lr = lr.predict(X_test)\n",
    "y_test_proba_lr = lr.predict_proba(X_test)"
   ]
  },
  {
   "cell_type": "markdown",
   "metadata": {},
   "source": [
    "Wartości prawdopodobieństwa przynależności do klas $[0, 1]$ dla zbioru testowego:"
   ]
  },
  {
   "cell_type": "code",
   "execution_count": 32,
   "metadata": {},
   "outputs": [
    {
     "name": "stdout",
     "output_type": "stream",
     "text": [
      "[[0.6283218  0.3716782 ]\n",
      " [0.93177235 0.06822765]\n",
      " [0.73172362 0.26827638]\n",
      " [0.97770513 0.02229487]\n",
      " [0.90984668 0.09015332]\n",
      " [0.60541513 0.39458487]\n",
      " [0.93429118 0.06570882]\n",
      " [0.51852871 0.48147129]\n",
      " [0.78030543 0.21969457]\n",
      " [0.97738593 0.02261407]\n",
      " [0.93371837 0.06628163]\n",
      " [0.84569481 0.15430519]\n",
      " [0.46306926 0.53693074]\n",
      " [0.17031936 0.82968064]\n",
      " [0.60787576 0.39212424]\n",
      " [0.97349404 0.02650596]\n",
      " [0.6772399  0.3227601 ]\n",
      " [0.86236481 0.13763519]\n",
      " [0.72314046 0.27685954]\n",
      " [0.75101238 0.24898762]\n",
      " [0.28871533 0.71128467]\n",
      " [0.86480276 0.13519724]\n",
      " [0.70277922 0.29722078]\n",
      " [0.86862284 0.13137716]\n",
      " [0.7853617  0.2146383 ]\n",
      " [0.98019595 0.01980405]\n",
      " [0.88901088 0.11098912]\n",
      " [0.53556436 0.46443564]\n",
      " [0.97134432 0.02865568]\n",
      " [0.98383305 0.01616695]\n",
      " [0.42951394 0.57048606]\n",
      " [0.91100442 0.08899558]\n",
      " [0.88639628 0.11360372]\n",
      " [0.97154512 0.02845488]\n",
      " [0.96935371 0.03064629]\n",
      " [0.91522811 0.08477189]\n",
      " [0.1726701  0.8273299 ]\n",
      " [0.25751468 0.74248532]\n",
      " [0.84491692 0.15508308]\n",
      " [0.33343896 0.66656104]\n",
      " [0.97675104 0.02324896]\n",
      " [0.34466909 0.65533091]\n",
      " [0.42337114 0.57662886]\n",
      " [0.67960102 0.32039898]\n",
      " [0.794971   0.205029  ]\n",
      " [0.74684651 0.25315349]\n",
      " [0.22916474 0.77083526]\n",
      " [0.96517685 0.03482315]\n",
      " [0.57531588 0.42468412]\n",
      " [0.74740625 0.25259375]\n",
      " [0.9768591  0.0231409 ]\n",
      " [0.12112349 0.87887651]\n",
      " [0.7136248  0.2863752 ]\n",
      " [0.63468709 0.36531291]\n",
      " [0.97702324 0.02297676]\n",
      " [0.83286256 0.16713744]\n",
      " [0.8516825  0.1483175 ]\n",
      " [0.25264423 0.74735577]\n",
      " [0.14698743 0.85301257]\n",
      " [0.97572492 0.02427508]\n",
      " [0.91800061 0.08199939]\n",
      " [0.38200546 0.61799454]\n",
      " [0.47691765 0.52308235]\n",
      " [0.96381514 0.03618486]\n",
      " [0.75716467 0.24283533]\n",
      " [0.35385648 0.64614352]\n",
      " [0.97515319 0.02484681]\n",
      " [0.64983899 0.35016101]\n",
      " [0.8274022  0.1725978 ]\n",
      " [0.79362397 0.20637603]\n",
      " [0.23326744 0.76673256]\n",
      " [0.87799846 0.12200154]\n",
      " [0.39080871 0.60919129]\n",
      " [0.84249539 0.15750461]\n",
      " [0.39636399 0.60363601]\n",
      " [0.71884625 0.28115375]\n",
      " [0.28640449 0.71359551]\n",
      " [0.72750335 0.27249665]\n",
      " [0.97763124 0.02236876]\n",
      " [0.84812841 0.15187159]\n",
      " [0.97227766 0.02772234]\n",
      " [0.96436508 0.03563492]\n",
      " [0.69996427 0.30003573]\n",
      " [0.51417481 0.48582519]\n",
      " [0.84624605 0.15375395]\n",
      " [0.98239274 0.01760726]\n",
      " [0.91867205 0.08132795]\n",
      " [0.91460024 0.08539976]\n",
      " [0.93324155 0.06675845]\n",
      " [0.28277492 0.71722508]\n",
      " [0.24154047 0.75845953]\n",
      " [0.96293733 0.03706267]\n",
      " [0.77802842 0.22197158]\n",
      " [0.41160182 0.58839818]\n",
      " [0.29796414 0.70203586]\n",
      " [0.26768045 0.73231955]\n",
      " [0.41421885 0.58578115]\n",
      " [0.93585975 0.06414025]\n",
      " [0.23095467 0.76904533]\n",
      " [0.78611808 0.21388192]\n",
      " [0.94740979 0.05259021]\n",
      " [0.63323543 0.36676457]\n",
      " [0.34012929 0.65987071]\n",
      " [0.85194058 0.14805942]\n",
      " [0.17670563 0.82329437]\n",
      " [0.97772005 0.02227995]\n",
      " [0.95888217 0.04111783]\n",
      " [0.82534266 0.17465734]\n",
      " [0.17471818 0.82528182]\n",
      " [0.88960653 0.11039347]\n",
      " [0.78760914 0.21239086]\n",
      " [0.24213743 0.75786257]\n",
      " [0.23794226 0.76205774]\n",
      " [0.31829103 0.68170897]\n",
      " [0.58439891 0.41560109]\n",
      " [0.39702736 0.60297264]\n",
      " [0.66946003 0.33053997]\n",
      " [0.77879821 0.22120179]\n",
      " [0.96638178 0.03361822]\n",
      " [0.87173603 0.12826397]\n",
      " [0.61497803 0.38502197]\n",
      " [0.60111022 0.39888978]\n",
      " [0.28046442 0.71953558]\n",
      " [0.96175484 0.03824516]\n",
      " [0.12072223 0.87927777]\n",
      " [0.89911536 0.10088464]\n",
      " [0.58005755 0.41994245]\n",
      " [0.85366502 0.14633498]\n",
      " [0.96613003 0.03386997]\n",
      " [0.36877933 0.63122067]\n",
      " [0.11722988 0.88277012]\n",
      " [0.34641724 0.65358276]\n",
      " [0.80892759 0.19107241]\n",
      " [0.58991225 0.41008775]\n",
      " [0.71830707 0.28169293]\n",
      " [0.9345302  0.0654698 ]\n",
      " [0.75138539 0.24861461]\n",
      " [0.67661755 0.32338245]\n",
      " [0.9834542  0.0165458 ]\n",
      " [0.37372162 0.62627838]\n",
      " [0.27821668 0.72178332]\n",
      " [0.72534557 0.27465443]\n",
      " [0.97844699 0.02155301]\n",
      " [0.8247632  0.1752368 ]\n",
      " [0.76020996 0.23979004]\n",
      " [0.05308313 0.94691687]\n",
      " [0.7886611  0.2113389 ]\n",
      " [0.26324659 0.73675341]\n",
      " [0.62303857 0.37696143]\n",
      " [0.68900154 0.31099846]\n",
      " [0.72060892 0.27939108]\n",
      " [0.95864371 0.04135629]\n",
      " [0.95859148 0.04140852]\n",
      " [0.7610352  0.2389648 ]\n",
      " [0.87758187 0.12241813]\n",
      " [0.26804264 0.73195736]\n",
      " [0.39384401 0.60615599]\n",
      " [0.60921604 0.39078396]\n",
      " [0.88222038 0.11777962]\n",
      " [0.39881144 0.60118856]\n",
      " [0.96925738 0.03074262]\n",
      " [0.9796817  0.0203183 ]\n",
      " [0.52915266 0.47084734]\n",
      " [0.97381404 0.02618596]\n",
      " [0.98015624 0.01984376]\n",
      " [0.36096547 0.63903453]\n",
      " [0.65786832 0.34213168]\n",
      " [0.45367933 0.54632067]\n",
      " [0.31443371 0.68556629]\n",
      " [0.68155056 0.31844944]\n",
      " [0.538798   0.461202  ]\n",
      " [0.83687774 0.16312226]\n",
      " [0.27762914 0.72237086]\n",
      " [0.20159918 0.79840082]\n",
      " [0.82224019 0.17775981]\n",
      " [0.49143378 0.50856622]\n",
      " [0.52259803 0.47740197]\n",
      " [0.92394603 0.07605397]\n",
      " [0.98028094 0.01971906]\n",
      " [0.6272132  0.3727868 ]\n",
      " [0.94969464 0.05030536]\n",
      " [0.74324297 0.25675703]\n",
      " [0.27543278 0.72456722]\n",
      " [0.79682674 0.20317326]]\n"
     ]
    }
   ],
   "source": [
    "print(y_test_proba_lr)"
   ]
  },
  {
   "cell_type": "markdown",
   "metadata": {},
   "source": [
    "Wyniki predykcji dla zbioru testowego:"
   ]
  },
  {
   "cell_type": "code",
   "execution_count": 33,
   "metadata": {},
   "outputs": [
    {
     "name": "stdout",
     "output_type": "stream",
     "text": [
      "[0 0 0 0 0 0 0 0 0 0 0 0 1 1 0 0 0 0 0 0 1 0 0 0 0 0 0 0 0 0 1 0 0 0 0 0 1\n",
      " 1 0 1 0 1 1 0 0 0 1 0 0 0 0 1 0 0 0 0 0 1 1 0 0 1 1 0 0 1 0 0 0 0 1 0 1 0\n",
      " 1 0 1 0 0 0 0 0 0 0 0 0 0 0 0 1 1 0 0 1 1 1 1 0 1 0 0 0 1 0 1 0 0 0 1 0 0\n",
      " 1 1 1 0 1 0 0 0 0 0 0 1 0 1 0 0 0 0 1 1 1 0 0 0 0 0 0 0 1 1 0 0 0 0 1 0 1\n",
      " 0 0 0 0 0 0 0 1 1 0 0 1 0 0 0 0 0 1 0 1 1 0 0 0 1 1 0 1 0 0 0 0 0 0 1 0]\n"
     ]
    }
   ],
   "source": [
    "print(y_test_pred_lr)"
   ]
  },
  {
   "cell_type": "markdown",
   "metadata": {},
   "source": [
    "Sprawdźmy teraz jak wyglądają macierze błędów oraz dokładność modelu dla danych treningowych jak i testowych."
   ]
  },
  {
   "cell_type": "code",
   "execution_count": 34,
   "metadata": {},
   "outputs": [
    {
     "data": {
      "image/png": "[encoded data removed]",
      "text/plain": [
       "<Figure size 432x288 with 2 Axes>"
      ]
     },
     "metadata": {
      "needs_background": "light"
     },
     "output_type": "display_data"
    },
    {
     "name": "stdout",
     "output_type": "stream",
     "text": [
      "              precision    recall  f1-score   support\n",
      "\n",
      "           0       0.83      0.86      0.85       288\n",
      "           1       0.69      0.65      0.67       140\n",
      "\n",
      "    accuracy                           0.79       428\n",
      "   macro avg       0.76      0.75      0.76       428\n",
      "weighted avg       0.79      0.79      0.79       428\n",
      "\n",
      "Dokładność modelu to: 0.79\n",
      "Czułość modelu to: 0.65\n"
     ]
    }
   ],
   "source": [
    "# Macierz błędów dla danych treningowych\n",
    "cm = confusion_matrix(y_train, y_train_pred_lr)\n",
    "cmplot = ConfusionMatrixDisplay(cm, display_labels = lr.classes_)\n",
    "cmplot.plot()\n",
    "plt.show()\n",
    "\n",
    "# Dokładność i czułość dla danych treningowych:\n",
    "print(classification_report(y_train, y_train_pred_lr))\n",
    "print(f\"Dokładność modelu to: {accuracy_score(y_train, y_train_pred_lr):.2f}\")\n",
    "print(f\"Czułość modelu to: {recall_score(y_train, y_train_pred_lr):.2f}\")"
   ]
  },
  {
   "cell_type": "code",
   "execution_count": 35,
   "metadata": {},
   "outputs": [
    {
     "data": {
      "image/png": "[encoded data removed]",
      "text/plain": [
       "<Figure size 432x288 with 2 Axes>"
      ]
     },
     "metadata": {
      "needs_background": "light"
     },
     "output_type": "display_data"
    },
    {
     "name": "stdout",
     "output_type": "stream",
     "text": [
      "              precision    recall  f1-score   support\n",
      "\n",
      "           0       0.76      0.87      0.81       115\n",
      "           1       0.72      0.55      0.62        69\n",
      "\n",
      "    accuracy                           0.75       184\n",
      "   macro avg       0.74      0.71      0.72       184\n",
      "weighted avg       0.75      0.75      0.74       184\n",
      "\n",
      "Dokładność modelu to: 0.75\n",
      "Czułość modelu to: 0.55\n"
     ]
    }
   ],
   "source": [
    "# Macierz błędów dla danych testowych\n",
    "cm = confusion_matrix(y_test, y_test_pred_lr)\n",
    "cmplot = ConfusionMatrixDisplay(cm, display_labels = lr.classes_)\n",
    "cmplot.plot()\n",
    "plt.show()\n",
    "\n",
    "# Dokładność i czułość dla danych testowych:\n",
    "print(classification_report(y_test, y_test_pred_lr))\n",
    "print(f\"Dokładność modelu to: {accuracy_score(y_test, y_test_pred_lr):.2f}\")\n",
    "print(f\"Czułość modelu to: {recall_score(y_test, y_test_pred_lr):.2f}\")"
   ]
  },
  {
   "cell_type": "code",
   "execution_count": 36,
   "metadata": {},
   "outputs": [
    {
     "name": "stdout",
     "output_type": "stream",
     "text": [
      "Współczynniki: [[ 0.20396225  1.49006479  0.74546017  0.24580576 -0.24610052  0.11995374\n",
      "   0.06522074  0.41984758 -0.02245695  0.25537794 -0.10311852 -0.21536978\n",
      "  -0.17718254  0.26812617]]\n",
      "Wyraz wolny: [-1.16828543]\n"
     ]
    }
   ],
   "source": [
    "coefficients = lr.coef_\n",
    "intercept = lr.intercept_\n",
    "print(\"Współczynniki:\", coefficients)\n",
    "print(\"Wyraz wolny:\", intercept)"
   ]
  },
  {
   "cell_type": "markdown",
   "metadata": {},
   "source": [
    "Dokładność modelu regresji logistycznej na danych treningowych wynosi $79\\%$ a dla danych testowych $75\\%$."
   ]
  },
  {
   "cell_type": "markdown",
   "metadata": {},
   "source": [
    "Przetestujmy teraz regresję logistyczną z innym punktem odcięcia."
   ]
  },
  {
   "cell_type": "code",
   "execution_count": 37,
   "metadata": {},
   "outputs": [],
   "source": [
    "y_train_proba_lr = lr.predict_proba(X_train)[:, 1] # Wybieramy tylko prawdopodobieństwa dla klasy 1\n",
    "y_test_proba_lr = lr.predict_proba(X_test)[:, 1]  "
   ]
  },
  {
   "cell_type": "code",
   "execution_count": 38,
   "metadata": {},
   "outputs": [
    {
     "data": {
      "image/png": "[encoded data removed]",
      "text/plain": [
       "<Figure size 720x432 with 1 Axes>"
      ]
     },
     "metadata": {
      "needs_background": "light"
     },
     "output_type": "display_data"
    }
   ],
   "source": [
    "thresholds = np.arange(0, 1.05, 0.05) \n",
    "sensitivity_list = []\n",
    "specificity_list = []\n",
    " \n",
    "# Obliczenie czułości i specyficzności dla różnych progów\n",
    "for threshold in thresholds:\n",
    "    y_pred_threshold = (y_test_proba_lr >= threshold).astype(int)\n",
    "    tn, fp, fn, tp = confusion_matrix(y_test, y_pred_threshold).ravel()\n",
    " \n",
    "    sensitivity = tp / (tp + fn)  \n",
    "    specificity = tn / (tn + fp)  #\n",
    " \n",
    "    sensitivity_list.append(sensitivity)\n",
    "    specificity_list.append(specificity)\n",
    " \n",
    "plt.figure(figsize=(10, 6))\n",
    "plt.plot(thresholds, sensitivity_list, marker='o', label='Czułość', color='green')\n",
    "plt.plot(thresholds, specificity_list, marker='o', label='Specyficzność', color='red')\n",
    "plt.xlabel('Próg odcięcia')\n",
    "plt.ylabel('Wartość metryki')\n",
    "plt.title('Wpływ zmiany progu odcięcia na czułość i specyficzność modelu')\n",
    "plt.legend()\n",
    "plt.grid(alpha=0.3)\n",
    "plt.show()"
   ]
  },
  {
   "cell_type": "markdown",
   "metadata": {},
   "source": [
    "Patrząć na wykres, możemy wysunąć wniosek, że próg odcięcia równy $0.3$ jest optymalny dla naszego modelu."
   ]
  },
  {
   "cell_type": "code",
   "execution_count": 39,
   "metadata": {},
   "outputs": [],
   "source": [
    "# Ustawiamy próg odcięcia = 0.3\n",
    "threshold = 0.3\n",
    "y_train_pred_custom = (y_train_proba_lr >= threshold).astype(int) # Jeśli prawdopodobieństwo >= threshold, przypisz 1, w przeciwnym razie 0\n",
    "y_test_pred_custom = (y_test_proba_lr >= threshold).astype(int)  \n"
   ]
  },
  {
   "cell_type": "code",
   "execution_count": 40,
   "metadata": {},
   "outputs": [
    {
     "data": {
      "image/png": "[encoded data removed]",
      "text/plain": [
       "<Figure size 432x288 with 2 Axes>"
      ]
     },
     "metadata": {
      "needs_background": "light"
     },
     "output_type": "display_data"
    },
    {
     "name": "stdout",
     "output_type": "stream",
     "text": [
      "              precision    recall  f1-score   support\n",
      "\n",
      "           0       0.89      0.73      0.80       288\n",
      "           1       0.60      0.82      0.69       140\n",
      "\n",
      "    accuracy                           0.76       428\n",
      "   macro avg       0.74      0.78      0.75       428\n",
      "weighted avg       0.80      0.76      0.77       428\n",
      "\n",
      "Dokładność modelu to: 0.76\n",
      "Czułość modelu to: 0.82\n"
     ]
    }
   ],
   "source": [
    "# Macierz błędów dla danych treningowych\n",
    "cm = confusion_matrix(y_train, y_train_pred_custom)\n",
    "cmplot = ConfusionMatrixDisplay(cm, display_labels = lr.classes_)\n",
    "cmplot.plot()\n",
    "plt.show()\n",
    "\n",
    "# Dokładność i czułość dla danych treningowych:\n",
    "print(classification_report(y_train, y_train_pred_custom))\n",
    "print(f\"Dokładność modelu to: {accuracy_score(y_train, y_train_pred_custom):.2f}\")\n",
    "print(f\"Czułość modelu to: {recall_score(y_train, y_train_pred_custom):.2f}\")"
   ]
  },
  {
   "cell_type": "code",
   "execution_count": 41,
   "metadata": {},
   "outputs": [
    {
     "data": {
      "image/png": "[encoded data removed]",
      "text/plain": [
       "<Figure size 432x288 with 2 Axes>"
      ]
     },
     "metadata": {
      "needs_background": "light"
     },
     "output_type": "display_data"
    },
    {
     "name": "stdout",
     "output_type": "stream",
     "text": [
      "              precision    recall  f1-score   support\n",
      "\n",
      "           0       0.84      0.75      0.79       115\n",
      "           1       0.65      0.77      0.70        69\n",
      "\n",
      "    accuracy                           0.76       184\n",
      "   macro avg       0.74      0.76      0.75       184\n",
      "weighted avg       0.77      0.76      0.76       184\n",
      "\n",
      "Dokładność modelu to: 0.76\n",
      "Czułość modelu to: 0.77\n"
     ]
    }
   ],
   "source": [
    "# Macierz błędów dla danych testowych\n",
    "cm = confusion_matrix(y_test, y_test_pred_custom)\n",
    "cmplot = ConfusionMatrixDisplay(cm, display_labels = lr.classes_)\n",
    "cmplot.plot()\n",
    "plt.show()\n",
    "\n",
    "# Dokładność i czułość dla danych testowych:\n",
    "print(classification_report(y_test, y_test_pred_custom))\n",
    "print(f\"Dokładność modelu to: {accuracy_score(y_test, y_test_pred_custom):.2f}\")\n",
    "print(f\"Czułość modelu to: {recall_score(y_test, y_test_pred_custom):.2f}\")"
   ]
  },
  {
   "cell_type": "markdown",
   "metadata": {},
   "source": [
    "Zmniejszenie progu odcięcia spowodowało __poprawę__ dokładności modelu. W przypadku progu odcięcięcia $0.5$ dokładność dla danych testowych wynosiła $75\\%$, natomiast dla progu równego $0.3$ dokładność wynosi $76\\%$.  \n",
    "Zmniejszenie progu odcięcia wpływa również na poprawę czułości modelu, co jest istotne w przypadku predykcji chorób.  \n",
    "Dodatkowo, mamy również dysproporcje klas w naszych danych - wiecej danych dla klasy $0$, a więc obniżenie progu jest w tym przypadku również korzystne. "
   ]
  },
  {
   "cell_type": "markdown",
   "metadata": {},
   "source": [
    "Przejdźmy teraz do analizy współczynników modelu."
   ]
  },
  {
   "cell_type": "code",
   "execution_count": 42,
   "metadata": {},
   "outputs": [],
   "source": [
    "coefficients = lr.coef_\n",
    "intercept = lr.intercept_"
   ]
  },
  {
   "cell_type": "code",
   "execution_count": 43,
   "metadata": {},
   "outputs": [
    {
     "data": {
      "text/html": [
       "<div>\n",
       "<style scoped>\n",
       "    .dataframe tbody tr th:only-of-type {\n",
       "        vertical-align: middle;\n",
       "    }\n",
       "\n",
       "    .dataframe tbody tr th {\n",
       "        vertical-align: top;\n",
       "    }\n",
       "\n",
       "    .dataframe thead th {\n",
       "        text-align: right;\n",
       "    }\n",
       "</style>\n",
       "<table border=\"1\" class=\"dataframe\">\n",
       "  <thead>\n",
       "    <tr style=\"text-align: right;\">\n",
       "      <th></th>\n",
       "      <th>Feature</th>\n",
       "      <th>Coefficient</th>\n",
       "    </tr>\n",
       "  </thead>\n",
       "  <tbody>\n",
       "    <tr>\n",
       "      <th>0</th>\n",
       "      <td>Male</td>\n",
       "      <td>0.203962</td>\n",
       "    </tr>\n",
       "    <tr>\n",
       "      <th>1</th>\n",
       "      <td>age</td>\n",
       "      <td>1.490065</td>\n",
       "    </tr>\n",
       "    <tr>\n",
       "      <th>2</th>\n",
       "      <td>hypertension</td>\n",
       "      <td>0.745460</td>\n",
       "    </tr>\n",
       "    <tr>\n",
       "      <th>3</th>\n",
       "      <td>heart_disease</td>\n",
       "      <td>0.245806</td>\n",
       "    </tr>\n",
       "    <tr>\n",
       "      <th>4</th>\n",
       "      <td>ever_married</td>\n",
       "      <td>-0.246101</td>\n",
       "    </tr>\n",
       "    <tr>\n",
       "      <th>5</th>\n",
       "      <td>Private</td>\n",
       "      <td>0.119954</td>\n",
       "    </tr>\n",
       "    <tr>\n",
       "      <th>6</th>\n",
       "      <td>Self-employed</td>\n",
       "      <td>0.065221</td>\n",
       "    </tr>\n",
       "    <tr>\n",
       "      <th>7</th>\n",
       "      <td>children</td>\n",
       "      <td>0.419848</td>\n",
       "    </tr>\n",
       "    <tr>\n",
       "      <th>8</th>\n",
       "      <td>Urban</td>\n",
       "      <td>-0.022457</td>\n",
       "    </tr>\n",
       "    <tr>\n",
       "      <th>9</th>\n",
       "      <td>avg_glucose_level</td>\n",
       "      <td>0.255378</td>\n",
       "    </tr>\n",
       "    <tr>\n",
       "      <th>10</th>\n",
       "      <td>bmi</td>\n",
       "      <td>-0.103119</td>\n",
       "    </tr>\n",
       "    <tr>\n",
       "      <th>11</th>\n",
       "      <td>formerly smoked</td>\n",
       "      <td>-0.215370</td>\n",
       "    </tr>\n",
       "    <tr>\n",
       "      <th>12</th>\n",
       "      <td>never smoked</td>\n",
       "      <td>-0.177183</td>\n",
       "    </tr>\n",
       "    <tr>\n",
       "      <th>13</th>\n",
       "      <td>smokes</td>\n",
       "      <td>0.268126</td>\n",
       "    </tr>\n",
       "    <tr>\n",
       "      <th>14</th>\n",
       "      <td>Intercept (wyraz wolny)</td>\n",
       "      <td>-1.168285</td>\n",
       "    </tr>\n",
       "  </tbody>\n",
       "</table>\n",
       "</div>"
      ],
      "text/plain": [
       "                    Feature  Coefficient\n",
       "0                      Male     0.203962\n",
       "1                       age     1.490065\n",
       "2              hypertension     0.745460\n",
       "3             heart_disease     0.245806\n",
       "4              ever_married    -0.246101\n",
       "5                   Private     0.119954\n",
       "6             Self-employed     0.065221\n",
       "7                  children     0.419848\n",
       "8                     Urban    -0.022457\n",
       "9         avg_glucose_level     0.255378\n",
       "10                      bmi    -0.103119\n",
       "11          formerly smoked    -0.215370\n",
       "12             never smoked    -0.177183\n",
       "13                   smokes     0.268126\n",
       "14  Intercept (wyraz wolny)    -1.168285"
      ]
     },
     "execution_count": 43,
     "metadata": {},
     "output_type": "execute_result"
    }
   ],
   "source": [
    "feature_names = X.columns\n",
    " \n",
    "coefficients = lr.coef_.flatten()\n",
    "intercept = lr.intercept_[0]\n",
    " \n",
    "coeff_table = pd.DataFrame({\n",
    "    'Feature': feature_names,\n",
    "    'Coefficient': coefficients\n",
    "})\n",
    " \n",
    "intercept_row = pd.DataFrame({\n",
    "    'Feature': ['Intercept (wyraz wolny)'],\n",
    "    'Coefficient': [intercept]\n",
    "})\n",
    " \n",
    "coeff_table = pd.concat([coeff_table, intercept_row], ignore_index=True)\n",
    "coeff_table\n"
   ]
  },
  {
   "cell_type": "markdown",
   "metadata": {},
   "source": [
    "Interpretacja poszczególnych współczynników:\n",
    "1. **Male $(0.20)$:**  \n",
    "    Bycie mężczyzną zwiększa prawdopodobieństwo wystąpienia udaru. Dodatni współczynnik sugeruje, że płeć męska może być czynnikiem ryzyka.<br><br>\n",
    "2. **age $(1.49)$:**  \n",
    "    Każdy wzrost wieku zwiększa prawdopodobieństwo udaru. Jest to jeden z najbardziej wpływowych predyktorów, co wskazuje, że wiek ma duży wpływ na ryzyko.<br><br>\n",
    "3. **hypertension $(0.75)$:**  \n",
    "    Posiadanie nadciśnienia zwiększa ryzyko udaru. Dodatni współczynnik oznacza, że nadciśnienie jest czynnikiem ryzyka.<br><br>\n",
    "4. **heart_disease $(0.25)$:**  \n",
    "    Współistnienie chorób serca wiąże się z wyższym ryzykiem udaru. Wartość współczynnika jest dodatnia.<br><br>\n",
    "5. **Is married $(-0.25)$:**  \n",
    "    Bycie w związku małżeńskim obniża prawdopodobieństwo wystąpienia udaru. Może to wskazywać na wpływ czynników społecznych lub wsparcia partnerskiego.<br><br>\n",
    "6. **Private $(0.12)$:**  \n",
    "    Przynależność do sektora prywatnego pracy delikatnie zwiększa prawdopodobieństwo udaru.<br><br>\n",
    "7. **Self-employed $(0.06)$:**  \n",
    "    Bycie samozatrudnionym również nieznacznie zwiększa ryzyko udaru.<br><br>\n",
    "8. **children $(0.42)$:**  \n",
    "    Posiadanie dzieci zwiększa ryzyko udaru. Może to być związane z dodatkowymi czynnikami stresu lub stylem życia.<br><br>\n",
    "9. **Urban $(-0.02)$:**  \n",
    "    Mieszkanie na terenach miejskich zmniejsza prawdopodobieństwo udaru, jednak wpływ jest niewielki.<br><br>\n",
    "10. **avg_glucose_level $(0.25)$:**  \n",
    "    Wyższy średni poziom glukozy zwiększa prawdopodobieństwo udaru. Może wskazywać na rolę czynników metabolicznych.<br><br>\n",
    "11. **bmi $(-0.10)$:**  \n",
    "    Wyższy wskaźnik masy ciała BMI delikatnie zmniejsza prawdopodobieństwo udaru w tej próbce, co może wydawać się nieoczekiwane, ale może wskazywać na specyficzne zależności w danych.<br><br>\n",
    "12. **formerly smoked $(-0.21)$:**  \n",
    "    Osoby, które kiedyś paliły, mają nieco niższe ryzyko udaru w porównaniu do obecnych palaczy lub osób nigdy niepalących.<br><br>\n",
    "13. **never smoked $(-0.18)$:**  \n",
    "    Nigdy niepalący mają mniejsze ryzyko udaru niż obecni palacze.<br><br>\n",
    "14. **smokes $(0.27)$:**  \n",
    "    Palenie papierosów zwiększa prawdopodobieństwo wystąpienia udaru. Jest to znany czynnik ryzyka.<br><br>\n",
    "15. **wyraz wolny $(-1.16)$:**  \n",
    "    Przy założeniu, że nie występują inne zmienne niezależne, model przewiduje niskie prawdopodobieństwo wystąpienia udaru.<br><br>"
   ]
  }
 ],
 "metadata": {
  "kernelspec": {
   "display_name": "base",
   "language": "python",
   "name": "python3"
  },
  "language_info": {
   "codemirror_mode": {
    "name": "ipython",
    "version": 3
   },
   "file_extension": ".py",
   "mimetype": "text/x-python",
   "name": "python",
   "nbconvert_exporter": "python",
   "pygments_lexer": "ipython3",
   "version": "3.9.12"
  }
 },
 "nbformat": 4,
 "nbformat_minor": 2
}
