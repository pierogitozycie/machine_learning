{
 "cells": [
  {
   "cell_type": "markdown",
   "metadata": {},
   "source": [
    "### Ćwiczenia projektowe 4.\n",
    "Anna Marjankowska, Adrian Żyła"
   ]
  },
  {
   "cell_type": "code",
   "execution_count": 47,
   "metadata": {},
   "outputs": [],
   "source": [
    "import pandas as pd\n",
    "import seaborn as sns\n",
    "import matplotlib.pyplot as plt\n",
    "import numpy as np\n",
    "from sklearn.model_selection import train_test_split\n",
    "from sklearn.ensemble import RandomForestClassifier\n",
    "from sklearn.metrics import accuracy_score, confusion_matrix, classification_report, precision_score, recall_score\n",
    "from imblearn.metrics import specificity_score\n",
    "from imblearn.over_sampling import SMOTE, ADASYN, BorderlineSMOTE, SVMSMOTE, KMeansSMOTE, RandomOverSampler\n",
    "from imblearn.under_sampling import RandomUnderSampler, NearMiss, TomekLinks, ClusterCentroids, AllKNN\n",
    "\n",
    "import warnings\n",
    "warnings.filterwarnings('ignore')\n",
    "\n",
    "pd.options.mode.chained_assignment = None  # Wyłącza ostrzeżenia\n"
   ]
  },
  {
   "cell_type": "markdown",
   "metadata": {},
   "source": [
    "# **Przygotowanie zbioru danych**"
   ]
  },
  {
   "cell_type": "code",
   "execution_count": 48,
   "metadata": {},
   "outputs": [],
   "source": [
    "data = pd.read_csv('./stroke_zaj3.csv', sep=';', decimal=',')"
   ]
  },
  {
   "cell_type": "code",
   "execution_count": 49,
   "metadata": {},
   "outputs": [
    {
     "data": {
      "text/html": [
       "<div>\n",
       "<style scoped>\n",
       "    .dataframe tbody tr th:only-of-type {\n",
       "        vertical-align: middle;\n",
       "    }\n",
       "\n",
       "    .dataframe tbody tr th {\n",
       "        vertical-align: top;\n",
       "    }\n",
       "\n",
       "    .dataframe thead th {\n",
       "        text-align: right;\n",
       "    }\n",
       "</style>\n",
       "<table border=\"1\" class=\"dataframe\">\n",
       "  <thead>\n",
       "    <tr style=\"text-align: right;\">\n",
       "      <th></th>\n",
       "      <th>hypertension</th>\n",
       "      <th>heart_disease</th>\n",
       "      <th>stroke</th>\n",
       "    </tr>\n",
       "  </thead>\n",
       "  <tbody>\n",
       "    <tr>\n",
       "      <th>count</th>\n",
       "      <td>5109.000000</td>\n",
       "      <td>5109.000000</td>\n",
       "      <td>5109.000000</td>\n",
       "    </tr>\n",
       "    <tr>\n",
       "      <th>mean</th>\n",
       "      <td>0.097475</td>\n",
       "      <td>0.054022</td>\n",
       "      <td>0.048738</td>\n",
       "    </tr>\n",
       "    <tr>\n",
       "      <th>std</th>\n",
       "      <td>0.296633</td>\n",
       "      <td>0.226084</td>\n",
       "      <td>0.215340</td>\n",
       "    </tr>\n",
       "    <tr>\n",
       "      <th>min</th>\n",
       "      <td>0.000000</td>\n",
       "      <td>0.000000</td>\n",
       "      <td>0.000000</td>\n",
       "    </tr>\n",
       "    <tr>\n",
       "      <th>25%</th>\n",
       "      <td>0.000000</td>\n",
       "      <td>0.000000</td>\n",
       "      <td>0.000000</td>\n",
       "    </tr>\n",
       "    <tr>\n",
       "      <th>50%</th>\n",
       "      <td>0.000000</td>\n",
       "      <td>0.000000</td>\n",
       "      <td>0.000000</td>\n",
       "    </tr>\n",
       "    <tr>\n",
       "      <th>75%</th>\n",
       "      <td>0.000000</td>\n",
       "      <td>0.000000</td>\n",
       "      <td>0.000000</td>\n",
       "    </tr>\n",
       "    <tr>\n",
       "      <th>max</th>\n",
       "      <td>1.000000</td>\n",
       "      <td>1.000000</td>\n",
       "      <td>1.000000</td>\n",
       "    </tr>\n",
       "  </tbody>\n",
       "</table>\n",
       "</div>"
      ],
      "text/plain": [
       "       hypertension  heart_disease       stroke\n",
       "count   5109.000000    5109.000000  5109.000000\n",
       "mean       0.097475       0.054022     0.048738\n",
       "std        0.296633       0.226084     0.215340\n",
       "min        0.000000       0.000000     0.000000\n",
       "25%        0.000000       0.000000     0.000000\n",
       "50%        0.000000       0.000000     0.000000\n",
       "75%        0.000000       0.000000     0.000000\n",
       "max        1.000000       1.000000     1.000000"
      ]
     },
     "execution_count": 49,
     "metadata": {},
     "output_type": "execute_result"
    }
   ],
   "source": [
    "data.describe()"
   ]
  },
  {
   "cell_type": "code",
   "execution_count": 50,
   "metadata": {},
   "outputs": [
    {
     "name": "stdout",
     "output_type": "stream",
     "text": [
      "<class 'pandas.core.frame.DataFrame'>\n",
      "RangeIndex: 5109 entries, 0 to 5108\n",
      "Data columns (total 11 columns):\n",
      " #   Column             Non-Null Count  Dtype \n",
      "---  ------             --------------  ----- \n",
      " 0   gender             5109 non-null   object\n",
      " 1   age                5109 non-null   object\n",
      " 2   hypertension       5109 non-null   int64 \n",
      " 3   heart_disease      5109 non-null   int64 \n",
      " 4   ever_married       5109 non-null   object\n",
      " 5   work_type          5109 non-null   object\n",
      " 6   Residence_type     5109 non-null   object\n",
      " 7   avg_glucose_level  5109 non-null   object\n",
      " 8   bmi                4908 non-null   object\n",
      " 9   smoking_status     5109 non-null   object\n",
      " 10  stroke             5109 non-null   int64 \n",
      "dtypes: int64(3), object(8)\n",
      "memory usage: 439.2+ KB\n"
     ]
    }
   ],
   "source": [
    "data.info()"
   ]
  },
  {
   "cell_type": "code",
   "execution_count": 51,
   "metadata": {},
   "outputs": [
    {
     "data": {
      "text/html": [
       "<div>\n",
       "<style scoped>\n",
       "    .dataframe tbody tr th:only-of-type {\n",
       "        vertical-align: middle;\n",
       "    }\n",
       "\n",
       "    .dataframe tbody tr th {\n",
       "        vertical-align: top;\n",
       "    }\n",
       "\n",
       "    .dataframe thead th {\n",
       "        text-align: right;\n",
       "    }\n",
       "</style>\n",
       "<table border=\"1\" class=\"dataframe\">\n",
       "  <thead>\n",
       "    <tr style=\"text-align: right;\">\n",
       "      <th></th>\n",
       "      <th>gender</th>\n",
       "      <th>age</th>\n",
       "      <th>hypertension</th>\n",
       "      <th>heart_disease</th>\n",
       "      <th>ever_married</th>\n",
       "      <th>work_type</th>\n",
       "      <th>Residence_type</th>\n",
       "      <th>avg_glucose_level</th>\n",
       "      <th>bmi</th>\n",
       "      <th>smoking_status</th>\n",
       "      <th>stroke</th>\n",
       "    </tr>\n",
       "  </thead>\n",
       "  <tbody>\n",
       "    <tr>\n",
       "      <th>0</th>\n",
       "      <td>Male</td>\n",
       "      <td>67</td>\n",
       "      <td>0</td>\n",
       "      <td>1</td>\n",
       "      <td>Yes</td>\n",
       "      <td>Private</td>\n",
       "      <td>Urban</td>\n",
       "      <td>228.69</td>\n",
       "      <td>36.6</td>\n",
       "      <td>formerly smoked</td>\n",
       "      <td>1</td>\n",
       "    </tr>\n",
       "    <tr>\n",
       "      <th>1</th>\n",
       "      <td>Female</td>\n",
       "      <td>61</td>\n",
       "      <td>0</td>\n",
       "      <td>0</td>\n",
       "      <td>Yes</td>\n",
       "      <td>Self-employed</td>\n",
       "      <td>Rural</td>\n",
       "      <td>202.21</td>\n",
       "      <td>NaN</td>\n",
       "      <td>never smoked</td>\n",
       "      <td>1</td>\n",
       "    </tr>\n",
       "    <tr>\n",
       "      <th>2</th>\n",
       "      <td>Male</td>\n",
       "      <td>80</td>\n",
       "      <td>0</td>\n",
       "      <td>1</td>\n",
       "      <td>Yes</td>\n",
       "      <td>Private</td>\n",
       "      <td>Rural</td>\n",
       "      <td>105.92</td>\n",
       "      <td>32.5</td>\n",
       "      <td>never smoked</td>\n",
       "      <td>1</td>\n",
       "    </tr>\n",
       "    <tr>\n",
       "      <th>3</th>\n",
       "      <td>Female</td>\n",
       "      <td>49</td>\n",
       "      <td>0</td>\n",
       "      <td>0</td>\n",
       "      <td>Yes</td>\n",
       "      <td>Private</td>\n",
       "      <td>Urban</td>\n",
       "      <td>171.23</td>\n",
       "      <td>34.4</td>\n",
       "      <td>smokes</td>\n",
       "      <td>1</td>\n",
       "    </tr>\n",
       "    <tr>\n",
       "      <th>4</th>\n",
       "      <td>Female</td>\n",
       "      <td>79</td>\n",
       "      <td>1</td>\n",
       "      <td>0</td>\n",
       "      <td>Yes</td>\n",
       "      <td>Self-employed</td>\n",
       "      <td>Rural</td>\n",
       "      <td>174.12</td>\n",
       "      <td>24</td>\n",
       "      <td>never smoked</td>\n",
       "      <td>1</td>\n",
       "    </tr>\n",
       "  </tbody>\n",
       "</table>\n",
       "</div>"
      ],
      "text/plain": [
       "   gender age  hypertension  heart_disease ever_married      work_type  \\\n",
       "0    Male  67             0              1          Yes        Private   \n",
       "1  Female  61             0              0          Yes  Self-employed   \n",
       "2    Male  80             0              1          Yes        Private   \n",
       "3  Female  49             0              0          Yes        Private   \n",
       "4  Female  79             1              0          Yes  Self-employed   \n",
       "\n",
       "  Residence_type avg_glucose_level   bmi   smoking_status  stroke  \n",
       "0          Urban            228.69  36.6  formerly smoked       1  \n",
       "1          Rural            202.21   NaN     never smoked       1  \n",
       "2          Rural            105.92  32.5     never smoked       1  \n",
       "3          Urban            171.23  34.4           smokes       1  \n",
       "4          Rural            174.12    24     never smoked       1  "
      ]
     },
     "execution_count": 51,
     "metadata": {},
     "output_type": "execute_result"
    }
   ],
   "source": [
    "data.head()"
   ]
  },
  {
   "cell_type": "code",
   "execution_count": 52,
   "metadata": {},
   "outputs": [
    {
     "data": {
      "text/plain": [
       "stroke\n",
       "0    4860\n",
       "1     249\n",
       "Name: count, dtype: int64"
      ]
     },
     "execution_count": 52,
     "metadata": {},
     "output_type": "execute_result"
    }
   ],
   "source": [
    "data.value_counts(\"stroke\")"
   ]
  },
  {
   "cell_type": "code",
   "execution_count": 53,
   "metadata": {},
   "outputs": [
    {
     "name": "stdout",
     "output_type": "stream",
     "text": [
      "\n",
      "Klasa pozytywna stanowi 4.87% całego zbioru danych.\n"
     ]
    }
   ],
   "source": [
    "print(f\"\\nKlasa pozytywna stanowi {data['stroke'].value_counts()[1]/data['stroke'].value_counts().sum()*100:0.2f}% całego zbioru danych.\")"
   ]
  },
  {
   "cell_type": "markdown",
   "metadata": {},
   "source": [
    "Jak widzimy klasa $1$ stanowi zalediwe $4.87\\%$ całego zbioru, co oznacza, że zbiór danych jest **silnie niezbalansowany**."
   ]
  },
  {
   "cell_type": "markdown",
   "metadata": {},
   "source": [
    "Sprawdźmy teraz występowanie braków w danych."
   ]
  },
  {
   "cell_type": "code",
   "execution_count": 54,
   "metadata": {},
   "outputs": [
    {
     "data": {
      "text/plain": [
       "gender                 0\n",
       "age                    0\n",
       "hypertension           0\n",
       "heart_disease          0\n",
       "ever_married           0\n",
       "work_type              0\n",
       "Residence_type         0\n",
       "avg_glucose_level      0\n",
       "bmi                  201\n",
       "smoking_status         0\n",
       "stroke                 0\n",
       "dtype: int64"
      ]
     },
     "execution_count": 54,
     "metadata": {},
     "output_type": "execute_result"
    }
   ],
   "source": [
    "data.isnull().sum()"
   ]
  },
  {
   "cell_type": "markdown",
   "metadata": {},
   "source": [
    "W danych występują **brakujące wartości** dla zmiennej **BMI**, zdecydowaliśmy się na ich usunięcie."
   ]
  },
  {
   "cell_type": "code",
   "execution_count": 55,
   "metadata": {},
   "outputs": [
    {
     "data": {
      "text/plain": [
       "gender               0\n",
       "age                  0\n",
       "hypertension         0\n",
       "heart_disease        0\n",
       "ever_married         0\n",
       "work_type            0\n",
       "Residence_type       0\n",
       "avg_glucose_level    0\n",
       "bmi                  0\n",
       "smoking_status       0\n",
       "stroke               0\n",
       "dtype: int64"
      ]
     },
     "execution_count": 55,
     "metadata": {},
     "output_type": "execute_result"
    }
   ],
   "source": [
    "data = data.dropna()\n",
    "data.isna().sum()"
   ]
  },
  {
   "cell_type": "code",
   "execution_count": 56,
   "metadata": {},
   "outputs": [
    {
     "name": "stdout",
     "output_type": "stream",
     "text": [
      "Po usunięciu wartości brakujących ze zmiennej bmi mamy niezbalansowanie zbioru na poziomie: 4.26%.\n"
     ]
    }
   ],
   "source": [
    "print(f\"Po usunięciu wartości brakujących ze zmiennej bmi mamy niezbalansowanie zbioru na poziomie: \\\n",
    "{data['stroke'].value_counts()[1]/data['stroke'].value_counts().sum()*100:0.2f}%.\")"
   ]
  },
  {
   "cell_type": "markdown",
   "metadata": {},
   "source": [
    "Budowa modelu przed zbalansowaniem zbioru danych"
   ]
  },
  {
   "cell_type": "code",
   "execution_count": 57,
   "metadata": {},
   "outputs": [
    {
     "data": {
      "text/html": [
       "<div>\n",
       "<style scoped>\n",
       "    .dataframe tbody tr th:only-of-type {\n",
       "        vertical-align: middle;\n",
       "    }\n",
       "\n",
       "    .dataframe tbody tr th {\n",
       "        vertical-align: top;\n",
       "    }\n",
       "\n",
       "    .dataframe thead th {\n",
       "        text-align: right;\n",
       "    }\n",
       "</style>\n",
       "<table border=\"1\" class=\"dataframe\">\n",
       "  <thead>\n",
       "    <tr style=\"text-align: right;\">\n",
       "      <th></th>\n",
       "      <th>Male</th>\n",
       "      <th>age</th>\n",
       "      <th>hypertension</th>\n",
       "      <th>heart_disease</th>\n",
       "      <th>ever_married</th>\n",
       "      <th>Never_worked</th>\n",
       "      <th>Private</th>\n",
       "      <th>Self-employed</th>\n",
       "      <th>children</th>\n",
       "      <th>Urban</th>\n",
       "      <th>avg_glucose_level</th>\n",
       "      <th>bmi</th>\n",
       "      <th>formerly smoked</th>\n",
       "      <th>never smoked</th>\n",
       "      <th>smokes</th>\n",
       "      <th>stroke</th>\n",
       "    </tr>\n",
       "  </thead>\n",
       "  <tbody>\n",
       "    <tr>\n",
       "      <th>0</th>\n",
       "      <td>1</td>\n",
       "      <td>67</td>\n",
       "      <td>0</td>\n",
       "      <td>1</td>\n",
       "      <td>1</td>\n",
       "      <td>0</td>\n",
       "      <td>1</td>\n",
       "      <td>0</td>\n",
       "      <td>0</td>\n",
       "      <td>1</td>\n",
       "      <td>228.69</td>\n",
       "      <td>36.6</td>\n",
       "      <td>1</td>\n",
       "      <td>0</td>\n",
       "      <td>0</td>\n",
       "      <td>1</td>\n",
       "    </tr>\n",
       "    <tr>\n",
       "      <th>2</th>\n",
       "      <td>1</td>\n",
       "      <td>80</td>\n",
       "      <td>0</td>\n",
       "      <td>1</td>\n",
       "      <td>1</td>\n",
       "      <td>0</td>\n",
       "      <td>1</td>\n",
       "      <td>0</td>\n",
       "      <td>0</td>\n",
       "      <td>0</td>\n",
       "      <td>105.92</td>\n",
       "      <td>32.5</td>\n",
       "      <td>0</td>\n",
       "      <td>1</td>\n",
       "      <td>0</td>\n",
       "      <td>1</td>\n",
       "    </tr>\n",
       "    <tr>\n",
       "      <th>3</th>\n",
       "      <td>0</td>\n",
       "      <td>49</td>\n",
       "      <td>0</td>\n",
       "      <td>0</td>\n",
       "      <td>1</td>\n",
       "      <td>0</td>\n",
       "      <td>1</td>\n",
       "      <td>0</td>\n",
       "      <td>0</td>\n",
       "      <td>1</td>\n",
       "      <td>171.23</td>\n",
       "      <td>34.4</td>\n",
       "      <td>0</td>\n",
       "      <td>0</td>\n",
       "      <td>1</td>\n",
       "      <td>1</td>\n",
       "    </tr>\n",
       "    <tr>\n",
       "      <th>4</th>\n",
       "      <td>0</td>\n",
       "      <td>79</td>\n",
       "      <td>1</td>\n",
       "      <td>0</td>\n",
       "      <td>1</td>\n",
       "      <td>0</td>\n",
       "      <td>0</td>\n",
       "      <td>1</td>\n",
       "      <td>0</td>\n",
       "      <td>0</td>\n",
       "      <td>174.12</td>\n",
       "      <td>24</td>\n",
       "      <td>0</td>\n",
       "      <td>1</td>\n",
       "      <td>0</td>\n",
       "      <td>1</td>\n",
       "    </tr>\n",
       "    <tr>\n",
       "      <th>5</th>\n",
       "      <td>1</td>\n",
       "      <td>81</td>\n",
       "      <td>0</td>\n",
       "      <td>0</td>\n",
       "      <td>1</td>\n",
       "      <td>0</td>\n",
       "      <td>1</td>\n",
       "      <td>0</td>\n",
       "      <td>0</td>\n",
       "      <td>1</td>\n",
       "      <td>186.21</td>\n",
       "      <td>29</td>\n",
       "      <td>1</td>\n",
       "      <td>0</td>\n",
       "      <td>0</td>\n",
       "      <td>1</td>\n",
       "    </tr>\n",
       "  </tbody>\n",
       "</table>\n",
       "</div>"
      ],
      "text/plain": [
       "   Male age  hypertension  heart_disease  ever_married  Never_worked  Private  \\\n",
       "0     1  67             0              1             1             0        1   \n",
       "2     1  80             0              1             1             0        1   \n",
       "3     0  49             0              0             1             0        1   \n",
       "4     0  79             1              0             1             0        0   \n",
       "5     1  81             0              0             1             0        1   \n",
       "\n",
       "   Self-employed  children  Urban avg_glucose_level   bmi  formerly smoked  \\\n",
       "0              0         0      1            228.69  36.6                1   \n",
       "2              0         0      0            105.92  32.5                0   \n",
       "3              0         0      1            171.23  34.4                0   \n",
       "4              1         0      0            174.12    24                0   \n",
       "5              0         0      1            186.21    29                1   \n",
       "\n",
       "   never smoked  smokes  stroke  \n",
       "0             0       0       1  \n",
       "2             1       0       1  \n",
       "3             0       1       1  \n",
       "4             1       0       1  \n",
       "5             0       0       1  "
      ]
     },
     "execution_count": 57,
     "metadata": {},
     "output_type": "execute_result"
    }
   ],
   "source": [
    "gender_dummies = pd.get_dummies(data['gender'], dtype = int, drop_first = True) # Ustawiamy zmienna drop_first na True, aby pominac jedna kolumnę, w celu uniknięcia wspólniowości zmiennych\n",
    "ever_married_dummies = pd.get_dummies(data['ever_married'], dtype = int, drop_first = True)\n",
    "work_type_dummies = pd.get_dummies(data['work_type'], dtype = int, drop_first = True)\n",
    "residence_type_dummies = pd.get_dummies(data['Residence_type'], dtype = int, drop_first = True)\n",
    "smoking_status_dummies = pd.get_dummies(data['smoking_status'], dtype = int, drop_first = True)\n",
    "data = pd.concat([gender_dummies, data[['age', 'hypertension', 'heart_disease']], ever_married_dummies, work_type_dummies, \n",
    "        residence_type_dummies, data[['avg_glucose_level', 'bmi',]], smoking_status_dummies, data[['stroke']]], axis = 1)\n",
    "data = data.rename(columns = {'Yes': 'ever_married'})\n",
    "data.head()"
   ]
  },
  {
   "cell_type": "code",
   "execution_count": 58,
   "metadata": {},
   "outputs": [],
   "source": [
    "X = data.drop(columns=['stroke'])\n",
    "y = data['stroke']\n",
    "\n",
    "X_train, X_test, y_train, y_test = train_test_split(X, y, test_size=0.3, random_state=42)"
   ]
  },
  {
   "cell_type": "code",
   "execution_count": 59,
   "metadata": {},
   "outputs": [],
   "source": [
    "model = RandomForestClassifier(random_state=42)\n",
    "model.fit(X_train, y_train)\n",
    "\n",
    "y_pred_train = model.predict(X_train)\n",
    "y_pred_test = model.predict(X_test)\n",
    "accuracy_train = accuracy_score(y_train, y_pred_train)\n",
    "accuracy_test = accuracy_score(y_test, y_pred_test)"
   ]
  },
  {
   "cell_type": "code",
   "execution_count": 60,
   "metadata": {},
   "outputs": [
    {
     "name": "stdout",
     "output_type": "stream",
     "text": [
      "              precision    recall  f1-score   support\n",
      "\n",
      "           0       1.00      1.00      1.00      3298\n",
      "           1       1.00      1.00      1.00       137\n",
      "\n",
      "    accuracy                           1.00      3435\n",
      "   macro avg       1.00      1.00      1.00      3435\n",
      "weighted avg       1.00      1.00      1.00      3435\n",
      "\n",
      "Dokładność dla zbioru treningowego: 1.000\n",
      "Czułość dla zbioru treningowego: 1.00\n",
      "Specyficzność dla zbioru treningowego: 1.00\n"
     ]
    }
   ],
   "source": [
    "print(classification_report(y_train, y_pred_train))\n",
    "print(f\"Dokładność dla zbioru treningowego: {accuracy_score(y_train, y_pred_train):0.3f}\")\n",
    "print(f\"Czułość dla zbioru treningowego: {recall_score(y_train, y_pred_train):0.2f}\")\n",
    "print(f\"Specyficzność dla zbioru treningowego: {specificity_score(y_train, y_pred_train):0.2f}\")"
   ]
  },
  {
   "cell_type": "code",
   "execution_count": 61,
   "metadata": {},
   "outputs": [
    {
     "data": {
      "image/png": "[encoded data removed]",
      "text/plain": [
       "<Figure size 640x480 with 2 Axes>"
      ]
     },
     "metadata": {},
     "output_type": "display_data"
    }
   ],
   "source": [
    "conf_matrix = confusion_matrix(y_train, y_pred_train)\n",
    "sns.heatmap(conf_matrix, annot=True, fmt='d', cmap='Oranges')\n",
    "plt.xlabel('Predicted')\n",
    "plt.ylabel('Actual')\n",
    "plt.show()"
   ]
  },
  {
   "cell_type": "code",
   "execution_count": 62,
   "metadata": {},
   "outputs": [
    {
     "name": "stdout",
     "output_type": "stream",
     "text": [
      "              precision    recall  f1-score   support\n",
      "\n",
      "           0       0.95      1.00      0.97      1401\n",
      "           1       0.33      0.01      0.03        72\n",
      "\n",
      "    accuracy                           0.95      1473\n",
      "   macro avg       0.64      0.51      0.50      1473\n",
      "weighted avg       0.92      0.95      0.93      1473\n",
      "\n",
      "Dokładność dla zbioru testowego: 0.950\n"
     ]
    },
    {
     "name": "stdout",
     "output_type": "stream",
     "text": [
      "Czułość dla zbioru testowego: 0.014\n",
      "Specyficzność dla zbioru testowego: 0.999\n"
     ]
    }
   ],
   "source": [
    "print(classification_report(y_test, y_pred_test))\n",
    "print(f\"Dokładność dla zbioru testowego: {accuracy_score(y_test, y_pred_test):0.3f}\")\n",
    "print(f\"Czułość dla zbioru testowego: {recall_score(y_test, y_pred_test):0.3f}\")\n",
    "print(f\"Specyficzność dla zbioru testowego: {specificity_score(y_test, y_pred_test):0.3f}\")\n"
   ]
  },
  {
   "cell_type": "code",
   "execution_count": 63,
   "metadata": {},
   "outputs": [
    {
     "data": {
      "image/png": "[encoded data removed]",
      "text/plain": [
       "<Figure size 640x480 with 2 Axes>"
      ]
     },
     "metadata": {},
     "output_type": "display_data"
    }
   ],
   "source": [
    "conf_matrix = confusion_matrix(y_test, y_pred_test)\n",
    "sns.heatmap(conf_matrix, annot=True, fmt='d', cmap='Oranges')\n",
    "plt.xlabel('Predicted')\n",
    "plt.ylabel('Actual')\n",
    "plt.show()"
   ]
  },
  {
   "cell_type": "markdown",
   "metadata": {},
   "source": [
    "Model dla danych treningowych uzyskał wszytskie metryki równe $100\\%$.<br>\n",
    "Dla zbioru testowego model wciąż ma wysoką dokładonść jednak **czułość jest równa $0.01\\%$**, model sklasyfikował jedynie jedną osobę chorą poprawnie. **Wysoki wynik dokładności jest więc efektem bardzo niezbalansowanego zbioru danych**, klasa chora to jedynie około $4.5\\%$ obserwacji. Nasz model jest więc **nieefektywny** mimo wysokiej dokładności."
   ]
  },
  {
   "cell_type": "markdown",
   "metadata": {},
   "source": [
    "# **Oversampling**\n",
    "\n",
    "#### Zwiększanie liczby próbek dla klasy niedoreprezentowanej"
   ]
  },
  {
   "cell_type": "code",
   "execution_count": 64,
   "metadata": {},
   "outputs": [
    {
     "data": {
      "text/html": [
       "<div>\n",
       "<style scoped>\n",
       "    .dataframe tbody tr th:only-of-type {\n",
       "        vertical-align: middle;\n",
       "    }\n",
       "\n",
       "    .dataframe tbody tr th {\n",
       "        vertical-align: top;\n",
       "    }\n",
       "\n",
       "    .dataframe thead th {\n",
       "        text-align: right;\n",
       "    }\n",
       "</style>\n",
       "<table border=\"1\" class=\"dataframe\">\n",
       "  <thead>\n",
       "    <tr style=\"text-align: right;\">\n",
       "      <th></th>\n",
       "      <th>Method</th>\n",
       "      <th>Accuracy</th>\n",
       "      <th>Precision</th>\n",
       "      <th>Recall</th>\n",
       "      <th>Specificity</th>\n",
       "    </tr>\n",
       "  </thead>\n",
       "  <tbody>\n",
       "    <tr>\n",
       "      <th>0</th>\n",
       "      <td>SMOTE()</td>\n",
       "      <td>0.919212</td>\n",
       "      <td>0.114754</td>\n",
       "      <td>0.097222</td>\n",
       "      <td>0.961456</td>\n",
       "    </tr>\n",
       "    <tr>\n",
       "      <th>1</th>\n",
       "      <td>ADASYN()</td>\n",
       "      <td>0.918534</td>\n",
       "      <td>0.136364</td>\n",
       "      <td>0.125000</td>\n",
       "      <td>0.959315</td>\n",
       "    </tr>\n",
       "    <tr>\n",
       "      <th>2</th>\n",
       "      <td>BorderlineSMOTE()</td>\n",
       "      <td>0.928717</td>\n",
       "      <td>0.163265</td>\n",
       "      <td>0.111111</td>\n",
       "      <td>0.970735</td>\n",
       "    </tr>\n",
       "    <tr>\n",
       "      <th>3</th>\n",
       "      <td>SVMSMOTE()</td>\n",
       "      <td>0.932790</td>\n",
       "      <td>0.170732</td>\n",
       "      <td>0.097222</td>\n",
       "      <td>0.975732</td>\n",
       "    </tr>\n",
       "    <tr>\n",
       "      <th>4</th>\n",
       "      <td>RandomOverSampler()</td>\n",
       "      <td>0.947726</td>\n",
       "      <td>0.142857</td>\n",
       "      <td>0.013889</td>\n",
       "      <td>0.995717</td>\n",
       "    </tr>\n",
       "  </tbody>\n",
       "</table>\n",
       "</div>"
      ],
      "text/plain": [
       "                Method  Accuracy  Precision    Recall  Specificity\n",
       "0              SMOTE()  0.919212   0.114754  0.097222     0.961456\n",
       "1             ADASYN()  0.918534   0.136364  0.125000     0.959315\n",
       "2    BorderlineSMOTE()  0.928717   0.163265  0.111111     0.970735\n",
       "3           SVMSMOTE()  0.932790   0.170732  0.097222     0.975732\n",
       "4  RandomOverSampler()  0.947726   0.142857  0.013889     0.995717"
      ]
     },
     "execution_count": 64,
     "metadata": {},
     "output_type": "execute_result"
    }
   ],
   "source": [
    "methods = [SMOTE(), ADASYN(), BorderlineSMOTE(), SVMSMOTE(), RandomOverSampler()]\n",
    "results_oversampling = pd.DataFrame(columns=['Method', 'Accuracy', 'Precision', 'Recall', 'Specificity'])\n",
    "\n",
    "for method in methods:\n",
    "    X_resampled, y_resampled = method.fit_resample(X_train, y_train)\n",
    "    model = RandomForestClassifier(random_state=42)\n",
    "    model.fit(X_resampled, y_resampled)\n",
    "    y_test_pred = model.predict(X_test)\n",
    "    \n",
    "    new_row = pd.DataFrame({\n",
    "        'Method': [str(method)],\n",
    "        'Accuracy': [accuracy_score(y_test, y_test_pred)],\n",
    "        'Precision': [precision_score(y_test, y_test_pred, zero_division=0)],\n",
    "        'Recall': [recall_score(y_test, y_test_pred, zero_division=0)],\n",
    "        'Specificity': [specificity_score(y_test, y_test_pred)]\n",
    "    })\n",
    "    \n",
    "    results_oversampling = pd.concat([results_oversampling, new_row], ignore_index=True)\n",
    "\n",
    "results_oversampling\n"
   ]
  },
  {
   "cell_type": "markdown",
   "metadata": {},
   "source": [
    "## 1. **SMOTE (Synthetic Minority Oversampling Technique)**  \n",
    "SMOTE generuje nowe przykłady klasy mniejszościowej, interpolując dane istniejące w tej klasie. Losowo wybiera próbki z klasy mniejszościowej i tworzy syntetyczne punkty na linii pomiędzy nimi.\n",
    "\n",
    "#### Wyniki:  \n",
    "- **Dokładność (Accuracy):** 0.92  \n",
    "- **Precyzja:** 0.14  \n",
    "- **Czułość:** 0.13  \n",
    "- **Specyficzność:** 0.96  \n",
    "\n",
    "#### Interpretacja:\n",
    "SMOTE poprawił równowagę danych, co widoczne jest w wysokiej specyficzności, czyli skuteczności w identyfikacji przypadków negatywnych (np. pacjentów bez udaru). Jednak precyzja i czułość pozostają stosunkowo niskie. Może to wynikać z faktu, że sztucznie generowane próbki mogą być trudniejsze do prawidłowego zaklasyfikowania przez model, co prowadzi do fałszywych pozytywów.\n"
   ]
  },
  {
   "cell_type": "markdown",
   "metadata": {},
   "source": [
    "### 2. **ADASYN (Adaptive Synthetic Sampling)**  \n",
    "ADASYN to rozszerzenie SMOTE, które tworzy więcej próbek w trudniejszych obszarach przestrzeni danych, gdzie klasy mniejszościowej jest mniej. W ten sposób koncentruje się na poprawie modelu w najbardziej krytycznych miejscach.\n",
    "\n",
    "#### Wyniki:  \n",
    "- **Dokładność (Accuracy):** 0.92  \n",
    "- **Precyzja:** 0.13  \n",
    "- **Czułość:** 0.11  \n",
    "- **Specyficzność:** 0.96  \n",
    "\n",
    "#### Interpretacja:\n",
    "ADASYN, podobnie jak SMOTE, poprawił równowagę danych, ale uzyskał niewielką poprawę w precyzji. Niska czułość może wskazywać, że model nadal pomija część pozytywnych przypadków (np. pacjentów z udarem), co może być problematyczne w krytycznych zastosowaniach medycznych.\n"
   ]
  },
  {
   "cell_type": "markdown",
   "metadata": {},
   "source": [
    "### 3. **Borderline-SMOTE**  \n",
    "Borderline-SMOTE koncentruje się na próbkach klasy mniejszościowej znajdujących się na granicy z klasą większościową. To podejście stara się wzmocnić decyzję modelu w miejscach najbardziej problematycznych.\n",
    "\n",
    "#### Wyniki:  \n",
    "- **Dokładność (Accuracy):** 0.93  \n",
    "- **Precyzja:** 0.16  \n",
    "- **Czułość:** 0.11  \n",
    "- **Specyficzność:** 0.97  \n",
    "\n",
    "#### Interpretacja: \n",
    "Borderline-SMOTE poprawił precyzję, co oznacza mniejszą liczbę fałszywych pozytywów. Wysoka specyficzność wskazuje, że model bardzo dobrze identyfikuje pacjentów bez udaru. Jednak czułość nadal jest niska, co może prowadzić do pomijania przypadków pozytywnych.\n"
   ]
  },
  {
   "cell_type": "markdown",
   "metadata": {},
   "source": [
    "### 4. **SVM-SMOTE (Support Vector Machine SMOTE)**  \n",
    "SVM-SMOTE używa technik SVM do identyfikowania trudnych próbek, które powinny zostać wzmocnione. W przeciwieństwie do klasycznego SMOTE, SVM-SMOTE lepiej dopasowuje się do bardziej złożonych struktur danych.\n",
    "\n",
    "#### Wyniki:  \n",
    "- **Dokładność (Accuracy):** 0.93  \n",
    "- **Precyzja:** 0.19  \n",
    "- **Czułość:** 0.11  \n",
    "- **Specyficzność:** 0.98  \n",
    "\n",
    "#### Interpretacja:  \n",
    "SVM-SMOTE osiągnął najwyższą specyficzność, co oznacza doskonałą skuteczność w identyfikacji przypadków negatywnych (np. zdrowych pacjentów). Wyższa precyzja sugeruje, że model rzadziej myli zdrowych pacjentów z chorymi. Jednak niski wynik czułości wskazuje, że wciąż ma problemy z wykrywaniem przypadków udaru.\n"
   ]
  },
  {
   "cell_type": "markdown",
   "metadata": {},
   "source": [
    "### 5. **Random Oversampling**  \n",
    "Random Oversampling polega na losowym powielaniu istniejących próbek klasy mniejszościowej bez generowania nowych danych.\n",
    "\n",
    "#### Wyniki:  \n",
    "- **Dokładność (Accuracy):** 0.95  \n",
    "- **Precyzja:** 0.17  \n",
    "- **Czułość:** 0.01  \n",
    "- **Specyficzność:** 1.00  \n",
    "\n",
    "#### Interpretacja:  \n",
    "Random Oversampling osiągnął najwyższą dokładność i specyficzność, ale bardzo niską czułość. Oznacza to, że model praktycznie nie wykrywa przypadków pozytywnych (np. pacjentów z udarem), co sprawia, że ta metoda jest nieodpowiednia w przypadku zastosowań medycznych, gdzie kluczowe jest wykrywanie klasy mniejszościowej.\n"
   ]
  },
  {
   "cell_type": "markdown",
   "metadata": {},
   "source": [
    "### Wnioski:\n",
    "\n",
    "- **SMOTE** i **ADASYN** są bardziej skuteczne w generowaniu punktów danych, co poprawia precyzję i czułość.  \n",
    "- **Borderline-SMOTE** i **SVM-SMOTE** lepiej radzą sobie w trudnych obszarach danych, co widać w wyższej specyficzności.  \n",
    "- **Random Oversampling** daje wysoką specyficzność, ale bardzo niską czułość, co czyni go niepraktycznym w kontekście medycznym.\n",
    "\n",
    "### Podsumowując:\n",
    "- Jeśli priorytetem jest poprawa **precyzji** – **Borderline-SMOTE** lub **SVM-SMOTE**.  \n",
    "- Jeśli zależy nam na **zrównoważonym podejściu** – **ADASYN**.  \n",
    "- Jeśli priorytetem jest jedynie równowaga ilościowa – **Random Oversampling** (choć zwykle ma ograniczoną użyteczność).  \n",
    "\n",
    "Każda z metod wymaga dostosowania do specyfiki danych oraz priorytetów metryk w projekcie."
   ]
  },
  {
   "cell_type": "markdown",
   "metadata": {},
   "source": [
    "# **Undersampling** \n",
    "\n",
    "#### Zmniejszanie liczby próbek dla klasy nadreprezentowanej"
   ]
  },
  {
   "cell_type": "code",
   "execution_count": 65,
   "metadata": {},
   "outputs": [
    {
     "data": {
      "text/html": [
       "<div>\n",
       "<style scoped>\n",
       "    .dataframe tbody tr th:only-of-type {\n",
       "        vertical-align: middle;\n",
       "    }\n",
       "\n",
       "    .dataframe tbody tr th {\n",
       "        vertical-align: top;\n",
       "    }\n",
       "\n",
       "    .dataframe thead th {\n",
       "        text-align: right;\n",
       "    }\n",
       "</style>\n",
       "<table border=\"1\" class=\"dataframe\">\n",
       "  <thead>\n",
       "    <tr style=\"text-align: right;\">\n",
       "      <th></th>\n",
       "      <th>Method</th>\n",
       "      <th>Accuracy</th>\n",
       "      <th>Precision</th>\n",
       "      <th>Recall</th>\n",
       "      <th>Specificity</th>\n",
       "    </tr>\n",
       "  </thead>\n",
       "  <tbody>\n",
       "    <tr>\n",
       "      <th>0</th>\n",
       "      <td>RandomUnderSampler()</td>\n",
       "      <td>0.696538</td>\n",
       "      <td>0.125749</td>\n",
       "      <td>0.875000</td>\n",
       "      <td>0.687366</td>\n",
       "    </tr>\n",
       "    <tr>\n",
       "      <th>1</th>\n",
       "      <td>NearMiss()</td>\n",
       "      <td>0.207739</td>\n",
       "      <td>0.036410</td>\n",
       "      <td>0.597222</td>\n",
       "      <td>0.187723</td>\n",
       "    </tr>\n",
       "    <tr>\n",
       "      <th>2</th>\n",
       "      <td>TomekLinks()</td>\n",
       "      <td>0.951120</td>\n",
       "      <td>0.000000</td>\n",
       "      <td>0.000000</td>\n",
       "      <td>1.000000</td>\n",
       "    </tr>\n",
       "    <tr>\n",
       "      <th>3</th>\n",
       "      <td>ClusterCentroids()</td>\n",
       "      <td>0.158859</td>\n",
       "      <td>0.054240</td>\n",
       "      <td>0.986111</td>\n",
       "      <td>0.116345</td>\n",
       "    </tr>\n",
       "    <tr>\n",
       "      <th>4</th>\n",
       "      <td>AllKNN()</td>\n",
       "      <td>0.946368</td>\n",
       "      <td>0.266667</td>\n",
       "      <td>0.055556</td>\n",
       "      <td>0.992148</td>\n",
       "    </tr>\n",
       "  </tbody>\n",
       "</table>\n",
       "</div>"
      ],
      "text/plain": [
       "                 Method  Accuracy  Precision    Recall  Specificity\n",
       "0  RandomUnderSampler()  0.696538   0.125749  0.875000     0.687366\n",
       "1            NearMiss()  0.207739   0.036410  0.597222     0.187723\n",
       "2          TomekLinks()  0.951120   0.000000  0.000000     1.000000\n",
       "3    ClusterCentroids()  0.158859   0.054240  0.986111     0.116345\n",
       "4              AllKNN()  0.946368   0.266667  0.055556     0.992148"
      ]
     },
     "execution_count": 65,
     "metadata": {},
     "output_type": "execute_result"
    }
   ],
   "source": [
    "methods = [RandomUnderSampler(), NearMiss(), TomekLinks(), ClusterCentroids(), AllKNN()]\n",
    "results_undersampling = pd.DataFrame(columns=['Method', 'Accuracy', 'Precision', 'Recall', 'Specificity'])\n",
    "\n",
    "for method in methods:\n",
    "    X_resampled, y_resampled = method.fit_resample(X_train, y_train)\n",
    "    model = RandomForestClassifier(random_state=42)\n",
    "    model.fit(X_resampled, y_resampled)\n",
    "    y_test_pred = model.predict(X_test)\n",
    "    \n",
    "    new_row = pd.DataFrame({\n",
    "        'Method': [str(method)],\n",
    "        'Accuracy': [accuracy_score(y_test, y_test_pred)],\n",
    "        'Precision': [precision_score(y_test, y_test_pred, zero_division=0)],\n",
    "        'Recall': [recall_score(y_test, y_test_pred, zero_division=0)],\n",
    "        'Specificity': [specificity_score(y_test, y_test_pred)]\n",
    "    })\n",
    "    \n",
    "    # Połączenie wyników\n",
    "    results_undersampling = pd.concat([results_undersampling, new_row], ignore_index=True)\n",
    "\n",
    "results_undersampling"
   ]
  },
  {
   "cell_type": "markdown",
   "metadata": {},
   "source": [
    "### 1. **RandomUnderSampler**  \n",
    "RandomUnderSampler losowo usuwa próbki z klasy większościowej, aby zrównoważyć dane.\n",
    "\n",
    "#### Wyniki:  \n",
    "- **Dokładność (Accuracy):** 0.69  \n",
    "- **Precyzja:** 0.13  \n",
    "- **Czułość:** 0.93  \n",
    "- **Specyficzność:** 0.68  \n",
    "\n",
    "#### Interpretacja:\n",
    "RandomUnderSampler osiągnął wysoką czułość, co oznacza, że dobrze identyfikuje przypadki pozytywne (pacjentów z udarem). Jednak niska specyficzność sugeruje, że wiele zdrowych pacjentów zostało błędnie zaklasyfikowanych jako chorzy. Może to wynikać z nadmiernego uproszczenia danych klasy większościowej.\n"
   ]
  },
  {
   "cell_type": "markdown",
   "metadata": {},
   "source": [
    "### 2. **NearMiss**  \n",
    "NearMiss selektywnie usuwa próbki z klasy większościowej, koncentrując się na najbliższych sąsiadach klasy mniejszościowej.\n",
    "\n",
    "#### Wyniki:  \n",
    "- **Dokładność (Accuracy):** 0.21  \n",
    "- **Precyzja:** 0.04  \n",
    "- **Czułość:** 0.60  \n",
    "- **Specyficzność:** 0.19  \n",
    "\n",
    "#### Interpretacja:\n",
    "NearMiss osiągnął bardzo niską dokładność i specyficzność, co oznacza, że model ma problemy z prawidłowym rozróżnianiem klas. Niska precyzja wskazuje na dużą liczbę fałszywych pozytywów, co może wynikać z nadmiernego uproszczenia danych klasy większościowej.\n"
   ]
  },
  {
   "cell_type": "markdown",
   "metadata": {},
   "source": [
    "### 3. **TomekLinks**  \n",
    "TomekLinks usuwa próbki klasy większościowej, które są najbliższymi sąsiadami próbek klasy mniejszościowej, jeśli różnią się etykietą.\n",
    "Należy jednak pamiętać, że metoda ta niekoniecznie usuwa wszystkie obserwacje z klasy większościowej, które powodują nierównowagę. \n",
    "W praktyce często łączy się metodę TomekLinks z innymi alogorytmami OverSamplingu lub UnderSamplingu.\n",
    "\n",
    "#### Wyniki:  \n",
    "- **Dokładność (Accuracy):** 0.95  \n",
    "- **Precyzja:** 0.00  \n",
    "- **Czułość:** 0.00  \n",
    "- **Specyficzność:** 1.00  \n",
    "\n",
    "#### Interpretacja:\n",
    "TomekLinks osiągnął najwyższą specyficzność, co oznacza doskonałe rozpoznawanie klasy większościowej (zdrowych pacjentów). Jednak brak czułości i precyzji sugeruje, że metoda całkowicie nie radzi sobie z wykrywaniem klasy mniejszościowej, co czyni ją niepraktyczną w krytycznych zastosowaniach, takich jak diagnostyka medyczna.\n"
   ]
  },
  {
   "cell_type": "markdown",
   "metadata": {},
   "source": [
    "### 4. **ClusterCentroids**  \n",
    "ClusterCentroids zastępuje klasę większościową centroidami obliczonymi na podstawie jej klastrów, co zmniejsza jej liczebność.\n",
    "\n",
    "#### Wyniki:  \n",
    "- **Dokładność (Accuracy):** 0.14  \n",
    "- **Precyzja:** 0.05  \n",
    "- **Czułość:** 0.99  \n",
    "- **Specyficzność:** 0.10  \n",
    "\n",
    "#### Interpretacja:\n",
    "ClusterCentroids uzyskał bardzo wysoką czułość, co oznacza, że prawie wszystkie przypadki pozytywne zostały wykryte. Jednak bardzo niska specyficzność wskazuje, że model praktycznie nie potrafi odróżnić klasy większościowej, co prowadzi do licznych fałszywych pozytywów.\n",
    "\n"
   ]
  },
  {
   "cell_type": "markdown",
   "metadata": {},
   "source": [
    "### 5. **AllKNN**  \n",
    "AllKNN usuwa próbki z klasy większościowej, które są nadmiarowe, na podstawie analizy najbliższych sąsiadów.\n",
    "\n",
    "#### Wyniki:  \n",
    "- **Dokładność (Accuracy):** 0.95  \n",
    "- **Precyzja:** 0.27  \n",
    "- **Czułość:** 0.06  \n",
    "- **Specyficzność:** 0.99  \n",
    "\n",
    "#### Interpretacja:\n",
    "AllKNN osiągnął najwyższą precyzję spośród technik undersamplingu, co oznacza, że model rzadziej myli klasę większościową z mniejszościową. Wysoka specyficzność wskazuje na dobrą skuteczność w identyfikacji klasy większościowej, ale bardzo niska czułość pokazuje, że metoda nie radzi sobie z wykrywaniem klasy mniejszościowej.\n"
   ]
  },
  {
   "cell_type": "markdown",
   "metadata": {},
   "source": [
    "### Wnioski:\n",
    "\n",
    "- **RandomUnderSampler** i **ClusterCentroids** zapewniają wysoką czułość, ale kosztem niskiej specyficzności.  \n",
    "- **TomekLinks** i **AllKNN** osiągają wysoką specyficzność, ale bardzo niską czułość, co oznacza problemy z wykrywaniem klasy mniejszościowej.  \n",
    "- **NearMiss** wypada słabo pod względem wszystkich metryk, co sugeruje, że metoda ta nie sprawdza się w tym przypadku.\n",
    "\n",
    "### Podsumowując:\n",
    "- Jeśli priorytetem jest poprawa **czułości** – **ClusterCentroids** lub **RandomUnderSampler**.  \n",
    "- Jeśli zależy nam na **precyzji** – **AllKNN**.  \n",
    "- **TomekLinks** jest odpowiedni do poprawy równowagi klasy większościowej, ale nie radzi sobie z wykrywaniem klasy mniejszościowej.  \n",
    "\n",
    "Każda z metod wymaga odpowiedniego dostosowania do specyfiki projektu i metryk, które są kluczowe w danym zastosowaniu."
   ]
  },
  {
   "cell_type": "markdown",
   "metadata": {},
   "source": []
  }
 ],
 "metadata": {
  "kernelspec": {
   "display_name": "base",
   "language": "python",
   "name": "python3"
  },
  "language_info": {
   "codemirror_mode": {
    "name": "ipython",
    "version": 3
   },
   "file_extension": ".py",
   "mimetype": "text/x-python",
   "name": "python",
   "nbconvert_exporter": "python",
   "pygments_lexer": "ipython3",
   "version": "3.12.4"
  }
 },
 "nbformat": 4,
 "nbformat_minor": 2
}
