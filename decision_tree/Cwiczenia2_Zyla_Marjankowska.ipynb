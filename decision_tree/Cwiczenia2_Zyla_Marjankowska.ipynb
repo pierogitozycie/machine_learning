{
 "cells": [
  {
   "cell_type": "markdown",
   "metadata": {},
   "source": [
    "### Ćwiczenia projektowe 2 i 3.\n",
    "Anna Marjankowska, Adrian Żyła"
   ]
  },
  {
   "cell_type": "code",
   "execution_count": 55,
   "metadata": {},
   "outputs": [],
   "source": [
    "import pandas as pd\n",
    "import numpy as np\n",
    "from sklearn.model_selection import train_test_split, GridSearchCV\n",
    "from sklearn.ensemble import RandomForestClassifier, AdaBoostClassifier, BaggingClassifier\n",
    "from sklearn.tree import DecisionTreeClassifier, export_graphviz, plot_tree\n",
    "from sklearn.metrics import accuracy_score, classification_report, confusion_matrix, recall_score\n",
    "from IPython.display import Image\n",
    "import seaborn as sns\n",
    "import matplotlib.pyplot as plt\n",
    "from tqdm import tqdm\n",
    "from sklearn.preprocessing import StandardScaler\n",
    "from sklearn.svm import SVC\n",
    "\n",
    "import warnings\n",
    "warnings.filterwarnings('ignore')\n"
   ]
  },
  {
   "cell_type": "markdown",
   "metadata": {},
   "source": [
    "#### Wczytanie zestawu danych oraz obróbka."
   ]
  },
  {
   "cell_type": "code",
   "execution_count": 56,
   "metadata": {},
   "outputs": [
    {
     "data": {
      "text/html": [
       "<div>\n",
       "<style scoped>\n",
       "    .dataframe tbody tr th:only-of-type {\n",
       "        vertical-align: middle;\n",
       "    }\n",
       "\n",
       "    .dataframe tbody tr th {\n",
       "        vertical-align: top;\n",
       "    }\n",
       "\n",
       "    .dataframe thead th {\n",
       "        text-align: right;\n",
       "    }\n",
       "</style>\n",
       "<table border=\"1\" class=\"dataframe\">\n",
       "  <thead>\n",
       "    <tr style=\"text-align: right;\">\n",
       "      <th></th>\n",
       "      <th>gender</th>\n",
       "      <th>age</th>\n",
       "      <th>hypertension</th>\n",
       "      <th>heart_disease</th>\n",
       "      <th>ever_married</th>\n",
       "      <th>work_type</th>\n",
       "      <th>Residence_type</th>\n",
       "      <th>avg_glucose_level</th>\n",
       "      <th>bmi</th>\n",
       "      <th>smoking_status</th>\n",
       "      <th>stroke</th>\n",
       "    </tr>\n",
       "  </thead>\n",
       "  <tbody>\n",
       "    <tr>\n",
       "      <th>0</th>\n",
       "      <td>Male</td>\n",
       "      <td>67.0</td>\n",
       "      <td>0</td>\n",
       "      <td>1</td>\n",
       "      <td>Yes</td>\n",
       "      <td>Private</td>\n",
       "      <td>Urban</td>\n",
       "      <td>228.69</td>\n",
       "      <td>36.6</td>\n",
       "      <td>formerly smoked</td>\n",
       "      <td>1</td>\n",
       "    </tr>\n",
       "    <tr>\n",
       "      <th>1</th>\n",
       "      <td>Male</td>\n",
       "      <td>80.0</td>\n",
       "      <td>0</td>\n",
       "      <td>1</td>\n",
       "      <td>Yes</td>\n",
       "      <td>Private</td>\n",
       "      <td>Rural</td>\n",
       "      <td>105.92</td>\n",
       "      <td>32.5</td>\n",
       "      <td>never smoked</td>\n",
       "      <td>1</td>\n",
       "    </tr>\n",
       "    <tr>\n",
       "      <th>2</th>\n",
       "      <td>Female</td>\n",
       "      <td>49.0</td>\n",
       "      <td>0</td>\n",
       "      <td>0</td>\n",
       "      <td>Yes</td>\n",
       "      <td>Private</td>\n",
       "      <td>Urban</td>\n",
       "      <td>171.23</td>\n",
       "      <td>34.4</td>\n",
       "      <td>smokes</td>\n",
       "      <td>1</td>\n",
       "    </tr>\n",
       "    <tr>\n",
       "      <th>3</th>\n",
       "      <td>Female</td>\n",
       "      <td>79.0</td>\n",
       "      <td>1</td>\n",
       "      <td>0</td>\n",
       "      <td>Yes</td>\n",
       "      <td>Self-employed</td>\n",
       "      <td>Rural</td>\n",
       "      <td>174.12</td>\n",
       "      <td>24.0</td>\n",
       "      <td>never smoked</td>\n",
       "      <td>1</td>\n",
       "    </tr>\n",
       "    <tr>\n",
       "      <th>4</th>\n",
       "      <td>Male</td>\n",
       "      <td>81.0</td>\n",
       "      <td>0</td>\n",
       "      <td>0</td>\n",
       "      <td>Yes</td>\n",
       "      <td>Private</td>\n",
       "      <td>Urban</td>\n",
       "      <td>186.21</td>\n",
       "      <td>29.0</td>\n",
       "      <td>formerly smoked</td>\n",
       "      <td>1</td>\n",
       "    </tr>\n",
       "  </tbody>\n",
       "</table>\n",
       "</div>"
      ],
      "text/plain": [
       "   gender   age  hypertension  heart_disease ever_married      work_type  \\\n",
       "0    Male  67.0             0              1          Yes        Private   \n",
       "1    Male  80.0             0              1          Yes        Private   \n",
       "2  Female  49.0             0              0          Yes        Private   \n",
       "3  Female  79.0             1              0          Yes  Self-employed   \n",
       "4    Male  81.0             0              0          Yes        Private   \n",
       "\n",
       "  Residence_type  avg_glucose_level   bmi   smoking_status  stroke  \n",
       "0          Urban             228.69  36.6  formerly smoked       1  \n",
       "1          Rural             105.92  32.5     never smoked       1  \n",
       "2          Urban             171.23  34.4           smokes       1  \n",
       "3          Rural             174.12  24.0     never smoked       1  \n",
       "4          Urban             186.21  29.0  formerly smoked       1  "
      ]
     },
     "execution_count": 56,
     "metadata": {},
     "output_type": "execute_result"
    }
   ],
   "source": [
    "data = pd.read_csv('./stroke_zaj2.csv', sep = ';', decimal = ',')\n",
    "data.head()"
   ]
  },
  {
   "cell_type": "code",
   "execution_count": 57,
   "metadata": {},
   "outputs": [
    {
     "data": {
      "text/plain": [
       "(400, 11)"
      ]
     },
     "execution_count": 57,
     "metadata": {},
     "output_type": "execute_result"
    }
   ],
   "source": [
    "data.shape"
   ]
  },
  {
   "cell_type": "code",
   "execution_count": 58,
   "metadata": {},
   "outputs": [
    {
     "data": {
      "text/plain": [
       "stroke\n",
       "1    200\n",
       "0    200\n",
       "Name: count, dtype: int64"
      ]
     },
     "execution_count": 58,
     "metadata": {},
     "output_type": "execute_result"
    }
   ],
   "source": [
    "data['stroke'].value_counts()"
   ]
  },
  {
   "cell_type": "code",
   "execution_count": 59,
   "metadata": {},
   "outputs": [
    {
     "data": {
      "text/plain": [
       "gender                object\n",
       "age                  float64\n",
       "hypertension           int64\n",
       "heart_disease          int64\n",
       "ever_married          object\n",
       "work_type             object\n",
       "Residence_type        object\n",
       "avg_glucose_level    float64\n",
       "bmi                  float64\n",
       "smoking_status        object\n",
       "stroke                 int64\n",
       "dtype: object"
      ]
     },
     "execution_count": 59,
     "metadata": {},
     "output_type": "execute_result"
    }
   ],
   "source": [
    "data.dtypes"
   ]
  },
  {
   "cell_type": "code",
   "execution_count": 60,
   "metadata": {},
   "outputs": [
    {
     "data": {
      "text/plain": [
       "gender                0\n",
       "age                   0\n",
       "hypertension          0\n",
       "heart_disease         0\n",
       "ever_married          0\n",
       "work_type             0\n",
       "Residence_type        0\n",
       "avg_glucose_level     0\n",
       "bmi                  37\n",
       "smoking_status        0\n",
       "stroke                0\n",
       "dtype: int64"
      ]
     },
     "execution_count": 60,
     "metadata": {},
     "output_type": "execute_result"
    }
   ],
   "source": [
    "data.isnull().sum()"
   ]
  },
  {
   "cell_type": "markdown",
   "metadata": {},
   "source": [
    "#### **Zadanie 1.**\n",
    "**Scharakteryzować krótko wykorzystywane dane (czego dotyczą, jakiego rodzaju zmienne zawierają, jaki jest poziom zbalansowania zbioru danych). Wyeliminować braki danych.**"
   ]
  },
  {
   "cell_type": "markdown",
   "metadata": {},
   "source": [
    "\n",
    "W zbiorze danych posiadamy zmienne dotyczące **stanu zdrowia**, **stylu życia** oraz **wieku**.  \n",
    "Zmienne kategoryczne to **gender**, **ever_married**, **work_type**, **residence_type**, **smoking_status**. Pozostałe zmienne, to zmienne ilościowe. <br>\n",
    "Zbiór danych jest **zbalansowany**, posiadamy $200$ obserwacji należących do klasy pozytywnej, jak i $200$ obserwacji należąych do klasy negatywnej. \n",
    "<br>\n",
    "W danych występują **brakujące wartości** dla zmiennej **BMI**, dlatego zdecydowaliśmy się na ich usunięcie.*  \n",
    "<br>\n",
    "**Podczas ćwiczeń przetestowaliśmy modele na dwóch różnych zestawach danych: jednym z usuniętymi brakującymi wartościami oraz drugim, w którym brakujące dane zostały zastąpione średnią. Okazało się, że modele osiągały lepsze wyniki na danych, z których usunięto brakujące wartości.*\n",
    " "
   ]
  },
  {
   "cell_type": "markdown",
   "metadata": {},
   "source": [
    "Przechodzimy więc do usunięcia z danych wierszych, w których brakuje danych dla zmiennej BMI."
   ]
  },
  {
   "cell_type": "code",
   "execution_count": 61,
   "metadata": {},
   "outputs": [],
   "source": [
    "data = data.dropna()"
   ]
  },
  {
   "cell_type": "code",
   "execution_count": 62,
   "metadata": {},
   "outputs": [
    {
     "data": {
      "text/plain": [
       "(363, 11)"
      ]
     },
     "execution_count": 62,
     "metadata": {},
     "output_type": "execute_result"
    }
   ],
   "source": [
    "data.shape"
   ]
  },
  {
   "cell_type": "code",
   "execution_count": 63,
   "metadata": {},
   "outputs": [
    {
     "data": {
      "text/plain": [
       "stroke\n",
       "0    193\n",
       "1    170\n",
       "Name: count, dtype: int64"
      ]
     },
     "execution_count": 63,
     "metadata": {},
     "output_type": "execute_result"
    }
   ],
   "source": [
    "data['stroke'].value_counts()"
   ]
  },
  {
   "cell_type": "markdown",
   "metadata": {},
   "source": [
    "Po wyeliminownaiu brakujących wartości, rozkład jest w miarę równomierny, około $47\\%$ dla klasy pozytywnej i $53\\%$ dla klasy negatywnej. Przy takiej różnicy uznajemy dane za wystarczająco zbalansowane."
   ]
  },
  {
   "cell_type": "markdown",
   "metadata": {},
   "source": [
    "W następnym kroku zamienimy zmienne kategoryczne na zmienne binarne, za pomocą **one-hot endoding**."
   ]
  },
  {
   "cell_type": "code",
   "execution_count": 64,
   "metadata": {},
   "outputs": [],
   "source": [
    "gender_dummies = pd.get_dummies(data['gender'], dtype = int, drop_first = True)\n",
    "ever_married_dummies = pd.get_dummies(data['ever_married'], dtype = int, drop_first = True)\n",
    "work_type_dummies = pd.get_dummies(data['work_type'], dtype = int, drop_first = True)\n",
    "residence_type_dummies = pd.get_dummies(data['Residence_type'], dtype = int, drop_first = True)\n",
    "smoking_status_dummies = pd.get_dummies(data['smoking_status'], dtype = int, drop_first = True)"
   ]
  },
  {
   "cell_type": "code",
   "execution_count": 65,
   "metadata": {},
   "outputs": [
    {
     "data": {
      "text/html": [
       "<div>\n",
       "<style scoped>\n",
       "    .dataframe tbody tr th:only-of-type {\n",
       "        vertical-align: middle;\n",
       "    }\n",
       "\n",
       "    .dataframe tbody tr th {\n",
       "        vertical-align: top;\n",
       "    }\n",
       "\n",
       "    .dataframe thead th {\n",
       "        text-align: right;\n",
       "    }\n",
       "</style>\n",
       "<table border=\"1\" class=\"dataframe\">\n",
       "  <thead>\n",
       "    <tr style=\"text-align: right;\">\n",
       "      <th></th>\n",
       "      <th>Male</th>\n",
       "      <th>age</th>\n",
       "      <th>hypertension</th>\n",
       "      <th>heart_disease</th>\n",
       "      <th>ever_married</th>\n",
       "      <th>Never_worked</th>\n",
       "      <th>Private</th>\n",
       "      <th>Self-employed</th>\n",
       "      <th>children</th>\n",
       "      <th>Urban</th>\n",
       "      <th>avg_glucose_level</th>\n",
       "      <th>bmi</th>\n",
       "      <th>formerly smoked</th>\n",
       "      <th>never smoked</th>\n",
       "      <th>smokes</th>\n",
       "      <th>stroke</th>\n",
       "    </tr>\n",
       "  </thead>\n",
       "  <tbody>\n",
       "    <tr>\n",
       "      <th>0</th>\n",
       "      <td>1</td>\n",
       "      <td>67.0</td>\n",
       "      <td>0</td>\n",
       "      <td>1</td>\n",
       "      <td>1</td>\n",
       "      <td>0</td>\n",
       "      <td>1</td>\n",
       "      <td>0</td>\n",
       "      <td>0</td>\n",
       "      <td>1</td>\n",
       "      <td>228.69</td>\n",
       "      <td>36.6</td>\n",
       "      <td>1</td>\n",
       "      <td>0</td>\n",
       "      <td>0</td>\n",
       "      <td>1</td>\n",
       "    </tr>\n",
       "    <tr>\n",
       "      <th>1</th>\n",
       "      <td>1</td>\n",
       "      <td>80.0</td>\n",
       "      <td>0</td>\n",
       "      <td>1</td>\n",
       "      <td>1</td>\n",
       "      <td>0</td>\n",
       "      <td>1</td>\n",
       "      <td>0</td>\n",
       "      <td>0</td>\n",
       "      <td>0</td>\n",
       "      <td>105.92</td>\n",
       "      <td>32.5</td>\n",
       "      <td>0</td>\n",
       "      <td>1</td>\n",
       "      <td>0</td>\n",
       "      <td>1</td>\n",
       "    </tr>\n",
       "    <tr>\n",
       "      <th>2</th>\n",
       "      <td>0</td>\n",
       "      <td>49.0</td>\n",
       "      <td>0</td>\n",
       "      <td>0</td>\n",
       "      <td>1</td>\n",
       "      <td>0</td>\n",
       "      <td>1</td>\n",
       "      <td>0</td>\n",
       "      <td>0</td>\n",
       "      <td>1</td>\n",
       "      <td>171.23</td>\n",
       "      <td>34.4</td>\n",
       "      <td>0</td>\n",
       "      <td>0</td>\n",
       "      <td>1</td>\n",
       "      <td>1</td>\n",
       "    </tr>\n",
       "    <tr>\n",
       "      <th>3</th>\n",
       "      <td>0</td>\n",
       "      <td>79.0</td>\n",
       "      <td>1</td>\n",
       "      <td>0</td>\n",
       "      <td>1</td>\n",
       "      <td>0</td>\n",
       "      <td>0</td>\n",
       "      <td>1</td>\n",
       "      <td>0</td>\n",
       "      <td>0</td>\n",
       "      <td>174.12</td>\n",
       "      <td>24.0</td>\n",
       "      <td>0</td>\n",
       "      <td>1</td>\n",
       "      <td>0</td>\n",
       "      <td>1</td>\n",
       "    </tr>\n",
       "    <tr>\n",
       "      <th>4</th>\n",
       "      <td>1</td>\n",
       "      <td>81.0</td>\n",
       "      <td>0</td>\n",
       "      <td>0</td>\n",
       "      <td>1</td>\n",
       "      <td>0</td>\n",
       "      <td>1</td>\n",
       "      <td>0</td>\n",
       "      <td>0</td>\n",
       "      <td>1</td>\n",
       "      <td>186.21</td>\n",
       "      <td>29.0</td>\n",
       "      <td>1</td>\n",
       "      <td>0</td>\n",
       "      <td>0</td>\n",
       "      <td>1</td>\n",
       "    </tr>\n",
       "  </tbody>\n",
       "</table>\n",
       "</div>"
      ],
      "text/plain": [
       "   Male   age  hypertension  heart_disease  ever_married  Never_worked  \\\n",
       "0     1  67.0             0              1             1             0   \n",
       "1     1  80.0             0              1             1             0   \n",
       "2     0  49.0             0              0             1             0   \n",
       "3     0  79.0             1              0             1             0   \n",
       "4     1  81.0             0              0             1             0   \n",
       "\n",
       "   Private  Self-employed  children  Urban  avg_glucose_level   bmi  \\\n",
       "0        1              0         0      1             228.69  36.6   \n",
       "1        1              0         0      0             105.92  32.5   \n",
       "2        1              0         0      1             171.23  34.4   \n",
       "3        0              1         0      0             174.12  24.0   \n",
       "4        1              0         0      1             186.21  29.0   \n",
       "\n",
       "   formerly smoked  never smoked  smokes  stroke  \n",
       "0                1             0       0       1  \n",
       "1                0             1       0       1  \n",
       "2                0             0       1       1  \n",
       "3                0             1       0       1  \n",
       "4                1             0       0       1  "
      ]
     },
     "execution_count": 65,
     "metadata": {},
     "output_type": "execute_result"
    }
   ],
   "source": [
    "data = pd.concat([gender_dummies, data[['age', 'hypertension', 'heart_disease']], ever_married_dummies, work_type_dummies, \n",
    "        residence_type_dummies, data[['avg_glucose_level', 'bmi',]], smoking_status_dummies, data[['stroke']]], axis = 1)\n",
    "data = data.rename(columns = {'Yes': 'ever_married'})\n",
    "data.head()"
   ]
  },
  {
   "cell_type": "markdown",
   "metadata": {},
   "source": [
    "#### Budowa modelu - drzewa decyzyjne."
   ]
  },
  {
   "cell_type": "markdown",
   "metadata": {},
   "source": [
    "#### **Zadanie 2.**\n",
    "**Wykorzystać proste drzewo decyzyjne do predykcji wartości zmiennej wynikowej. Zweryfikować jak poziom przycięcie drzewa wpływa na uzyskiwane wyniki (zarówno na zbiorze testowym, jak i uczącym). Zwrócić szczególną uwagę na miary: dokładności, czułości i specyficzności.**"
   ]
  },
  {
   "cell_type": "markdown",
   "metadata": {},
   "source": [
    "Podział danych na zbiór uczący i testowy w proporcji $80/20$:"
   ]
  },
  {
   "cell_type": "code",
   "execution_count": 66,
   "metadata": {},
   "outputs": [],
   "source": [
    "y = data.stroke\n",
    "X = data.iloc[:, 0:15]\n",
    "X_train, X_test, y_train, y_test = train_test_split(X, y, test_size=0.2, random_state=10)"
   ]
  },
  {
   "cell_type": "markdown",
   "metadata": {},
   "source": [
    "Budowa modelu drzewa decyzyjnego z domyślnymi parametrami:"
   ]
  },
  {
   "cell_type": "code",
   "execution_count": 67,
   "metadata": {},
   "outputs": [],
   "source": [
    "model_dc = DecisionTreeClassifier(random_state=42)\n",
    "model_dc.fit(X_train, y_train)\n",
    "\n",
    "y_pred_train = model_dc.predict(X_train)\n",
    "y_pred_test = model_dc.predict(X_test)"
   ]
  },
  {
   "cell_type": "code",
   "execution_count": 68,
   "metadata": {},
   "outputs": [
    {
     "name": "stdout",
     "output_type": "stream",
     "text": [
      "Prezentacja wyników na zbiorze uczącym:\n"
     ]
    },
    {
     "data": {
      "image/png": "[encoded data removed]",
      "text/plain": [
       "<Figure size 640x480 with 2 Axes>"
      ]
     },
     "metadata": {},
     "output_type": "display_data"
    },
    {
     "name": "stdout",
     "output_type": "stream",
     "text": [
      "              precision    recall  f1-score   support\n",
      "\n",
      "           0       1.00      1.00      1.00       156\n",
      "           1       1.00      1.00      1.00       134\n",
      "\n",
      "    accuracy                           1.00       290\n",
      "   macro avg       1.00      1.00      1.00       290\n",
      "weighted avg       1.00      1.00      1.00       290\n",
      "\n",
      "Dokładność modelu: 1.00\n",
      "Czułość modelu: 1.00\n"
     ]
    }
   ],
   "source": [
    "print(\"Prezentacja wyników na zbiorze uczącym:\")\n",
    "conf_matrix = confusion_matrix(y_train, y_pred_train)\n",
    "sns.heatmap(conf_matrix, annot=True, fmt='d', cmap='Blues')\n",
    "plt.xlabel('Predicted')\n",
    "plt.ylabel('Actual')\n",
    "plt.show()\n",
    "print(classification_report(y_train, y_pred_train))\n",
    "print(f\"Dokładność modelu: {accuracy_score(y_train, y_pred_train):0.2f}\")\n",
    "print(f\"Czułość modelu: {recall_score(y_train, y_pred_train):0.2f}\")"
   ]
  },
  {
   "cell_type": "code",
   "execution_count": 69,
   "metadata": {},
   "outputs": [
    {
     "name": "stdout",
     "output_type": "stream",
     "text": [
      "Prezentacja wyników na zbiorze testowym:\n"
     ]
    },
    {
     "data": {
      "image/png": "[encoded data removed]",
      "text/plain": [
       "<Figure size 640x480 with 2 Axes>"
      ]
     },
     "metadata": {},
     "output_type": "display_data"
    },
    {
     "name": "stdout",
     "output_type": "stream",
     "text": [
      "              precision    recall  f1-score   support\n",
      "\n",
      "           0       0.76      0.86      0.81        37\n",
      "           1       0.84      0.72      0.78        36\n",
      "\n",
      "    accuracy                           0.79        73\n",
      "   macro avg       0.80      0.79      0.79        73\n",
      "weighted avg       0.80      0.79      0.79        73\n",
      "\n",
      "Dokładność modelu: 0.79\n",
      "Czułość modelu: 0.72\n"
     ]
    }
   ],
   "source": [
    "print(\"Prezentacja wyników na zbiorze testowym:\")\n",
    "conf_matrix = confusion_matrix(y_test, y_pred_test)\n",
    "sns.heatmap(conf_matrix, annot=True, fmt='d', cmap='Blues')\n",
    "plt.xlabel('Predicted')\n",
    "plt.ylabel('Actual')\n",
    "plt.show()\n",
    "print(classification_report(y_test, y_pred_test))\n",
    "print(f\"Dokładność modelu: {accuracy_score(y_test, y_pred_test):0.2f}\")\n",
    "print(f\"Czułość modelu: {recall_score(y_test, y_pred_test):0.2f}\")"
   ]
  },
  {
   "cell_type": "code",
   "execution_count": 70,
   "metadata": {},
   "outputs": [
    {
     "data": {
      "image/png": "[encoded data removed]",
      "text/plain": [
       "<Figure size 1200x800 with 1 Axes>"
      ]
     },
     "metadata": {},
     "output_type": "display_data"
    }
   ],
   "source": [
    "plt.figure(figsize=(12, 8))\n",
    "plot_tree(model_dc, feature_names=X_train.columns, filled=True)\n",
    "plt.show()"
   ]
  },
  {
   "cell_type": "markdown",
   "metadata": {},
   "source": [
    "Na zbiorze uczącym otrzymaliśmy dokładność na poziomie $100\\%$, natomiast na zbiorze testowym dokładność jest znacznie niższa. Może to świadczyć o nadmiernym **przeuczeniu modelu**.<br>\n",
    "Na wizualizacji widzimy, że drzewo jest bardzo głębokie i szczegółowe, w efekcie czego może nadmiernie dopasowywać się do danych treningowych."
   ]
  },
  {
   "cell_type": "markdown",
   "metadata": {},
   "source": [
    "Zobaczmy teraz jak zadziała ustawienie parametrów - **max_depth** oraz **criterion**."
   ]
  },
  {
   "cell_type": "code",
   "execution_count": 71,
   "metadata": {},
   "outputs": [
    {
     "name": "stderr",
     "output_type": "stream",
     "text": [
      "100%|██████████| 19/19 [00:00<00:00, 643.09it/s]\n"
     ]
    },
    {
     "data": {
      "text/html": [
       "<div>\n",
       "<style scoped>\n",
       "    .dataframe tbody tr th:only-of-type {\n",
       "        vertical-align: middle;\n",
       "    }\n",
       "\n",
       "    .dataframe tbody tr th {\n",
       "        vertical-align: top;\n",
       "    }\n",
       "\n",
       "    .dataframe thead th {\n",
       "        text-align: right;\n",
       "    }\n",
       "</style>\n",
       "<table border=\"1\" class=\"dataframe\">\n",
       "  <thead>\n",
       "    <tr style=\"text-align: right;\">\n",
       "      <th></th>\n",
       "      <th>max_depth</th>\n",
       "      <th>accuracy</th>\n",
       "      <th>recall</th>\n",
       "      <th>precision</th>\n",
       "    </tr>\n",
       "  </thead>\n",
       "  <tbody>\n",
       "    <tr>\n",
       "      <th>0</th>\n",
       "      <td>1</td>\n",
       "      <td>0.808219</td>\n",
       "      <td>0.805556</td>\n",
       "      <td>0.810811</td>\n",
       "    </tr>\n",
       "    <tr>\n",
       "      <th>1</th>\n",
       "      <td>2</td>\n",
       "      <td>0.808219</td>\n",
       "      <td>0.805556</td>\n",
       "      <td>0.810811</td>\n",
       "    </tr>\n",
       "    <tr>\n",
       "      <th>2</th>\n",
       "      <td>3</td>\n",
       "      <td>0.821918</td>\n",
       "      <td>0.805556</td>\n",
       "      <td>0.837838</td>\n",
       "    </tr>\n",
       "    <tr>\n",
       "      <th>3</th>\n",
       "      <td>4</td>\n",
       "      <td>0.821918</td>\n",
       "      <td>0.805556</td>\n",
       "      <td>0.837838</td>\n",
       "    </tr>\n",
       "    <tr>\n",
       "      <th>4</th>\n",
       "      <td>5</td>\n",
       "      <td>0.821918</td>\n",
       "      <td>0.805556</td>\n",
       "      <td>0.837838</td>\n",
       "    </tr>\n",
       "    <tr>\n",
       "      <th>5</th>\n",
       "      <td>6</td>\n",
       "      <td>0.808219</td>\n",
       "      <td>0.777778</td>\n",
       "      <td>0.837838</td>\n",
       "    </tr>\n",
       "    <tr>\n",
       "      <th>6</th>\n",
       "      <td>7</td>\n",
       "      <td>0.780822</td>\n",
       "      <td>0.777778</td>\n",
       "      <td>0.783784</td>\n",
       "    </tr>\n",
       "    <tr>\n",
       "      <th>7</th>\n",
       "      <td>8</td>\n",
       "      <td>0.794521</td>\n",
       "      <td>0.750000</td>\n",
       "      <td>0.837838</td>\n",
       "    </tr>\n",
       "    <tr>\n",
       "      <th>8</th>\n",
       "      <td>9</td>\n",
       "      <td>0.835616</td>\n",
       "      <td>0.805556</td>\n",
       "      <td>0.864865</td>\n",
       "    </tr>\n",
       "    <tr>\n",
       "      <th>9</th>\n",
       "      <td>10</td>\n",
       "      <td>0.821918</td>\n",
       "      <td>0.750000</td>\n",
       "      <td>0.891892</td>\n",
       "    </tr>\n",
       "    <tr>\n",
       "      <th>10</th>\n",
       "      <td>11</td>\n",
       "      <td>0.780822</td>\n",
       "      <td>0.694444</td>\n",
       "      <td>0.864865</td>\n",
       "    </tr>\n",
       "    <tr>\n",
       "      <th>11</th>\n",
       "      <td>12</td>\n",
       "      <td>0.767123</td>\n",
       "      <td>0.694444</td>\n",
       "      <td>0.837838</td>\n",
       "    </tr>\n",
       "    <tr>\n",
       "      <th>12</th>\n",
       "      <td>13</td>\n",
       "      <td>0.821918</td>\n",
       "      <td>0.722222</td>\n",
       "      <td>0.918919</td>\n",
       "    </tr>\n",
       "    <tr>\n",
       "      <th>13</th>\n",
       "      <td>14</td>\n",
       "      <td>0.794521</td>\n",
       "      <td>0.722222</td>\n",
       "      <td>0.864865</td>\n",
       "    </tr>\n",
       "    <tr>\n",
       "      <th>14</th>\n",
       "      <td>15</td>\n",
       "      <td>0.821918</td>\n",
       "      <td>0.750000</td>\n",
       "      <td>0.891892</td>\n",
       "    </tr>\n",
       "    <tr>\n",
       "      <th>15</th>\n",
       "      <td>16</td>\n",
       "      <td>0.794521</td>\n",
       "      <td>0.722222</td>\n",
       "      <td>0.864865</td>\n",
       "    </tr>\n",
       "    <tr>\n",
       "      <th>16</th>\n",
       "      <td>17</td>\n",
       "      <td>0.794521</td>\n",
       "      <td>0.722222</td>\n",
       "      <td>0.864865</td>\n",
       "    </tr>\n",
       "    <tr>\n",
       "      <th>17</th>\n",
       "      <td>18</td>\n",
       "      <td>0.808219</td>\n",
       "      <td>0.722222</td>\n",
       "      <td>0.891892</td>\n",
       "    </tr>\n",
       "    <tr>\n",
       "      <th>18</th>\n",
       "      <td>19</td>\n",
       "      <td>0.821918</td>\n",
       "      <td>0.750000</td>\n",
       "      <td>0.891892</td>\n",
       "    </tr>\n",
       "  </tbody>\n",
       "</table>\n",
       "</div>"
      ],
      "text/plain": [
       "    max_depth  accuracy    recall  precision\n",
       "0           1  0.808219  0.805556   0.810811\n",
       "1           2  0.808219  0.805556   0.810811\n",
       "2           3  0.821918  0.805556   0.837838\n",
       "3           4  0.821918  0.805556   0.837838\n",
       "4           5  0.821918  0.805556   0.837838\n",
       "5           6  0.808219  0.777778   0.837838\n",
       "6           7  0.780822  0.777778   0.783784\n",
       "7           8  0.794521  0.750000   0.837838\n",
       "8           9  0.835616  0.805556   0.864865\n",
       "9          10  0.821918  0.750000   0.891892\n",
       "10         11  0.780822  0.694444   0.864865\n",
       "11         12  0.767123  0.694444   0.837838\n",
       "12         13  0.821918  0.722222   0.918919\n",
       "13         14  0.794521  0.722222   0.864865\n",
       "14         15  0.821918  0.750000   0.891892\n",
       "15         16  0.794521  0.722222   0.864865\n",
       "16         17  0.794521  0.722222   0.864865\n",
       "17         18  0.808219  0.722222   0.891892\n",
       "18         19  0.821918  0.750000   0.891892"
      ]
     },
     "execution_count": 71,
     "metadata": {},
     "output_type": "execute_result"
    }
   ],
   "source": [
    "results = []\n",
    "for i in tqdm(range(1, 20)):\n",
    "    model_dt = DecisionTreeClassifier(max_depth=i)\n",
    "    model_dt.fit(X_train, y_train)\n",
    "    y_pred_test = model_dt.predict(X_test)\n",
    "    accuracy_test = accuracy_score(y_test, y_pred_test)\n",
    "    conf_matrix = confusion_matrix(y_test, y_pred_test)\n",
    "    sensitivity = conf_matrix[1,1]/(conf_matrix[1,0]+conf_matrix[1,1])\n",
    "    specificity = conf_matrix[0,0]/(conf_matrix[0,0]+conf_matrix[0,1])\n",
    "    results.append([i, accuracy_test, sensitivity, specificity])\n",
    "results = pd.DataFrame(results, columns=['max_depth', 'accuracy', 'recall', 'precision'])\n",
    "results"
   ]
  },
  {
   "cell_type": "markdown",
   "metadata": {},
   "source": [
    "Analiza wyników przedstawionych w tabeli pokazuje, że dla drzewa decyzyjnego o maksymalnej głębokości w granicach $4$ uzyskano jednocześnie najwyższą dokładnoś oraz czułość.\n",
    " \n",
    "Niższa złożoność modelu przekłada się na mniejszą podatność na przeuczenie, co pozwala mu lepiej generalizować na nowych danych. Dodatkowo, prostsze modele są łatwiejsze do interpretacji, co ułatwia zrozumienie reguł rządzących podejmowanymi decyzjami."
   ]
  },
  {
   "cell_type": "markdown",
   "metadata": {},
   "source": [
    "#### **Zadanie 3.** \n",
    "**Zastosować 2 z 3 możliwych rozszerzeń drzew decyzyjnych: las losowy, bagging, boosting. Zweryfikować, jak dobór hiperparametrów wpływa na wyniki. W przypadku rozszerzeń przeanalizować można np. zmiany:**\n",
    "- **bagging: liczby drzew, liczby obserwacji, złożoności drzewa,**\n",
    "- **las losowy: liczby drzew w lesie, liczby zmiennych, złożoności drzewa,**\n",
    "- **boosting: liczby modeli do zbudowania.**\n",
    "\n",
    "**Porównać wyniki z zadania 2 i 3.**\n",
    "\n"
   ]
  },
  {
   "cell_type": "markdown",
   "metadata": {},
   "source": [
    "#### Budowa modelu - las losowy.\n",
    "Budowa modelu dla domyślnych parametrów. "
   ]
  },
  {
   "cell_type": "code",
   "execution_count": 72,
   "metadata": {},
   "outputs": [],
   "source": [
    "model_rf = RandomForestClassifier(random_state=42)\n",
    "model_rf.fit(X_train, y_train)\n",
    "\n",
    "y_pred_train = model_rf.predict(X_train)\n",
    "y_pred_test = model_rf.predict(X_test)"
   ]
  },
  {
   "cell_type": "code",
   "execution_count": 73,
   "metadata": {},
   "outputs": [
    {
     "name": "stdout",
     "output_type": "stream",
     "text": [
      "Prezentacja wyników na zbiorze uczącym:\n"
     ]
    },
    {
     "data": {
      "image/png": "[encoded data removed]",
      "text/plain": [
       "<Figure size 640x480 with 2 Axes>"
      ]
     },
     "metadata": {},
     "output_type": "display_data"
    },
    {
     "name": "stdout",
     "output_type": "stream",
     "text": [
      "              precision    recall  f1-score   support\n",
      "\n",
      "           0       1.00      1.00      1.00       156\n",
      "           1       1.00      1.00      1.00       134\n",
      "\n",
      "    accuracy                           1.00       290\n",
      "   macro avg       1.00      1.00      1.00       290\n",
      "weighted avg       1.00      1.00      1.00       290\n",
      "\n",
      "Dokładność modelu: 1.00\n",
      "Czułość modelu: 1.00\n"
     ]
    }
   ],
   "source": [
    "print(\"Prezentacja wyników na zbiorze uczącym:\")\n",
    "conf_matrix = confusion_matrix(y_train, y_pred_train)\n",
    "sns.heatmap(conf_matrix, annot=True, fmt='d', cmap='Blues')\n",
    "plt.xlabel('Predicted')\n",
    "plt.ylabel('Actual')\n",
    "plt.show()\n",
    "print(classification_report(y_train, y_pred_train))\n",
    "print(f\"Dokładność modelu: {accuracy_score(y_train, y_pred_train):0.2f}\")\n",
    "print(f\"Czułość modelu: {recall_score(y_train, y_pred_train):0.2f}\")"
   ]
  },
  {
   "cell_type": "code",
   "execution_count": 74,
   "metadata": {},
   "outputs": [
    {
     "name": "stdout",
     "output_type": "stream",
     "text": [
      "Prezentacja wyników na zbiorze testowym:\n"
     ]
    },
    {
     "data": {
      "image/png": "[encoded data removed]",
      "text/plain": [
       "<Figure size 640x480 with 2 Axes>"
      ]
     },
     "metadata": {},
     "output_type": "display_data"
    },
    {
     "name": "stdout",
     "output_type": "stream",
     "text": [
      "              precision    recall  f1-score   support\n",
      "\n",
      "           0       0.81      0.78      0.79        37\n",
      "           1       0.78      0.81      0.79        36\n",
      "\n",
      "    accuracy                           0.79        73\n",
      "   macro avg       0.79      0.79      0.79        73\n",
      "weighted avg       0.79      0.79      0.79        73\n",
      "\n",
      "Dokładność modelu: 0.79\n",
      "Czułość modelu: 0.81\n"
     ]
    }
   ],
   "source": [
    "print(\"Prezentacja wyników na zbiorze testowym:\")\n",
    "conf_matrix = confusion_matrix(y_test, y_pred_test)\n",
    "sns.heatmap(conf_matrix, annot=True, fmt='d', cmap='Blues')\n",
    "plt.xlabel('Predicted')\n",
    "plt.ylabel('Actual')\n",
    "plt.show()\n",
    "print(classification_report(y_test, y_pred_test))\n",
    "print(f\"Dokładność modelu: {accuracy_score(y_test, y_pred_test):0.2f}\")\n",
    "print(f\"Czułość modelu: {recall_score(y_test, y_pred_test):0.2f}\")"
   ]
  },
  {
   "cell_type": "markdown",
   "metadata": {},
   "source": [
    "Dokładność na zbiorze treningowym to $100\\%$, natomiast na zbiorze testowym jest zniacznie niższa, może to świadczyć o przeuczonym modelu. "
   ]
  },
  {
   "cell_type": "markdown",
   "metadata": {},
   "source": [
    "Spróbujemy teraz znależć parametry odpowiadające za maksymalną głębokość drzewa, liczbę drzew w lesie oraz kryterium podziału."
   ]
  },
  {
   "cell_type": "code",
   "execution_count": 75,
   "metadata": {},
   "outputs": [
    {
     "name": "stderr",
     "output_type": "stream",
     "text": [
      "100%|██████████| 19/19 [00:02<00:00,  9.28it/s]\n"
     ]
    }
   ],
   "source": [
    "best_n_estimators = 0\n",
    "best_max_depth = 0\n",
    "best_accuracy = 0\n",
    "best_model = None\n",
    "for i in tqdm(range(1, 20)):\n",
    "    for j in range(1, 20):\n",
    "        model_rf = RandomForestClassifier(max_depth=j, n_estimators=i, random_state=42)\n",
    "        model_rf.fit(X_train, y_train)\n",
    "        y_pred_test = model_rf.predict(X_test)\n",
    "        accuracy_test = accuracy_score(y_test, y_pred_test)\n",
    "        if accuracy_test > best_accuracy:\n",
    "            best_n_estimators = i\n",
    "            best_max_depth = j\n",
    "            best_accuracy = accuracy_test\n",
    "            best_model = model_rf"
   ]
  },
  {
   "cell_type": "code",
   "execution_count": 76,
   "metadata": {},
   "outputs": [
    {
     "name": "stdout",
     "output_type": "stream",
     "text": [
      "Najlepsza liczba n_estimators: 15\n",
      "Najlepsza wartość max_depth: 6\n",
      "Największa dokładność na zbiorze testowym: 0.84\n"
     ]
    }
   ],
   "source": [
    "print(f'Najlepsza liczba n_estimators: {best_n_estimators}')\n",
    "print(f'Najlepsza wartość max_depth: {best_max_depth}')\n",
    "print(f'Największa dokładność na zbiorze testowym: {best_accuracy:0.2f}')"
   ]
  },
  {
   "cell_type": "code",
   "execution_count": 77,
   "metadata": {},
   "outputs": [],
   "source": [
    "y_pred_train = best_model.predict(X_train)\n",
    "y_pred_test = best_model.predict(X_test)"
   ]
  },
  {
   "cell_type": "code",
   "execution_count": 78,
   "metadata": {},
   "outputs": [
    {
     "name": "stdout",
     "output_type": "stream",
     "text": [
      "Prezentacja wyników na zbiorze uczącym:\n"
     ]
    },
    {
     "data": {
      "image/png": "[encoded data removed]",
      "text/plain": [
       "<Figure size 640x480 with 2 Axes>"
      ]
     },
     "metadata": {},
     "output_type": "display_data"
    },
    {
     "name": "stdout",
     "output_type": "stream",
     "text": [
      "              precision    recall  f1-score   support\n",
      "\n",
      "           0       0.88      0.84      0.86       156\n",
      "           1       0.82      0.87      0.84       134\n",
      "\n",
      "    accuracy                           0.85       290\n",
      "   macro avg       0.85      0.85      0.85       290\n",
      "weighted avg       0.85      0.85      0.85       290\n",
      "\n",
      "Dokładność modelu: 0.85\n",
      "Czułość modelu: 0.87\n"
     ]
    }
   ],
   "source": [
    "print(\"Prezentacja wyników na zbiorze uczącym:\")\n",
    "conf_matrix = confusion_matrix(y_train, y_pred_train)\n",
    "sns.heatmap(conf_matrix, annot=True, fmt='d', cmap='Blues')\n",
    "plt.xlabel('Predicted')\n",
    "plt.ylabel('Actual')\n",
    "plt.show()\n",
    "print(classification_report(y_train, y_pred_train))\n",
    "print(f\"Dokładność modelu: {accuracy_score(y_train, y_pred_train):0.2f}\")\n",
    "print(f\"Czułość modelu: {recall_score(y_train, y_pred_train):0.2f}\")"
   ]
  },
  {
   "cell_type": "code",
   "execution_count": 79,
   "metadata": {},
   "outputs": [
    {
     "name": "stdout",
     "output_type": "stream",
     "text": [
      "Prezentacja wyników na zbiorze testowym:\n"
     ]
    },
    {
     "data": {
      "image/png": "[encoded data removed]",
      "text/plain": [
       "<Figure size 640x480 with 2 Axes>"
      ]
     },
     "metadata": {},
     "output_type": "display_data"
    },
    {
     "name": "stdout",
     "output_type": "stream",
     "text": [
      "              precision    recall  f1-score   support\n",
      "\n",
      "           0       0.82      0.86      0.84        37\n",
      "           1       0.85      0.81      0.83        36\n",
      "\n",
      "    accuracy                           0.84        73\n",
      "   macro avg       0.84      0.84      0.84        73\n",
      "weighted avg       0.84      0.84      0.84        73\n",
      "\n",
      "Dokładność modelu: 0.84\n",
      "Czułość modelu: 0.81\n"
     ]
    }
   ],
   "source": [
    "print(\"Prezentacja wyników na zbiorze testowym:\")\n",
    "conf_matrix = confusion_matrix(y_test, y_pred_test)\n",
    "sns.heatmap(conf_matrix, annot=True, fmt='d', cmap='Blues')\n",
    "plt.xlabel('Predicted')\n",
    "plt.ylabel('Actual')\n",
    "plt.show()\n",
    "print(classification_report(y_test, y_pred_test))\n",
    "print(f\"Dokładność modelu: {accuracy_score(y_test, y_pred_test):0.2f}\")\n",
    "print(f\"Czułość modelu: {recall_score(y_test, y_pred_test):0.2f}\")"
   ]
  },
  {
   "cell_type": "markdown",
   "metadata": {},
   "source": [
    "Jak widzimy, udało nam się uzyskać lepszą dokładność niż w przypadku lasów losowych z domyślnymi parametrami."
   ]
  },
  {
   "cell_type": "markdown",
   "metadata": {},
   "source": [
    "#### Budowa modelu - AdaBoost."
   ]
  },
  {
   "cell_type": "code",
   "execution_count": 80,
   "metadata": {},
   "outputs": [],
   "source": [
    "model_ab = AdaBoostClassifier(random_state=42)\n",
    "model_ab.fit(X_train, y_train)\n",
    "\n",
    "y_pred_train = model_ab.predict(X_train)\n",
    "y_pred_test = model_ab.predict(X_test)"
   ]
  },
  {
   "cell_type": "code",
   "execution_count": 81,
   "metadata": {},
   "outputs": [
    {
     "name": "stdout",
     "output_type": "stream",
     "text": [
      "Prezentacja wyników na zbiorze uczącym:\n"
     ]
    },
    {
     "data": {
      "image/png": "[encoded data removed]",
      "text/plain": [
       "<Figure size 640x480 with 2 Axes>"
      ]
     },
     "metadata": {},
     "output_type": "display_data"
    },
    {
     "name": "stdout",
     "output_type": "stream",
     "text": [
      "              precision    recall  f1-score   support\n",
      "\n",
      "           0       0.91      0.82      0.86       156\n",
      "           1       0.81      0.90      0.86       134\n",
      "\n",
      "    accuracy                           0.86       290\n",
      "   macro avg       0.86      0.86      0.86       290\n",
      "weighted avg       0.86      0.86      0.86       290\n",
      "\n",
      "Dokładność modelu: 0.86\n",
      "Czułość modelu: 0.90\n"
     ]
    }
   ],
   "source": [
    "print(\"Prezentacja wyników na zbiorze uczącym:\")\n",
    "conf_matrix = confusion_matrix(y_train, y_pred_train)\n",
    "sns.heatmap(conf_matrix, annot=True, fmt='d', cmap='Blues')\n",
    "plt.xlabel('Predicted')\n",
    "plt.ylabel('Actual')\n",
    "plt.show()\n",
    "print(classification_report(y_train, y_pred_train))\n",
    "print(f\"Dokładność modelu: {accuracy_score(y_train, y_pred_train):0.2f}\")\n",
    "print(f\"Czułość modelu: {recall_score(y_train, y_pred_train):0.2f}\")"
   ]
  },
  {
   "cell_type": "code",
   "execution_count": 82,
   "metadata": {},
   "outputs": [
    {
     "name": "stdout",
     "output_type": "stream",
     "text": [
      "Prezentacja wyników na zbiorze testowym:\n"
     ]
    },
    {
     "data": {
      "image/png": "[encoded data removed]",
      "text/plain": [
       "<Figure size 640x480 with 2 Axes>"
      ]
     },
     "metadata": {},
     "output_type": "display_data"
    },
    {
     "name": "stdout",
     "output_type": "stream",
     "text": [
      "              precision    recall  f1-score   support\n",
      "\n",
      "           0       0.70      0.76      0.73        37\n",
      "           1       0.73      0.67      0.70        36\n",
      "\n",
      "    accuracy                           0.71        73\n",
      "   macro avg       0.71      0.71      0.71        73\n",
      "weighted avg       0.71      0.71      0.71        73\n",
      "\n",
      "Dokładność modelu: 0.71\n",
      "Czułość modelu: 0.67\n"
     ]
    }
   ],
   "source": [
    "print(\"Prezentacja wyników na zbiorze testowym:\")\n",
    "conf_matrix = confusion_matrix(y_test, y_pred_test)\n",
    "sns.heatmap(conf_matrix, annot=True, fmt='d', cmap='Blues')\n",
    "plt.xlabel('Predicted')\n",
    "plt.ylabel('Actual')\n",
    "plt.show()\n",
    "print(classification_report(y_test, y_pred_test))\n",
    "print(f\"Dokładność modelu: {accuracy_score(y_test, y_pred_test):0.2f}\")\n",
    "print(f\"Czułość modelu: {recall_score(y_test, y_pred_test):0.2f}\")"
   ]
  },
  {
   "cell_type": "markdown",
   "metadata": {},
   "source": [
    "Poszukajmy najlepszych parametrów dla modelu AdaBoost."
   ]
  },
  {
   "cell_type": "code",
   "execution_count": 83,
   "metadata": {},
   "outputs": [
    {
     "name": "stderr",
     "output_type": "stream",
     "text": [
      "100%|██████████| 19/19 [00:01<00:00, 17.27it/s]\n"
     ]
    }
   ],
   "source": [
    "\n",
    "best_n_estimators = 0\n",
    "best_learning_rate = 0  \n",
    "best_accuracy = 0\n",
    "best_model_ada = None\n",
    "for i in tqdm(range(1, 20)):\n",
    "    for j in np.arange(0.1, 1.1, 0.1):\n",
    "        model_ada = AdaBoostClassifier(n_estimators=i, learning_rate=j, random_state=42)\n",
    "        model_ada.fit(X_train, y_train)\n",
    "        y_pred_test = model_ada.predict(X_test)\n",
    "        accuracy_test = accuracy_score(y_test, y_pred_test)\n",
    "        if accuracy_test > best_accuracy:\n",
    "            best_accuracy = accuracy_test\n",
    "            best_n_estimators = i\n",
    "            best_learning_rate = j\n",
    "            best_model_ada = model_ada"
   ]
  },
  {
   "cell_type": "code",
   "execution_count": 84,
   "metadata": {},
   "outputs": [
    {
     "name": "stdout",
     "output_type": "stream",
     "text": [
      "Najlepsza wartość n_estimators: 1\n",
      "Najlepsze learning_rate: 0.1\n",
      "Najwyższa dokładność: 0.81\n"
     ]
    }
   ],
   "source": [
    "print(f'Najlepsza wartość n_estimators: {best_n_estimators}')\n",
    "print(f'Najlepsze learning_rate: {best_learning_rate}')\n",
    "print(f'Najwyższa dokładność: {best_accuracy:0.2f}')"
   ]
  },
  {
   "cell_type": "code",
   "execution_count": 85,
   "metadata": {},
   "outputs": [],
   "source": [
    "y_pred_train = best_model_ada.predict(X_train)\n",
    "y_pred_test = best_model_ada.predict(X_test)"
   ]
  },
  {
   "cell_type": "code",
   "execution_count": 86,
   "metadata": {},
   "outputs": [
    {
     "name": "stdout",
     "output_type": "stream",
     "text": [
      "Prezentacja wyników na zbiorze uczącym:\n"
     ]
    },
    {
     "data": {
      "image/png": "[encoded data removed]",
      "text/plain": [
       "<Figure size 640x480 with 2 Axes>"
      ]
     },
     "metadata": {},
     "output_type": "display_data"
    },
    {
     "name": "stdout",
     "output_type": "stream",
     "text": [
      "              precision    recall  f1-score   support\n",
      "\n",
      "           0       0.84      0.69      0.76       156\n",
      "           1       0.70      0.85      0.77       134\n",
      "\n",
      "    accuracy                           0.76       290\n",
      "   macro avg       0.77      0.77      0.76       290\n",
      "weighted avg       0.78      0.76      0.76       290\n",
      "\n",
      "Dokładność modelu: 0.76\n",
      "Czułość modelu: 0.85\n"
     ]
    }
   ],
   "source": [
    "print(\"Prezentacja wyników na zbiorze uczącym:\")\n",
    "conf_matrix = confusion_matrix(y_train, y_pred_train)\n",
    "sns.heatmap(conf_matrix, annot=True, fmt='d', cmap='Blues')\n",
    "plt.xlabel('Predicted')\n",
    "plt.ylabel('Actual')\n",
    "plt.show()\n",
    "print(classification_report(y_train, y_pred_train))\n",
    "print(f\"Dokładność modelu: {accuracy_score(y_train, y_pred_train):0.2f}\")\n",
    "print(f\"Czułość modelu: {recall_score(y_train, y_pred_train):0.2f}\")"
   ]
  },
  {
   "cell_type": "code",
   "execution_count": 87,
   "metadata": {},
   "outputs": [
    {
     "name": "stdout",
     "output_type": "stream",
     "text": [
      "Prezentacja wyników na zbiorze testowym:\n"
     ]
    },
    {
     "data": {
      "image/png": "[encoded data removed]",
      "text/plain": [
       "<Figure size 640x480 with 2 Axes>"
      ]
     },
     "metadata": {},
     "output_type": "display_data"
    },
    {
     "name": "stdout",
     "output_type": "stream",
     "text": [
      "              precision    recall  f1-score   support\n",
      "\n",
      "           0       0.81      0.81      0.81        37\n",
      "           1       0.81      0.81      0.81        36\n",
      "\n",
      "    accuracy                           0.81        73\n",
      "   macro avg       0.81      0.81      0.81        73\n",
      "weighted avg       0.81      0.81      0.81        73\n",
      "\n",
      "Dokładność modelu: 0.81\n",
      "Czułość modelu: 0.81\n"
     ]
    }
   ],
   "source": [
    "print(\"Prezentacja wyników na zbiorze testowym:\")\n",
    "conf_matrix = confusion_matrix(y_test, y_pred_test)\n",
    "sns.heatmap(conf_matrix, annot=True, fmt='d', cmap='Blues')\n",
    "plt.xlabel('Predicted')\n",
    "plt.ylabel('Actual')\n",
    "plt.show()\n",
    "print(classification_report(y_test, y_pred_test))\n",
    "print(f\"Dokładność modelu: {accuracy_score(y_test, y_pred_test):0.2f}\")\n",
    "print(f\"Czułość modelu: {recall_score(y_test, y_pred_test):0.2f}\")"
   ]
  },
  {
   "cell_type": "markdown",
   "metadata": {},
   "source": [
    "Po ustawieniu parametru odpowiedzialnego za liczbę modeli bazowych uzyskujemy lepszą dokładność oraz czułość niż w przypadku domyślnej wartości. Ustawiona przez nas wartość jest mniejsza od domyślnego $n\\_estimators = 50$, przy której model mógł zostać przetrenowany, ze względu na stosunkowo nieduży zbiór danych. Dodatkowo dokładność na zbiorze testowym jest wyższa niż na zbiorze treningowym, co świadczy o tym, że model nie jest przeuoczny i dobrze sobie radzi z predykcją na niewidzianych dotąd danych."
   ]
  },
  {
   "cell_type": "markdown",
   "metadata": {},
   "source": [
    "#### Budowa modelu - bagging."
   ]
  },
  {
   "cell_type": "code",
   "execution_count": 88,
   "metadata": {},
   "outputs": [],
   "source": [
    "model_bagg = BaggingClassifier(random_state=42)\n",
    "model_bagg.fit(X_train, y_train)\n",
    "\n",
    "y_pred_train = model_bagg.predict(X_train)\n",
    "y_pred_test = model_bagg.predict(X_test)"
   ]
  },
  {
   "cell_type": "code",
   "execution_count": 89,
   "metadata": {},
   "outputs": [
    {
     "name": "stdout",
     "output_type": "stream",
     "text": [
      "Prezentacja wyników na zbiorze uczącym:\n"
     ]
    },
    {
     "data": {
      "image/png": "[encoded data removed]",
      "text/plain": [
       "<Figure size 640x480 with 2 Axes>"
      ]
     },
     "metadata": {},
     "output_type": "display_data"
    },
    {
     "name": "stdout",
     "output_type": "stream",
     "text": [
      "              precision    recall  f1-score   support\n",
      "\n",
      "           0       0.97      0.98      0.98       156\n",
      "           1       0.98      0.97      0.97       134\n",
      "\n",
      "    accuracy                           0.98       290\n",
      "   macro avg       0.98      0.98      0.98       290\n",
      "weighted avg       0.98      0.98      0.98       290\n",
      "\n",
      "Dokładność modelu: 0.98\n",
      "Czułość modelu: 0.97\n"
     ]
    }
   ],
   "source": [
    "print(\"Prezentacja wyników na zbiorze uczącym:\")\n",
    "conf_matrix = confusion_matrix(y_train, y_pred_train)\n",
    "sns.heatmap(conf_matrix, annot=True, fmt='d', cmap='Blues')\n",
    "plt.xlabel('Predicted')\n",
    "plt.ylabel('Actual')\n",
    "plt.show()\n",
    "print(classification_report(y_train, y_pred_train))\n",
    "print(f\"Dokładność modelu: {accuracy_score(y_train, y_pred_train):0.2f}\")\n",
    "print(f\"Czułość modelu: {recall_score(y_train, y_pred_train):0.2f}\")"
   ]
  },
  {
   "cell_type": "code",
   "execution_count": 90,
   "metadata": {},
   "outputs": [
    {
     "name": "stdout",
     "output_type": "stream",
     "text": [
      "Prezentacja wyników na zbiorze testowym:\n"
     ]
    },
    {
     "data": {
      "image/png": "[encoded data removed]",
      "text/plain": [
       "<Figure size 640x480 with 2 Axes>"
      ]
     },
     "metadata": {},
     "output_type": "display_data"
    },
    {
     "name": "stdout",
     "output_type": "stream",
     "text": [
      "              precision    recall  f1-score   support\n",
      "\n",
      "           0       0.75      0.81      0.78        37\n",
      "           1       0.79      0.72      0.75        36\n",
      "\n",
      "    accuracy                           0.77        73\n",
      "   macro avg       0.77      0.77      0.77        73\n",
      "weighted avg       0.77      0.77      0.77        73\n",
      "\n",
      "Dokładność modelu: 0.77\n",
      "Czułość modelu: 0.72\n"
     ]
    }
   ],
   "source": [
    "print(\"Prezentacja wyników na zbiorze testowym:\")\n",
    "conf_matrix = confusion_matrix(y_test, y_pred_test)\n",
    "sns.heatmap(conf_matrix, annot=True, fmt='d', cmap='Blues')\n",
    "plt.xlabel('Predicted')\n",
    "plt.ylabel('Actual')\n",
    "plt.show()\n",
    "print(classification_report(y_test, y_pred_test))\n",
    "print(f\"Dokładność modelu: {accuracy_score(y_test, y_pred_test):0.2f}\")\n",
    "print(f\"Czułość modelu: {recall_score(y_test, y_pred_test):0.2f}\")"
   ]
  },
  {
   "cell_type": "code",
   "execution_count": 91,
   "metadata": {},
   "outputs": [
    {
     "name": "stderr",
     "output_type": "stream",
     "text": [
      "100%|██████████| 19/19 [00:00<00:00, 108.80it/s]\n"
     ]
    }
   ],
   "source": [
    "best_n_estimators = 0\n",
    "best_accuracy = 0\n",
    "best_model_bagg = None\n",
    "for i in tqdm(range(1, 20)):\n",
    "    model_bagg = BaggingClassifier(n_estimators=i, random_state=42)\n",
    "    model_bagg.fit(X_train, y_train)\n",
    "    y_pred_test = model_bagg.predict(X_test)\n",
    "    accuracy_test = accuracy_score(y_test, y_pred_test)\n",
    "    if accuracy_test > best_accuracy:\n",
    "        best_accuracy = accuracy_test\n",
    "        best_n_estimators = i\n",
    "        best_model_bagg = model_bagg"
   ]
  },
  {
   "cell_type": "code",
   "execution_count": 92,
   "metadata": {},
   "outputs": [
    {
     "name": "stdout",
     "output_type": "stream",
     "text": [
      "Najlepsza wartość n_estimators: 13\n",
      "Najwyższa dokładność: 0.81\n"
     ]
    }
   ],
   "source": [
    "print(f'Najlepsza wartość n_estimators: {best_n_estimators}')\n",
    "print(f'Najwyższa dokładność: {best_accuracy:0.2f}')"
   ]
  },
  {
   "cell_type": "code",
   "execution_count": 93,
   "metadata": {},
   "outputs": [],
   "source": [
    "y_pred_train = best_model_bagg.predict(X_train)\n",
    "y_pred_test = best_model_bagg.predict(X_test)"
   ]
  },
  {
   "cell_type": "code",
   "execution_count": 94,
   "metadata": {},
   "outputs": [
    {
     "name": "stdout",
     "output_type": "stream",
     "text": [
      "Prezentacja wyników na zbiorze uczącym:\n"
     ]
    },
    {
     "data": {
      "image/png": "[encoded data removed]",
      "text/plain": [
       "<Figure size 640x480 with 2 Axes>"
      ]
     },
     "metadata": {},
     "output_type": "display_data"
    },
    {
     "name": "stdout",
     "output_type": "stream",
     "text": [
      "              precision    recall  f1-score   support\n",
      "\n",
      "           0       0.99      0.98      0.99       156\n",
      "           1       0.98      0.99      0.99       134\n",
      "\n",
      "    accuracy                           0.99       290\n",
      "   macro avg       0.99      0.99      0.99       290\n",
      "weighted avg       0.99      0.99      0.99       290\n",
      "\n",
      "Dokładność modelu: 0.99\n",
      "Czułość modelu: 0.99\n"
     ]
    }
   ],
   "source": [
    "print(\"Prezentacja wyników na zbiorze uczącym:\")\n",
    "conf_matrix = confusion_matrix(y_train, y_pred_train)\n",
    "sns.heatmap(conf_matrix, annot=True, fmt='d', cmap='Blues')\n",
    "plt.xlabel('Predicted')\n",
    "plt.ylabel('Actual')\n",
    "plt.show()\n",
    "print(classification_report(y_train, y_pred_train))\n",
    "print(f\"Dokładność modelu: {accuracy_score(y_train, y_pred_train):0.2f}\")\n",
    "print(f\"Czułość modelu: {recall_score(y_train, y_pred_train):0.2f}\")"
   ]
  },
  {
   "cell_type": "code",
   "execution_count": 95,
   "metadata": {},
   "outputs": [
    {
     "name": "stdout",
     "output_type": "stream",
     "text": [
      "Prezentacja wyników na zbiorze testowym:\n"
     ]
    },
    {
     "data": {
      "image/png": "[encoded data removed]",
      "text/plain": [
       "<Figure size 640x480 with 2 Axes>"
      ]
     },
     "metadata": {},
     "output_type": "display_data"
    },
    {
     "name": "stdout",
     "output_type": "stream",
     "text": [
      "              precision    recall  f1-score   support\n",
      "\n",
      "           0       0.79      0.84      0.82        37\n",
      "           1       0.82      0.78      0.80        36\n",
      "\n",
      "    accuracy                           0.81        73\n",
      "   macro avg       0.81      0.81      0.81        73\n",
      "weighted avg       0.81      0.81      0.81        73\n",
      "\n",
      "Dokładność modelu: 0.81\n",
      "Czułość modelu: 0.78\n"
     ]
    }
   ],
   "source": [
    "print(\"Prezentacja wyników na zbiorze testowym:\")\n",
    "conf_matrix = confusion_matrix(y_test, y_pred_test)\n",
    "sns.heatmap(conf_matrix, annot=True, fmt='d', cmap='Blues')\n",
    "plt.xlabel('Predicted')\n",
    "plt.ylabel('Actual')\n",
    "plt.show()\n",
    "print(classification_report(y_test, y_pred_test))\n",
    "print(f\"Dokładność modelu: {accuracy_score(y_test, y_pred_test):0.2f}\")\n",
    "print(f\"Czułość modelu: {recall_score(y_test, y_pred_test):0.2f}\")"
   ]
  },
  {
   "cell_type": "markdown",
   "metadata": {},
   "source": [
    "Pomimo ustalenia hiperparametru, dokładność oraz czułość na zbiorze treningowym nieznacznie się poprawiły. Dokładność na zbiorze uczącym jest bardzo wysoka, co może wskazywać na przeuczenie modelu. Bagging, może być nieodpowiednim modelem, dla naszego zbioru danych. "
   ]
  },
  {
   "cell_type": "markdown",
   "metadata": {},
   "source": [
    "#### **Zadanie 4.** \n",
    "**Wykorzystać algorytm SVM do predykcji wartości zmiennej wynikowej (UWAGA: w metodzie tej zalecana jest standaryzacja danych). Zbudować modele wykorzystujące:**\n",
    "- **jądro liniowe (linear),**\n",
    "- **jądro wielomianowe (poly),**\n",
    "- **jądro radialne (rbf - radial basis function).**\n",
    "\n",
    "**W każdym przypadku przyjąć domyśle wartości pozostałych hiperparametrów. Zinterpretować wyniki.**"
   ]
  },
  {
   "cell_type": "markdown",
   "metadata": {},
   "source": [
    "#### Budowa modelu - SVM."
   ]
  },
  {
   "cell_type": "markdown",
   "metadata": {},
   "source": [
    "Do algorytmu SVM wskazane jest przeprowadzenie standaryzacji danych. Tak jak w przypadku drzew, usuniemy wiersze zawierające braki zmiennej **BMI** oraz zamienimy zmienne kategoryczne na zmienne binarne."
   ]
  },
  {
   "cell_type": "code",
   "execution_count": 96,
   "metadata": {},
   "outputs": [
    {
     "data": {
      "text/html": [
       "<div>\n",
       "<style scoped>\n",
       "    .dataframe tbody tr th:only-of-type {\n",
       "        vertical-align: middle;\n",
       "    }\n",
       "\n",
       "    .dataframe tbody tr th {\n",
       "        vertical-align: top;\n",
       "    }\n",
       "\n",
       "    .dataframe thead th {\n",
       "        text-align: right;\n",
       "    }\n",
       "</style>\n",
       "<table border=\"1\" class=\"dataframe\">\n",
       "  <thead>\n",
       "    <tr style=\"text-align: right;\">\n",
       "      <th></th>\n",
       "      <th>gender</th>\n",
       "      <th>age</th>\n",
       "      <th>hypertension</th>\n",
       "      <th>heart_disease</th>\n",
       "      <th>ever_married</th>\n",
       "      <th>work_type</th>\n",
       "      <th>Residence_type</th>\n",
       "      <th>avg_glucose_level</th>\n",
       "      <th>bmi</th>\n",
       "      <th>smoking_status</th>\n",
       "      <th>stroke</th>\n",
       "    </tr>\n",
       "  </thead>\n",
       "  <tbody>\n",
       "    <tr>\n",
       "      <th>0</th>\n",
       "      <td>Male</td>\n",
       "      <td>67.0</td>\n",
       "      <td>0</td>\n",
       "      <td>1</td>\n",
       "      <td>Yes</td>\n",
       "      <td>Private</td>\n",
       "      <td>Urban</td>\n",
       "      <td>228.69</td>\n",
       "      <td>36.6</td>\n",
       "      <td>formerly smoked</td>\n",
       "      <td>1</td>\n",
       "    </tr>\n",
       "    <tr>\n",
       "      <th>1</th>\n",
       "      <td>Male</td>\n",
       "      <td>80.0</td>\n",
       "      <td>0</td>\n",
       "      <td>1</td>\n",
       "      <td>Yes</td>\n",
       "      <td>Private</td>\n",
       "      <td>Rural</td>\n",
       "      <td>105.92</td>\n",
       "      <td>32.5</td>\n",
       "      <td>never smoked</td>\n",
       "      <td>1</td>\n",
       "    </tr>\n",
       "    <tr>\n",
       "      <th>2</th>\n",
       "      <td>Female</td>\n",
       "      <td>49.0</td>\n",
       "      <td>0</td>\n",
       "      <td>0</td>\n",
       "      <td>Yes</td>\n",
       "      <td>Private</td>\n",
       "      <td>Urban</td>\n",
       "      <td>171.23</td>\n",
       "      <td>34.4</td>\n",
       "      <td>smokes</td>\n",
       "      <td>1</td>\n",
       "    </tr>\n",
       "    <tr>\n",
       "      <th>3</th>\n",
       "      <td>Female</td>\n",
       "      <td>79.0</td>\n",
       "      <td>1</td>\n",
       "      <td>0</td>\n",
       "      <td>Yes</td>\n",
       "      <td>Self-employed</td>\n",
       "      <td>Rural</td>\n",
       "      <td>174.12</td>\n",
       "      <td>24.0</td>\n",
       "      <td>never smoked</td>\n",
       "      <td>1</td>\n",
       "    </tr>\n",
       "    <tr>\n",
       "      <th>4</th>\n",
       "      <td>Male</td>\n",
       "      <td>81.0</td>\n",
       "      <td>0</td>\n",
       "      <td>0</td>\n",
       "      <td>Yes</td>\n",
       "      <td>Private</td>\n",
       "      <td>Urban</td>\n",
       "      <td>186.21</td>\n",
       "      <td>29.0</td>\n",
       "      <td>formerly smoked</td>\n",
       "      <td>1</td>\n",
       "    </tr>\n",
       "  </tbody>\n",
       "</table>\n",
       "</div>"
      ],
      "text/plain": [
       "   gender   age  hypertension  heart_disease ever_married      work_type  \\\n",
       "0    Male  67.0             0              1          Yes        Private   \n",
       "1    Male  80.0             0              1          Yes        Private   \n",
       "2  Female  49.0             0              0          Yes        Private   \n",
       "3  Female  79.0             1              0          Yes  Self-employed   \n",
       "4    Male  81.0             0              0          Yes        Private   \n",
       "\n",
       "  Residence_type  avg_glucose_level   bmi   smoking_status  stroke  \n",
       "0          Urban             228.69  36.6  formerly smoked       1  \n",
       "1          Rural             105.92  32.5     never smoked       1  \n",
       "2          Urban             171.23  34.4           smokes       1  \n",
       "3          Rural             174.12  24.0     never smoked       1  \n",
       "4          Urban             186.21  29.0  formerly smoked       1  "
      ]
     },
     "execution_count": 96,
     "metadata": {},
     "output_type": "execute_result"
    }
   ],
   "source": [
    "data = pd.read_csv('./stroke_zaj2.csv', sep = ';', decimal = ',')\n",
    "data.head()"
   ]
  },
  {
   "cell_type": "code",
   "execution_count": 97,
   "metadata": {},
   "outputs": [],
   "source": [
    "data = data.dropna()"
   ]
  },
  {
   "cell_type": "code",
   "execution_count": 98,
   "metadata": {},
   "outputs": [],
   "source": [
    "gender_dummies = pd.get_dummies(data['gender'], dtype = int, drop_first = True)\n",
    "ever_married_dummies = pd.get_dummies(data['ever_married'], dtype = int, drop_first = True)\n",
    "work_type_dummies = pd.get_dummies(data['work_type'], dtype = int, drop_first = True)\n",
    "residence_type_dummies = pd.get_dummies(data['Residence_type'], dtype = int, drop_first = True)\n",
    "smoking_status_dummies = pd.get_dummies(data['smoking_status'], dtype = int, drop_first = True)"
   ]
  },
  {
   "cell_type": "code",
   "execution_count": 99,
   "metadata": {},
   "outputs": [
    {
     "data": {
      "text/html": [
       "<div>\n",
       "<style scoped>\n",
       "    .dataframe tbody tr th:only-of-type {\n",
       "        vertical-align: middle;\n",
       "    }\n",
       "\n",
       "    .dataframe tbody tr th {\n",
       "        vertical-align: top;\n",
       "    }\n",
       "\n",
       "    .dataframe thead th {\n",
       "        text-align: right;\n",
       "    }\n",
       "</style>\n",
       "<table border=\"1\" class=\"dataframe\">\n",
       "  <thead>\n",
       "    <tr style=\"text-align: right;\">\n",
       "      <th></th>\n",
       "      <th>Male</th>\n",
       "      <th>age</th>\n",
       "      <th>hypertension</th>\n",
       "      <th>heart_disease</th>\n",
       "      <th>ever_married</th>\n",
       "      <th>Never_worked</th>\n",
       "      <th>Private</th>\n",
       "      <th>Self-employed</th>\n",
       "      <th>children</th>\n",
       "      <th>Urban</th>\n",
       "      <th>avg_glucose_level</th>\n",
       "      <th>bmi</th>\n",
       "      <th>formerly smoked</th>\n",
       "      <th>never smoked</th>\n",
       "      <th>smokes</th>\n",
       "      <th>stroke</th>\n",
       "    </tr>\n",
       "  </thead>\n",
       "  <tbody>\n",
       "    <tr>\n",
       "      <th>0</th>\n",
       "      <td>1</td>\n",
       "      <td>67.0</td>\n",
       "      <td>0</td>\n",
       "      <td>1</td>\n",
       "      <td>1</td>\n",
       "      <td>0</td>\n",
       "      <td>1</td>\n",
       "      <td>0</td>\n",
       "      <td>0</td>\n",
       "      <td>1</td>\n",
       "      <td>228.69</td>\n",
       "      <td>36.6</td>\n",
       "      <td>1</td>\n",
       "      <td>0</td>\n",
       "      <td>0</td>\n",
       "      <td>1</td>\n",
       "    </tr>\n",
       "    <tr>\n",
       "      <th>1</th>\n",
       "      <td>1</td>\n",
       "      <td>80.0</td>\n",
       "      <td>0</td>\n",
       "      <td>1</td>\n",
       "      <td>1</td>\n",
       "      <td>0</td>\n",
       "      <td>1</td>\n",
       "      <td>0</td>\n",
       "      <td>0</td>\n",
       "      <td>0</td>\n",
       "      <td>105.92</td>\n",
       "      <td>32.5</td>\n",
       "      <td>0</td>\n",
       "      <td>1</td>\n",
       "      <td>0</td>\n",
       "      <td>1</td>\n",
       "    </tr>\n",
       "    <tr>\n",
       "      <th>2</th>\n",
       "      <td>0</td>\n",
       "      <td>49.0</td>\n",
       "      <td>0</td>\n",
       "      <td>0</td>\n",
       "      <td>1</td>\n",
       "      <td>0</td>\n",
       "      <td>1</td>\n",
       "      <td>0</td>\n",
       "      <td>0</td>\n",
       "      <td>1</td>\n",
       "      <td>171.23</td>\n",
       "      <td>34.4</td>\n",
       "      <td>0</td>\n",
       "      <td>0</td>\n",
       "      <td>1</td>\n",
       "      <td>1</td>\n",
       "    </tr>\n",
       "    <tr>\n",
       "      <th>3</th>\n",
       "      <td>0</td>\n",
       "      <td>79.0</td>\n",
       "      <td>1</td>\n",
       "      <td>0</td>\n",
       "      <td>1</td>\n",
       "      <td>0</td>\n",
       "      <td>0</td>\n",
       "      <td>1</td>\n",
       "      <td>0</td>\n",
       "      <td>0</td>\n",
       "      <td>174.12</td>\n",
       "      <td>24.0</td>\n",
       "      <td>0</td>\n",
       "      <td>1</td>\n",
       "      <td>0</td>\n",
       "      <td>1</td>\n",
       "    </tr>\n",
       "    <tr>\n",
       "      <th>4</th>\n",
       "      <td>1</td>\n",
       "      <td>81.0</td>\n",
       "      <td>0</td>\n",
       "      <td>0</td>\n",
       "      <td>1</td>\n",
       "      <td>0</td>\n",
       "      <td>1</td>\n",
       "      <td>0</td>\n",
       "      <td>0</td>\n",
       "      <td>1</td>\n",
       "      <td>186.21</td>\n",
       "      <td>29.0</td>\n",
       "      <td>1</td>\n",
       "      <td>0</td>\n",
       "      <td>0</td>\n",
       "      <td>1</td>\n",
       "    </tr>\n",
       "  </tbody>\n",
       "</table>\n",
       "</div>"
      ],
      "text/plain": [
       "   Male   age  hypertension  heart_disease  ever_married  Never_worked  \\\n",
       "0     1  67.0             0              1             1             0   \n",
       "1     1  80.0             0              1             1             0   \n",
       "2     0  49.0             0              0             1             0   \n",
       "3     0  79.0             1              0             1             0   \n",
       "4     1  81.0             0              0             1             0   \n",
       "\n",
       "   Private  Self-employed  children  Urban  avg_glucose_level   bmi  \\\n",
       "0        1              0         0      1             228.69  36.6   \n",
       "1        1              0         0      0             105.92  32.5   \n",
       "2        1              0         0      1             171.23  34.4   \n",
       "3        0              1         0      0             174.12  24.0   \n",
       "4        1              0         0      1             186.21  29.0   \n",
       "\n",
       "   formerly smoked  never smoked  smokes  stroke  \n",
       "0                1             0       0       1  \n",
       "1                0             1       0       1  \n",
       "2                0             0       1       1  \n",
       "3                0             1       0       1  \n",
       "4                1             0       0       1  "
      ]
     },
     "execution_count": 99,
     "metadata": {},
     "output_type": "execute_result"
    }
   ],
   "source": [
    "data = pd.concat([gender_dummies, data[['age', 'hypertension', 'heart_disease']], ever_married_dummies, work_type_dummies, \n",
    "        residence_type_dummies, data[['avg_glucose_level', 'bmi',]], smoking_status_dummies, data[['stroke']]], axis = 1)\n",
    "data = data.rename(columns = {'Yes': 'ever_married'})\n",
    "data.head()"
   ]
  },
  {
   "cell_type": "code",
   "execution_count": 100,
   "metadata": {},
   "outputs": [
    {
     "data": {
      "text/plain": [
       "(363, 16)"
      ]
     },
     "execution_count": 100,
     "metadata": {},
     "output_type": "execute_result"
    }
   ],
   "source": [
    "data.shape"
   ]
  },
  {
   "cell_type": "markdown",
   "metadata": {},
   "source": [
    "Podział na zbiór uczący oraz testowy:"
   ]
  },
  {
   "cell_type": "code",
   "execution_count": 101,
   "metadata": {},
   "outputs": [],
   "source": [
    "X = data.iloc[:, 0:15]\n",
    "y = data.stroke\n",
    "X_train, X_test, y_train, y_test = train_test_split(X, y, test_size = 0.3, random_state = 42)"
   ]
  },
  {
   "cell_type": "markdown",
   "metadata": {},
   "source": [
    "Standaryzacja danych, aby model był mniej obciążony obliczeniowo:"
   ]
  },
  {
   "cell_type": "code",
   "execution_count": 102,
   "metadata": {},
   "outputs": [],
   "source": [
    "scaler = StandardScaler()\n",
    "X_train[['age', 'avg_glucose_level', 'bmi']] = scaler.fit_transform(X_train[['age', 'avg_glucose_level', 'bmi']])\n",
    "X_test[['age', 'avg_glucose_level', 'bmi']] = scaler.transform(X_test[['age', 'avg_glucose_level', 'bmi']])"
   ]
  },
  {
   "cell_type": "markdown",
   "metadata": {},
   "source": [
    "SVM - budowa modelu:"
   ]
  },
  {
   "cell_type": "code",
   "execution_count": 103,
   "metadata": {},
   "outputs": [
    {
     "data": {
      "text/html": [
       "<div>\n",
       "<style scoped>\n",
       "    .dataframe tbody tr th:only-of-type {\n",
       "        vertical-align: middle;\n",
       "    }\n",
       "\n",
       "    .dataframe tbody tr th {\n",
       "        vertical-align: top;\n",
       "    }\n",
       "\n",
       "    .dataframe thead th {\n",
       "        text-align: right;\n",
       "    }\n",
       "</style>\n",
       "<table border=\"1\" class=\"dataframe\">\n",
       "  <thead>\n",
       "    <tr style=\"text-align: right;\">\n",
       "      <th></th>\n",
       "      <th>accuracy_train</th>\n",
       "      <th>accuracy_test</th>\n",
       "      <th>recall_train</th>\n",
       "      <th>recall_test</th>\n",
       "    </tr>\n",
       "  </thead>\n",
       "  <tbody>\n",
       "    <tr>\n",
       "      <th>linear</th>\n",
       "      <td>0.803150</td>\n",
       "      <td>0.770642</td>\n",
       "      <td>0.818966</td>\n",
       "      <td>0.796296</td>\n",
       "    </tr>\n",
       "    <tr>\n",
       "      <th>poly</th>\n",
       "      <td>0.877953</td>\n",
       "      <td>0.715596</td>\n",
       "      <td>0.836207</td>\n",
       "      <td>0.666667</td>\n",
       "    </tr>\n",
       "    <tr>\n",
       "      <th>rbf</th>\n",
       "      <td>0.830709</td>\n",
       "      <td>0.743119</td>\n",
       "      <td>0.862069</td>\n",
       "      <td>0.796296</td>\n",
       "    </tr>\n",
       "  </tbody>\n",
       "</table>\n",
       "</div>"
      ],
      "text/plain": [
       "        accuracy_train  accuracy_test  recall_train  recall_test\n",
       "linear        0.803150       0.770642      0.818966     0.796296\n",
       "poly          0.877953       0.715596      0.836207     0.666667\n",
       "rbf           0.830709       0.743119      0.862069     0.796296"
      ]
     },
     "execution_count": 103,
     "metadata": {},
     "output_type": "execute_result"
    }
   ],
   "source": [
    "kernels = ['linear', 'poly', 'rbf']\n",
    "results = []\n",
    "for kernel in kernels:\n",
    "    model_SVM = SVC(kernel=kernel)\n",
    "    model_SVM.fit(X_train, y_train)\n",
    "    y_pred_train = model_SVM.predict(X_train)\n",
    "    y_pred_test = model_SVM.predict(X_test)\n",
    "    accuracy_train = accuracy_score(y_train, y_pred_train)\n",
    "    accuracy_test = accuracy_score(y_test, y_pred_test)\n",
    "    recall_train = recall_score(y_train, y_pred_train)\n",
    "    recall_test = recall_score(y_test, y_pred_test)\n",
    "    results.append([accuracy_train, accuracy_test, recall_train, recall_test])\n",
    "results = pd.DataFrame(results, index=kernels, columns=['accuracy_train', 'accuracy_test', 'recall_train', 'recall_test'])\n",
    "results"
   ]
  },
  {
   "cell_type": "markdown",
   "metadata": {},
   "source": [
    "Dla naszego zbioru danych najlepsze wyniki daje nam model **SVM z jądrem liniowym**. Porównując dokładność na zbiorze treningowym jak i testowym możemy wyciagnąć wnioski, że pozostałe modele zostały **przetrenowane**. Ich dokładność dla danych treningowych była stosunkowo wysoka, natomiast dla danych testowych snacznie spadała. W przypadku jądra liniowego dokładość dla danych treningowych jest najniższa ze wszystkich modeli, a dla danych testowych najwyższa, równa $74\\%$. Dokładność na zbiorze treningowym jest wyższa niż na zbiorze testowym, co również może świadczyć o przeuczeniu modelu."
   ]
  },
  {
   "cell_type": "markdown",
   "metadata": {},
   "source": [
    "Spróbujmy teraz dobrać pozostałe parametry dla modelu SVM."
   ]
  },
  {
   "cell_type": "code",
   "execution_count": 104,
   "metadata": {},
   "outputs": [
    {
     "data": {
      "text/html": [
       "<div>\n",
       "<style scoped>\n",
       "    .dataframe tbody tr th:only-of-type {\n",
       "        vertical-align: middle;\n",
       "    }\n",
       "\n",
       "    .dataframe tbody tr th {\n",
       "        vertical-align: top;\n",
       "    }\n",
       "\n",
       "    .dataframe thead th {\n",
       "        text-align: right;\n",
       "    }\n",
       "</style>\n",
       "<table border=\"1\" class=\"dataframe\">\n",
       "  <thead>\n",
       "    <tr style=\"text-align: right;\">\n",
       "      <th></th>\n",
       "      <th>kernel</th>\n",
       "      <th>C</th>\n",
       "      <th>accuracy_train</th>\n",
       "      <th>accuracy_test</th>\n",
       "    </tr>\n",
       "  </thead>\n",
       "  <tbody>\n",
       "    <tr>\n",
       "      <th>0</th>\n",
       "      <td>linear</td>\n",
       "      <td>0.1</td>\n",
       "      <td>0.795276</td>\n",
       "      <td>0.761468</td>\n",
       "    </tr>\n",
       "    <tr>\n",
       "      <th>1</th>\n",
       "      <td>linear</td>\n",
       "      <td>1.0</td>\n",
       "      <td>0.803150</td>\n",
       "      <td>0.770642</td>\n",
       "    </tr>\n",
       "    <tr>\n",
       "      <th>2</th>\n",
       "      <td>linear</td>\n",
       "      <td>10.0</td>\n",
       "      <td>0.791339</td>\n",
       "      <td>0.761468</td>\n",
       "    </tr>\n",
       "    <tr>\n",
       "      <th>3</th>\n",
       "      <td>linear</td>\n",
       "      <td>100.0</td>\n",
       "      <td>0.795276</td>\n",
       "      <td>0.761468</td>\n",
       "    </tr>\n",
       "    <tr>\n",
       "      <th>4</th>\n",
       "      <td>linear</td>\n",
       "      <td>1000.0</td>\n",
       "      <td>0.795276</td>\n",
       "      <td>0.761468</td>\n",
       "    </tr>\n",
       "    <tr>\n",
       "      <th>5</th>\n",
       "      <td>poly</td>\n",
       "      <td>0.1</td>\n",
       "      <td>0.814961</td>\n",
       "      <td>0.715596</td>\n",
       "    </tr>\n",
       "    <tr>\n",
       "      <th>6</th>\n",
       "      <td>poly</td>\n",
       "      <td>1.0</td>\n",
       "      <td>0.877953</td>\n",
       "      <td>0.715596</td>\n",
       "    </tr>\n",
       "    <tr>\n",
       "      <th>7</th>\n",
       "      <td>poly</td>\n",
       "      <td>10.0</td>\n",
       "      <td>0.933071</td>\n",
       "      <td>0.651376</td>\n",
       "    </tr>\n",
       "    <tr>\n",
       "      <th>8</th>\n",
       "      <td>poly</td>\n",
       "      <td>100.0</td>\n",
       "      <td>0.992126</td>\n",
       "      <td>0.642202</td>\n",
       "    </tr>\n",
       "    <tr>\n",
       "      <th>9</th>\n",
       "      <td>poly</td>\n",
       "      <td>1000.0</td>\n",
       "      <td>1.000000</td>\n",
       "      <td>0.642202</td>\n",
       "    </tr>\n",
       "    <tr>\n",
       "      <th>10</th>\n",
       "      <td>rbf</td>\n",
       "      <td>0.1</td>\n",
       "      <td>0.803150</td>\n",
       "      <td>0.752294</td>\n",
       "    </tr>\n",
       "    <tr>\n",
       "      <th>11</th>\n",
       "      <td>rbf</td>\n",
       "      <td>1.0</td>\n",
       "      <td>0.830709</td>\n",
       "      <td>0.743119</td>\n",
       "    </tr>\n",
       "    <tr>\n",
       "      <th>12</th>\n",
       "      <td>rbf</td>\n",
       "      <td>10.0</td>\n",
       "      <td>0.948819</td>\n",
       "      <td>0.642202</td>\n",
       "    </tr>\n",
       "    <tr>\n",
       "      <th>13</th>\n",
       "      <td>rbf</td>\n",
       "      <td>100.0</td>\n",
       "      <td>0.992126</td>\n",
       "      <td>0.623853</td>\n",
       "    </tr>\n",
       "    <tr>\n",
       "      <th>14</th>\n",
       "      <td>rbf</td>\n",
       "      <td>1000.0</td>\n",
       "      <td>1.000000</td>\n",
       "      <td>0.633028</td>\n",
       "    </tr>\n",
       "  </tbody>\n",
       "</table>\n",
       "</div>"
      ],
      "text/plain": [
       "    kernel       C  accuracy_train  accuracy_test\n",
       "0   linear     0.1        0.795276       0.761468\n",
       "1   linear     1.0        0.803150       0.770642\n",
       "2   linear    10.0        0.791339       0.761468\n",
       "3   linear   100.0        0.795276       0.761468\n",
       "4   linear  1000.0        0.795276       0.761468\n",
       "5     poly     0.1        0.814961       0.715596\n",
       "6     poly     1.0        0.877953       0.715596\n",
       "7     poly    10.0        0.933071       0.651376\n",
       "8     poly   100.0        0.992126       0.642202\n",
       "9     poly  1000.0        1.000000       0.642202\n",
       "10     rbf     0.1        0.803150       0.752294\n",
       "11     rbf     1.0        0.830709       0.743119\n",
       "12     rbf    10.0        0.948819       0.642202\n",
       "13     rbf   100.0        0.992126       0.623853\n",
       "14     rbf  1000.0        1.000000       0.633028"
      ]
     },
     "execution_count": 104,
     "metadata": {},
     "output_type": "execute_result"
    }
   ],
   "source": [
    "C_values = [0.1, 1, 10, 100, 1000]\n",
    "kernels = ['linear', 'poly', 'rbf']\n",
    "results = []\n",
    "best_SVM = None\n",
    "for kernel in kernels:\n",
    "    for C in C_values:\n",
    "        model_SVM = SVC(kernel=kernel, C=C)\n",
    "        model_SVM.fit(X_train, y_train)\n",
    "        y_pred_train = model_SVM.predict(X_train)\n",
    "        y_pred_test = model_SVM.predict(X_test)\n",
    "        accuracy_train = accuracy_score(y_train, y_pred_train)\n",
    "        accuracy_test = accuracy_score(y_test, y_pred_test)\n",
    "        results.append([kernel, C, accuracy_train, accuracy_test])\n",
    "        if accuracy_test == max([res[3] for res in results]):\n",
    "            best_SVM = model_SVM\n",
    "results = pd.DataFrame(results, columns=['kernel', 'C', 'accuracy_train', 'accuracy_test'])\n",
    "results"
   ]
  },
  {
   "cell_type": "markdown",
   "metadata": {},
   "source": [
    "W przypadku jądra liniowego jak i wielomianowego najlepsze wyniki uzyskujemy dla $C$ równego $1$, a  wartości są bardzo zbliżone do siebie, model jest więc mało czuły na hiperparamter $C$. Może to oznaczać, że nasze dane są stosunkowo proste i **dobrze rozdzielone liniowo**.<br>\n",
    "W przypadku jądra rbf, najlepsze wyniki są dla $C = 0.1$."
   ]
  },
  {
   "cell_type": "markdown",
   "metadata": {},
   "source": [
    "Aby zrozumieć, jak różne parametry wpływają na wyniki modelu SVM, przeprowadzamy przeszukiwanie siatki hiperparametrów za pomocą GridSearchCV. Definiujemy zestaw parametrów do przetestowania, aby znaleźć kombinację, która zapewnia najlepsze wyniki na danych treningowych.\n",
    " \n",
    "Testowane parametry:\n",
    "1. **C** (0.1, 1, 10, 100, 1000):  \n",
    "   - Parametr $C$ wpływa na funckję celu podczas optymalizacji modelu SVM. Wartość $C$ nadaje karę za błędy w klasyfikacji. Odpowiada za regularyzację modelu. Mniejsza wartość $C$ sprzyja lepszemu generalizowaniu modelu, ale może zwiększyć błąd na danych treningowych, podczas gdy większe wartości pozwalają na bardziej dokładne dopasowanie, ponieważ model dąży do najmniejszej liczby błędów klasyfikacji, co zwiększa ryzyko przeuczenia. \n",
    " \n",
    "2. **kernel** (linear, poly, rbf):  \n",
    "   - Określa funkcję jądra, która przekształca dane wejściowe w wyższy wymiar.  \n",
    "     - linear: Zakłada liniową separację danych.  \n",
    "     - poly: Wielomianowe jądro, które pozwala uchwycić bardziej złożone wzorce w danych.  \n",
    "     - rbf: Jądro radialne, skuteczne dla nieliniowo separowalnych danych.  \n",
    " \n",
    "3. **degree** (2, 3, 4, 5):  \n",
    "   - Parametr specyficzny dla jądra poly, który określa stopień wielomianu.  \n",
    "   - Większe wartości pozwalają uchwycić bardziej złożone zależności, ale mogą prowadzić do przeuczenia.\n",
    " \n",
    "4. **gamma** (scale, auto):  \n",
    "   - Steruje zasięgiem wpływu pojedynczego przykładu w przestrzeni cech.  \n",
    "     - scale: Automatycznie dostosowuje wartość na podstawie liczby cech.  \n",
    "     - auto: Zakłada odwrotność liczby cech.  \n",
    " "
   ]
  },
  {
   "cell_type": "code",
   "execution_count": 105,
   "metadata": {},
   "outputs": [
    {
     "data": {
      "text/plain": [
       "{'C': 1, 'degree': 2, 'gamma': 'auto', 'kernel': 'poly'}"
      ]
     },
     "execution_count": 105,
     "metadata": {},
     "output_type": "execute_result"
    }
   ],
   "source": [
    "param_grid = {'C': [0.1, 1, 10, 100, 1000], 'kernel': ['linear', 'poly', 'rbf'], 'degree': [2, 3, 4, 5], 'gamma': ['scale', 'auto']}\n",
    "grid = GridSearchCV(SVC(), param_grid, refit=True, verbose=0)\n",
    "grid.fit(X_train, y_train)\n",
    "grid.best_params_"
   ]
  },
  {
   "cell_type": "markdown",
   "metadata": {},
   "source": [
    "Uzyskane optymalne parametry:\n",
    "- **C: 1** – model jest umiarkowanie elastyczny, co zapewnia równowagę między dopasowaniem do danych a generalizacją.\n",
    "- **degree: 2** – oznacza stopień wielomianu dla jądra wielomianowego.\n",
    "- **gamma: auto** – automatyczne skalowanie gamma dobrze dopasowuje model do liczby cech w zbiorze danych.\n",
    "- **kernel: poly** – dane są najlepiej separowalne za pomocą prostego jądra wielomianowego."
   ]
  },
  {
   "cell_type": "code",
   "execution_count": 106,
   "metadata": {},
   "outputs": [
    {
     "name": "stdout",
     "output_type": "stream",
     "text": [
      "Dokładność dla zbioru treningowego: 0.80\n",
      "Dokładność dla zbioru testowego: 0.73\n"
     ]
    }
   ],
   "source": [
    "y_pred_train = grid.predict(X_train)\n",
    "y_pred_test = grid.predict(X_test)\n",
    "accuracy_train = accuracy_score(y_train, y_pred_train)\n",
    "accuracy_test = accuracy_score(y_test, y_pred_test)\n",
    "\n",
    "print(f\"Dokładność dla zbioru treningowego: {accuracy_train:0.2f}\")\n",
    "print(f\"Dokładność dla zbioru testowego: {accuracy_test:0.2f}\")"
   ]
  }
 ],
 "metadata": {
  "kernelspec": {
   "display_name": "base",
   "language": "python",
   "name": "python3"
  },
  "language_info": {
   "codemirror_mode": {
    "name": "ipython",
    "version": 3
   },
   "file_extension": ".py",
   "mimetype": "text/x-python",
   "name": "python",
   "nbconvert_exporter": "python",
   "pygments_lexer": "ipython3",
   "version": "3.12.4"
  }
 },
 "nbformat": 4,
 "nbformat_minor": 2
}
