{
 "cells": [
  {
   "cell_type": "markdown",
   "metadata": {},
   "source": [
    "### Ćwiczenia projektowe 4.\n",
    "Anna Marjankowska, Adrian Żyła"
   ]
  },
  {
   "cell_type": "code",
   "execution_count": 315,
   "metadata": {},
   "outputs": [],
   "source": [
    "import pandas as pd\n",
    "import numpy as np\n",
    "from sklearn.model_selection import train_test_split\n",
    "from sklearn.tree import DecisionTreeClassifier\n",
    "from sklearn.ensemble import RandomForestClassifier\n",
    "from sklearn.metrics import accuracy_score, recall_score, classification_report, confusion_matrix\n",
    "from imblearn.metrics import specificity_score\n",
    "import seaborn as sns\n",
    "import matplotlib.pyplot as plt\n",
    "from imblearn.over_sampling import RandomOverSampler, SMOTE\n",
    "from imblearn.under_sampling import RandomUnderSampler, TomekLinks\n",
    "from collections import Counter\n",
    "\n",
    "import warnings\n",
    "warnings.filterwarnings('ignore')"
   ]
  },
  {
   "cell_type": "code",
   "execution_count": 316,
   "metadata": {},
   "outputs": [
    {
     "data": {
      "text/html": [
       "<div>\n",
       "<style scoped>\n",
       "    .dataframe tbody tr th:only-of-type {\n",
       "        vertical-align: middle;\n",
       "    }\n",
       "\n",
       "    .dataframe tbody tr th {\n",
       "        vertical-align: top;\n",
       "    }\n",
       "\n",
       "    .dataframe thead th {\n",
       "        text-align: right;\n",
       "    }\n",
       "</style>\n",
       "<table border=\"1\" class=\"dataframe\">\n",
       "  <thead>\n",
       "    <tr style=\"text-align: right;\">\n",
       "      <th></th>\n",
       "      <th>gender</th>\n",
       "      <th>age</th>\n",
       "      <th>hypertension</th>\n",
       "      <th>heart_disease</th>\n",
       "      <th>ever_married</th>\n",
       "      <th>work_type</th>\n",
       "      <th>Residence_type</th>\n",
       "      <th>avg_glucose_level</th>\n",
       "      <th>bmi</th>\n",
       "      <th>smoking_status</th>\n",
       "      <th>stroke</th>\n",
       "    </tr>\n",
       "  </thead>\n",
       "  <tbody>\n",
       "    <tr>\n",
       "      <th>0</th>\n",
       "      <td>Male</td>\n",
       "      <td>67</td>\n",
       "      <td>0</td>\n",
       "      <td>1</td>\n",
       "      <td>Yes</td>\n",
       "      <td>Private</td>\n",
       "      <td>Urban</td>\n",
       "      <td>228.69</td>\n",
       "      <td>36.6</td>\n",
       "      <td>formerly smoked</td>\n",
       "      <td>1</td>\n",
       "    </tr>\n",
       "    <tr>\n",
       "      <th>1</th>\n",
       "      <td>Female</td>\n",
       "      <td>61</td>\n",
       "      <td>0</td>\n",
       "      <td>0</td>\n",
       "      <td>Yes</td>\n",
       "      <td>Self-employed</td>\n",
       "      <td>Rural</td>\n",
       "      <td>202.21</td>\n",
       "      <td>NaN</td>\n",
       "      <td>never smoked</td>\n",
       "      <td>1</td>\n",
       "    </tr>\n",
       "    <tr>\n",
       "      <th>2</th>\n",
       "      <td>Male</td>\n",
       "      <td>80</td>\n",
       "      <td>0</td>\n",
       "      <td>1</td>\n",
       "      <td>Yes</td>\n",
       "      <td>Private</td>\n",
       "      <td>Rural</td>\n",
       "      <td>105.92</td>\n",
       "      <td>32.5</td>\n",
       "      <td>never smoked</td>\n",
       "      <td>1</td>\n",
       "    </tr>\n",
       "    <tr>\n",
       "      <th>3</th>\n",
       "      <td>Female</td>\n",
       "      <td>49</td>\n",
       "      <td>0</td>\n",
       "      <td>0</td>\n",
       "      <td>Yes</td>\n",
       "      <td>Private</td>\n",
       "      <td>Urban</td>\n",
       "      <td>171.23</td>\n",
       "      <td>34.4</td>\n",
       "      <td>smokes</td>\n",
       "      <td>1</td>\n",
       "    </tr>\n",
       "    <tr>\n",
       "      <th>4</th>\n",
       "      <td>Female</td>\n",
       "      <td>79</td>\n",
       "      <td>1</td>\n",
       "      <td>0</td>\n",
       "      <td>Yes</td>\n",
       "      <td>Self-employed</td>\n",
       "      <td>Rural</td>\n",
       "      <td>174.12</td>\n",
       "      <td>24</td>\n",
       "      <td>never smoked</td>\n",
       "      <td>1</td>\n",
       "    </tr>\n",
       "  </tbody>\n",
       "</table>\n",
       "</div>"
      ],
      "text/plain": [
       "   gender age  hypertension  heart_disease ever_married      work_type  \\\n",
       "0    Male  67             0              1          Yes        Private   \n",
       "1  Female  61             0              0          Yes  Self-employed   \n",
       "2    Male  80             0              1          Yes        Private   \n",
       "3  Female  49             0              0          Yes        Private   \n",
       "4  Female  79             1              0          Yes  Self-employed   \n",
       "\n",
       "  Residence_type avg_glucose_level   bmi   smoking_status  stroke  \n",
       "0          Urban            228.69  36.6  formerly smoked       1  \n",
       "1          Rural            202.21   NaN     never smoked       1  \n",
       "2          Rural            105.92  32.5     never smoked       1  \n",
       "3          Urban            171.23  34.4           smokes       1  \n",
       "4          Rural            174.12    24     never smoked       1  "
      ]
     },
     "execution_count": 316,
     "metadata": {},
     "output_type": "execute_result"
    }
   ],
   "source": [
    "data = pd.read_csv('./stroke_zaj3.csv', sep = ';', decimal = ',')\n",
    "data.head()"
   ]
  },
  {
   "cell_type": "code",
   "execution_count": 317,
   "metadata": {},
   "outputs": [
    {
     "data": {
      "text/plain": [
       "(5109, 11)"
      ]
     },
     "execution_count": 317,
     "metadata": {},
     "output_type": "execute_result"
    }
   ],
   "source": [
    "data.shape"
   ]
  },
  {
   "cell_type": "code",
   "execution_count": 318,
   "metadata": {},
   "outputs": [
    {
     "name": "stdout",
     "output_type": "stream",
     "text": [
      "0    4860\n",
      "1     249\n",
      "Name: stroke, dtype: int64\n",
      "\n",
      "Klasa pozytywna stanowi 4.87% całego zbioru danych.\n"
     ]
    }
   ],
   "source": [
    "print(data['stroke'].value_counts())\n",
    "print(f\"\\nKlasa pozytywna stanowi {data['stroke'].value_counts()[1]/data['stroke'].value_counts().sum()*100:0.2f}% całego zbioru danych.\")"
   ]
  },
  {
   "cell_type": "markdown",
   "metadata": {},
   "source": [
    "Jak widzimy klasa $1$ stanowi zalediwe $4.87\\%$ całego zbioru, co oznacza, że zbiór danych jest **silnie niezbalansowany**."
   ]
  },
  {
   "cell_type": "markdown",
   "metadata": {},
   "source": [
    "Sprawdźmy teraz występowanie braków w danych."
   ]
  },
  {
   "cell_type": "code",
   "execution_count": 319,
   "metadata": {},
   "outputs": [
    {
     "data": {
      "text/plain": [
       "gender                 0\n",
       "age                    0\n",
       "hypertension           0\n",
       "heart_disease          0\n",
       "ever_married           0\n",
       "work_type              0\n",
       "Residence_type         0\n",
       "avg_glucose_level      0\n",
       "bmi                  201\n",
       "smoking_status         0\n",
       "stroke                 0\n",
       "dtype: int64"
      ]
     },
     "execution_count": 319,
     "metadata": {},
     "output_type": "execute_result"
    }
   ],
   "source": [
    "data.isnull().sum()"
   ]
  },
  {
   "cell_type": "markdown",
   "metadata": {},
   "source": [
    "W danych występują **brakujące wartości** dla zmiennej **BMI**, zdecydowaliśmy się na ich usunięcie."
   ]
  },
  {
   "cell_type": "code",
   "execution_count": 320,
   "metadata": {},
   "outputs": [
    {
     "data": {
      "text/plain": [
       "gender               0\n",
       "age                  0\n",
       "hypertension         0\n",
       "heart_disease        0\n",
       "ever_married         0\n",
       "work_type            0\n",
       "Residence_type       0\n",
       "avg_glucose_level    0\n",
       "bmi                  0\n",
       "smoking_status       0\n",
       "stroke               0\n",
       "dtype: int64"
      ]
     },
     "execution_count": 320,
     "metadata": {},
     "output_type": "execute_result"
    }
   ],
   "source": [
    "data = data.dropna()\n",
    "data.isna().sum()"
   ]
  },
  {
   "cell_type": "code",
   "execution_count": 321,
   "metadata": {},
   "outputs": [
    {
     "name": "stdout",
     "output_type": "stream",
     "text": [
      "Po usunięciu wartości brakujących ze zmiennej bmi mamy niezbalansowanie zbioru na poziomie: 4.26%.\n"
     ]
    }
   ],
   "source": [
    "print(f\"Po usunięciu wartości brakujących ze zmiennej bmi mamy niezbalansowanie zbioru na poziomie: \\\n",
    "{data['stroke'].value_counts()[1]/data['stroke'].value_counts().sum()*100:0.2f}%.\")"
   ]
  },
  {
   "cell_type": "markdown",
   "metadata": {},
   "source": [
    "Budowa modelu przed zbalansowaniem zbioru danych"
   ]
  },
  {
   "cell_type": "code",
   "execution_count": 322,
   "metadata": {},
   "outputs": [],
   "source": [
    "gender_dummies = pd.get_dummies(data['gender'], dtype = int, drop_first = True)\n",
    "ever_married_dummies = pd.get_dummies(data['ever_married'], dtype = int, drop_first = True)\n",
    "work_type_dummies = pd.get_dummies(data['work_type'], dtype = int, drop_first = True)\n",
    "residence_type_dummies = pd.get_dummies(data['Residence_type'], dtype = int, drop_first = True)\n",
    "smoking_status_dummies = pd.get_dummies(data['smoking_status'], dtype = int, drop_first = True)"
   ]
  },
  {
   "cell_type": "code",
   "execution_count": 323,
   "metadata": {},
   "outputs": [
    {
     "data": {
      "text/html": [
       "<div>\n",
       "<style scoped>\n",
       "    .dataframe tbody tr th:only-of-type {\n",
       "        vertical-align: middle;\n",
       "    }\n",
       "\n",
       "    .dataframe tbody tr th {\n",
       "        vertical-align: top;\n",
       "    }\n",
       "\n",
       "    .dataframe thead th {\n",
       "        text-align: right;\n",
       "    }\n",
       "</style>\n",
       "<table border=\"1\" class=\"dataframe\">\n",
       "  <thead>\n",
       "    <tr style=\"text-align: right;\">\n",
       "      <th></th>\n",
       "      <th>Male</th>\n",
       "      <th>age</th>\n",
       "      <th>hypertension</th>\n",
       "      <th>heart_disease</th>\n",
       "      <th>ever_married</th>\n",
       "      <th>Never_worked</th>\n",
       "      <th>Private</th>\n",
       "      <th>Self-employed</th>\n",
       "      <th>children</th>\n",
       "      <th>Urban</th>\n",
       "      <th>avg_glucose_level</th>\n",
       "      <th>bmi</th>\n",
       "      <th>formerly smoked</th>\n",
       "      <th>never smoked</th>\n",
       "      <th>smokes</th>\n",
       "      <th>stroke</th>\n",
       "    </tr>\n",
       "  </thead>\n",
       "  <tbody>\n",
       "    <tr>\n",
       "      <th>0</th>\n",
       "      <td>1</td>\n",
       "      <td>67</td>\n",
       "      <td>0</td>\n",
       "      <td>1</td>\n",
       "      <td>1</td>\n",
       "      <td>0</td>\n",
       "      <td>1</td>\n",
       "      <td>0</td>\n",
       "      <td>0</td>\n",
       "      <td>1</td>\n",
       "      <td>228.69</td>\n",
       "      <td>36.6</td>\n",
       "      <td>1</td>\n",
       "      <td>0</td>\n",
       "      <td>0</td>\n",
       "      <td>1</td>\n",
       "    </tr>\n",
       "    <tr>\n",
       "      <th>2</th>\n",
       "      <td>1</td>\n",
       "      <td>80</td>\n",
       "      <td>0</td>\n",
       "      <td>1</td>\n",
       "      <td>1</td>\n",
       "      <td>0</td>\n",
       "      <td>1</td>\n",
       "      <td>0</td>\n",
       "      <td>0</td>\n",
       "      <td>0</td>\n",
       "      <td>105.92</td>\n",
       "      <td>32.5</td>\n",
       "      <td>0</td>\n",
       "      <td>1</td>\n",
       "      <td>0</td>\n",
       "      <td>1</td>\n",
       "    </tr>\n",
       "    <tr>\n",
       "      <th>3</th>\n",
       "      <td>0</td>\n",
       "      <td>49</td>\n",
       "      <td>0</td>\n",
       "      <td>0</td>\n",
       "      <td>1</td>\n",
       "      <td>0</td>\n",
       "      <td>1</td>\n",
       "      <td>0</td>\n",
       "      <td>0</td>\n",
       "      <td>1</td>\n",
       "      <td>171.23</td>\n",
       "      <td>34.4</td>\n",
       "      <td>0</td>\n",
       "      <td>0</td>\n",
       "      <td>1</td>\n",
       "      <td>1</td>\n",
       "    </tr>\n",
       "    <tr>\n",
       "      <th>4</th>\n",
       "      <td>0</td>\n",
       "      <td>79</td>\n",
       "      <td>1</td>\n",
       "      <td>0</td>\n",
       "      <td>1</td>\n",
       "      <td>0</td>\n",
       "      <td>0</td>\n",
       "      <td>1</td>\n",
       "      <td>0</td>\n",
       "      <td>0</td>\n",
       "      <td>174.12</td>\n",
       "      <td>24</td>\n",
       "      <td>0</td>\n",
       "      <td>1</td>\n",
       "      <td>0</td>\n",
       "      <td>1</td>\n",
       "    </tr>\n",
       "    <tr>\n",
       "      <th>5</th>\n",
       "      <td>1</td>\n",
       "      <td>81</td>\n",
       "      <td>0</td>\n",
       "      <td>0</td>\n",
       "      <td>1</td>\n",
       "      <td>0</td>\n",
       "      <td>1</td>\n",
       "      <td>0</td>\n",
       "      <td>0</td>\n",
       "      <td>1</td>\n",
       "      <td>186.21</td>\n",
       "      <td>29</td>\n",
       "      <td>1</td>\n",
       "      <td>0</td>\n",
       "      <td>0</td>\n",
       "      <td>1</td>\n",
       "    </tr>\n",
       "  </tbody>\n",
       "</table>\n",
       "</div>"
      ],
      "text/plain": [
       "   Male age  hypertension  heart_disease  ever_married  Never_worked  Private  \\\n",
       "0     1  67             0              1             1             0        1   \n",
       "2     1  80             0              1             1             0        1   \n",
       "3     0  49             0              0             1             0        1   \n",
       "4     0  79             1              0             1             0        0   \n",
       "5     1  81             0              0             1             0        1   \n",
       "\n",
       "   Self-employed  children  Urban avg_glucose_level   bmi  formerly smoked  \\\n",
       "0              0         0      1            228.69  36.6                1   \n",
       "2              0         0      0            105.92  32.5                0   \n",
       "3              0         0      1            171.23  34.4                0   \n",
       "4              1         0      0            174.12    24                0   \n",
       "5              0         0      1            186.21    29                1   \n",
       "\n",
       "   never smoked  smokes  stroke  \n",
       "0             0       0       1  \n",
       "2             1       0       1  \n",
       "3             0       1       1  \n",
       "4             1       0       1  \n",
       "5             0       0       1  "
      ]
     },
     "execution_count": 323,
     "metadata": {},
     "output_type": "execute_result"
    }
   ],
   "source": [
    "data = pd.concat([gender_dummies, data[['age', 'hypertension', 'heart_disease']], ever_married_dummies, work_type_dummies, \n",
    "        residence_type_dummies, data[['avg_glucose_level', 'bmi',]], smoking_status_dummies, data[['stroke']]], axis = 1)\n",
    "data = data.rename(columns = {'Yes': 'ever_married'})\n",
    "data.head()"
   ]
  },
  {
   "cell_type": "code",
   "execution_count": 324,
   "metadata": {},
   "outputs": [],
   "source": [
    "y = data.stroke\n",
    "X = data.iloc[:, 0:15]\n",
    "X_train, X_test, y_train, y_test = train_test_split(X, y, test_size=0.2, random_state=10)"
   ]
  },
  {
   "cell_type": "code",
   "execution_count": 327,
   "metadata": {},
   "outputs": [],
   "source": [
    "results = []"
   ]
  },
  {
   "cell_type": "code",
   "execution_count": 328,
   "metadata": {},
   "outputs": [
    {
     "data": {
      "text/plain": [
       "RandomForestClassifier()"
      ]
     },
     "execution_count": 328,
     "metadata": {},
     "output_type": "execute_result"
    }
   ],
   "source": [
    "model = RandomForestClassifier()\n",
    "model.fit(X_train, y_train)"
   ]
  },
  {
   "cell_type": "code",
   "execution_count": 329,
   "metadata": {},
   "outputs": [],
   "source": [
    "y_pred_train = model.predict(X_train)\n",
    "y_pred_test = model.predict(X_test)"
   ]
  },
  {
   "cell_type": "code",
   "execution_count": 330,
   "metadata": {},
   "outputs": [
    {
     "name": "stdout",
     "output_type": "stream",
     "text": [
      "              precision    recall  f1-score   support\n",
      "\n",
      "           0       1.00      1.00      1.00      3758\n",
      "           1       1.00      1.00      1.00       168\n",
      "\n",
      "    accuracy                           1.00      3926\n",
      "   macro avg       1.00      1.00      1.00      3926\n",
      "weighted avg       1.00      1.00      1.00      3926\n",
      "\n",
      "Dokładność dla zbioru treningowego: 1.000\n",
      "Czułość dla zbioru treningowego: 1.00\n",
      "Specyficzność dla zbioru treningowego: 1.00\n"
     ]
    }
   ],
   "source": [
    "print(classification_report(y_train, y_pred_train))\n",
    "print(f\"Dokładność dla zbioru treningowego: {accuracy_score(y_train, y_pred_train):0.3f}\")\n",
    "print(f\"Czułość dla zbioru treningowego: {recall_score(y_train, y_pred_train):0.2f}\")\n",
    "print(f\"Specyficzność dla zbioru treningowego: {specificity_score(y_train, y_pred_train):0.2f}\")"
   ]
  },
  {
   "cell_type": "code",
   "execution_count": 331,
   "metadata": {},
   "outputs": [
    {
     "name": "stdout",
     "output_type": "stream",
     "text": [
      "              precision    recall  f1-score   support\n",
      "\n",
      "           0       0.96      1.00      0.98       941\n",
      "           1       0.25      0.02      0.04        41\n",
      "\n",
      "    accuracy                           0.96       982\n",
      "   macro avg       0.60      0.51      0.51       982\n",
      "weighted avg       0.93      0.96      0.94       982\n",
      "\n",
      "Dokładność dla zbioru testowego: 0.956\n",
      "Czułość dla zbioru testowego: 0.024\n",
      "Specyficzność dla zbioru testowego: 0.997\n"
     ]
    }
   ],
   "source": [
    "print(classification_report(y_test, y_pred_test))\n",
    "print(f\"Dokładność dla zbioru testowego: {accuracy_score(y_test, y_pred_test):0.3f}\")\n",
    "print(f\"Czułość dla zbioru testowego: {recall_score(y_test, y_pred_test):0.3f}\")\n",
    "print(f\"Specyficzność dla zbioru testowego: {specificity_score(y_test, y_pred_test):0.3f}\")\n",
    "results.append(['Imbalanced Dataseet', accuracy_score(y_test, y_pred_test), recall_score(y_test, y_pred_test), specificity_score(y_test, y_pred_test)])"
   ]
  },
  {
   "cell_type": "code",
   "execution_count": 332,
   "metadata": {},
   "outputs": [
    {
     "data": {
      "image/png": "[encoded data removed]",
      "text/plain": [
       "<Figure size 432x288 with 2 Axes>"
      ]
     },
     "metadata": {
      "needs_background": "light"
     },
     "output_type": "display_data"
    }
   ],
   "source": [
    "conf_matrix = confusion_matrix(y_test, y_pred_test)\n",
    "sns.heatmap(conf_matrix, annot=True, fmt='d', cmap='Oranges')\n",
    "plt.xlabel('Predicted')\n",
    "plt.ylabel('Actual')\n",
    "plt.show()"
   ]
  },
  {
   "cell_type": "markdown",
   "metadata": {},
   "source": [
    "Model dla danych treningowych uzyskał wszytskie metryki równe $100\\%$.<br>\n",
    "Dla zbioru testowego model wciąż ma wysoką dokładonść jednak **czułość jest równa $0\\%$**, co oznacza, że model nie sklasyfikował żadnej osoby chorej poprawnie. **Wysoki wynik dokładności jest więc efektem bardzo niezbalansowanego zbioru danych**, klasa chora to jedynie około $4.5\\%$ obserwacji. Nasz model jest więc **nieefektywny** mimo wysokiej dokładności."
   ]
  },
  {
   "cell_type": "markdown",
   "metadata": {},
   "source": [
    "#### Oversampling - nadporóbkowanie\n",
    "Polega na stworzeniu nowych próbek klasy mniejszościowej. "
   ]
  },
  {
   "cell_type": "markdown",
   "metadata": {},
   "source": [
    "**RandomOverSampler**  \n",
    "<br>\n",
    "Zaczniemy od algorytmu RandomOverSampler - metoda losowo wybiera próbki (z powtórzeniami) z klasy mniejszościowej i dodaje je do zbioru danych aż do osiągnięcia równowagi. "
   ]
  },
  {
   "cell_type": "code",
   "execution_count": 340,
   "metadata": {},
   "outputs": [],
   "source": [
    "random_over = RandomOverSampler(random_state=42)\n",
    "X_resampled, y_resampled = random_over.fit_resample(X_train, y_train)"
   ]
  },
  {
   "cell_type": "code",
   "execution_count": 341,
   "metadata": {},
   "outputs": [
    {
     "name": "stdout",
     "output_type": "stream",
     "text": [
      "Przed resamplingiem: Counter({0: 3758, 1: 168})\n",
      "Po resamplingu: Counter({0: 3758, 1: 3758})\n"
     ]
    }
   ],
   "source": [
    "print(f\"Przed resamplingiem: {Counter(y_train)}\")\n",
    "print(f\"Po resamplingu: {Counter(y_resampled)}\")"
   ]
  },
  {
   "cell_type": "code",
   "execution_count": 342,
   "metadata": {},
   "outputs": [
    {
     "data": {
      "text/plain": [
       "RandomForestClassifier(random_state=42)"
      ]
     },
     "execution_count": 342,
     "metadata": {},
     "output_type": "execute_result"
    }
   ],
   "source": [
    "model = RandomForestClassifier(random_state=42)\n",
    "model.fit(X_resampled, y_resampled)"
   ]
  },
  {
   "cell_type": "code",
   "execution_count": 343,
   "metadata": {},
   "outputs": [],
   "source": [
    "y_pred_train = model.predict(X_resampled)\n",
    "y_pred_test = model.predict(X_test)"
   ]
  },
  {
   "cell_type": "code",
   "execution_count": 344,
   "metadata": {},
   "outputs": [
    {
     "name": "stdout",
     "output_type": "stream",
     "text": [
      "              precision    recall  f1-score   support\n",
      "\n",
      "           0       1.00      1.00      1.00      3758\n",
      "           1       1.00      1.00      1.00      3758\n",
      "\n",
      "    accuracy                           1.00      7516\n",
      "   macro avg       1.00      1.00      1.00      7516\n",
      "weighted avg       1.00      1.00      1.00      7516\n",
      "\n",
      "Dokładność dla zbioru treningowego: 1.000\n",
      "Czułość dla zbioru treningowego: 1.00\n",
      "Specyficzność dla zbioru treningowego: 1.00\n"
     ]
    }
   ],
   "source": [
    "print(classification_report(y_resampled, y_pred_train))\n",
    "print(f\"Dokładność dla zbioru treningowego: {accuracy_score(y_resampled, y_pred_train):0.3f}\")\n",
    "print(f\"Czułość dla zbioru treningowego: {recall_score(y_resampled, y_pred_train):0.2f}\")\n",
    "print(f\"Specyficzność dla zbioru treningowego: {specificity_score(y_resampled, y_pred_train):0.2f}\")"
   ]
  },
  {
   "cell_type": "code",
   "execution_count": 345,
   "metadata": {},
   "outputs": [
    {
     "name": "stdout",
     "output_type": "stream",
     "text": [
      "              precision    recall  f1-score   support\n",
      "\n",
      "           0       0.96      0.99      0.98       941\n",
      "           1       0.12      0.02      0.04        41\n",
      "\n",
      "    accuracy                           0.95       982\n",
      "   macro avg       0.54      0.51      0.51       982\n",
      "weighted avg       0.92      0.95      0.94       982\n",
      "\n",
      "Dokładność dla zbioru testowego: 0.952\n",
      "Czułość dla zbioru testowego: 0.024\n",
      "Specyficzność dla zbioru testowego: 0.993\n"
     ]
    }
   ],
   "source": [
    "print(classification_report(y_test, y_pred_test))\n",
    "print(f\"Dokładność dla zbioru testowego: {accuracy_score(y_test, y_pred_test):0.3f}\")\n",
    "print(f\"Czułość dla zbioru testowego: {recall_score(y_test, y_pred_test):0.3f}\")\n",
    "print(f\"Specyficzność dla zbioru testowego: {specificity_score(y_test, y_pred_test):0.3f}\")"
   ]
  },
  {
   "cell_type": "code",
   "execution_count": 346,
   "metadata": {},
   "outputs": [
    {
     "name": "stdout",
     "output_type": "stream",
     "text": [
      "              precision    recall  f1-score   support\n",
      "\n",
      "           0       0.96      0.99      0.98       941\n",
      "           1       0.12      0.02      0.04        41\n",
      "\n",
      "    accuracy                           0.95       982\n",
      "   macro avg       0.54      0.51      0.51       982\n",
      "weighted avg       0.92      0.95      0.94       982\n",
      "\n",
      "Dokładność dla zbioru testowego: 0.952\n",
      "Czułość dla zbioru testowego: 0.024\n",
      "Specyficzność dla zbioru testowego: 0.993\n"
     ]
    }
   ],
   "source": [
    "print(classification_report(y_test, y_pred_test))\n",
    "print(f\"Dokładność dla zbioru testowego: {accuracy_score(y_test, y_pred_test):0.3f}\")\n",
    "print(f\"Czułość dla zbioru testowego: {recall_score(y_test, y_pred_test):0.3f}\")\n",
    "print(f\"Specyficzność dla zbioru testowego: {specificity_score(y_test, y_pred_test):0.3f}\")\n",
    "results.append(['RandomOverSampler', accuracy_score(y_test, y_pred_test), recall_score(y_test, y_pred_test), specificity_score(y_test, y_pred_test)])"
   ]
  },
  {
   "cell_type": "code",
   "execution_count": 347,
   "metadata": {},
   "outputs": [
    {
     "data": {
      "image/png": "[encoded data removed]",
      "text/plain": [
       "<Figure size 432x288 with 2 Axes>"
      ]
     },
     "metadata": {
      "needs_background": "light"
     },
     "output_type": "display_data"
    }
   ],
   "source": [
    "conf_matrix = confusion_matrix(y_test, y_pred_test)\n",
    "sns.heatmap(conf_matrix, annot=True, fmt='d', cmap='Oranges')\n",
    "plt.xlabel('Predicted')\n",
    "plt.ylabel('Actual')\n",
    "plt.show()"
   ]
  },
  {
   "cell_type": "markdown",
   "metadata": {},
   "source": [
    "Losowe nadpróbkowanie nieznacznie wpłynęło na poprawę czułości modelu."
   ]
  },
  {
   "cell_type": "markdown",
   "metadata": {},
   "source": [
    "**SMOTE**  \n",
    "<br>\n",
    "Algorytm SMOTE polega na generowaniu nowych, syntetycznych próbek.  \n",
    "<br>\n",
    "Działanie algorytmu SMOTE:\n",
    "- identyfikacja klasy mniejszościowej\n",
    "- dla każdej próbki klasy mniejszościowej identyfikacja $k$ (domyślnie $k=5$) najbliższych sąsiadów operając się na wybranej mierze odległości (domyślnie euklidesowa)\n",
    "- wybranie losowo jednego z $k$ sasiadów, a następnie wygenerowanie nowej próbki, tworząc liniowe kombinaje oryginalnej próbki i jej sąsiada  \n",
    "\n",
    "Nowo wygenerowane próki są dodawane do zbioru danych, aż klasa mniejszośiowa osiągnie pożądany rozmiar."
   ]
  },
  {
   "cell_type": "code",
   "execution_count": 348,
   "metadata": {},
   "outputs": [],
   "source": [
    "smote = SMOTE(random_state=42)\n",
    "X_resampled, y_resampled = smote.fit_resample(X_train, y_train)"
   ]
  },
  {
   "cell_type": "code",
   "execution_count": 349,
   "metadata": {},
   "outputs": [
    {
     "name": "stdout",
     "output_type": "stream",
     "text": [
      "Przed resamplingiem: Counter({0: 3758, 1: 168})\n",
      "Po resamplingu: Counter({0: 3758, 1: 3758})\n"
     ]
    }
   ],
   "source": [
    "print(f\"Przed resamplingiem: {Counter(y_train)}\")\n",
    "print(f\"Po resamplingu: {Counter(y_resampled)}\")"
   ]
  },
  {
   "cell_type": "code",
   "execution_count": 350,
   "metadata": {},
   "outputs": [
    {
     "data": {
      "text/plain": [
       "RandomForestClassifier(random_state=42)"
      ]
     },
     "execution_count": 350,
     "metadata": {},
     "output_type": "execute_result"
    }
   ],
   "source": [
    "model = RandomForestClassifier(random_state=42)\n",
    "model.fit(X_resampled, y_resampled)"
   ]
  },
  {
   "cell_type": "code",
   "execution_count": 351,
   "metadata": {},
   "outputs": [],
   "source": [
    "y_pred_train = model.predict(X_resampled)\n",
    "y_pred_test = model.predict(X_test)"
   ]
  },
  {
   "cell_type": "code",
   "execution_count": 352,
   "metadata": {},
   "outputs": [
    {
     "name": "stdout",
     "output_type": "stream",
     "text": [
      "              precision    recall  f1-score   support\n",
      "\n",
      "           0       1.00      1.00      1.00      3758\n",
      "           1       1.00      1.00      1.00      3758\n",
      "\n",
      "    accuracy                           1.00      7516\n",
      "   macro avg       1.00      1.00      1.00      7516\n",
      "weighted avg       1.00      1.00      1.00      7516\n",
      "\n",
      "Dokładność dla zbioru treningowego: 1.000\n",
      "Czułość dla zbioru treningowego: 1.00\n",
      "Specyficzność dla zbioru treningowego: 1.00\n"
     ]
    }
   ],
   "source": [
    "print(classification_report(y_resampled, y_pred_train))\n",
    "print(f\"Dokładność dla zbioru treningowego: {accuracy_score(y_resampled, y_pred_train):0.3f}\")\n",
    "print(f\"Czułość dla zbioru treningowego: {recall_score(y_resampled, y_pred_train):0.2f}\")\n",
    "print(f\"Specyficzność dla zbioru treningowego: {specificity_score(y_resampled, y_pred_train):0.2f}\")"
   ]
  },
  {
   "cell_type": "code",
   "execution_count": 353,
   "metadata": {},
   "outputs": [
    {
     "name": "stdout",
     "output_type": "stream",
     "text": [
      "              precision    recall  f1-score   support\n",
      "\n",
      "           0       0.96      0.96      0.96       941\n",
      "           1       0.13      0.15      0.14        41\n",
      "\n",
      "    accuracy                           0.92       982\n",
      "   macro avg       0.55      0.55      0.55       982\n",
      "weighted avg       0.93      0.92      0.93       982\n",
      "\n",
      "Dokładność dla zbioru testowego: 0.924\n",
      "Czułość dla zbioru testowego: 0.146\n",
      "Specyficzność dla zbioru testowego: 0.957\n"
     ]
    }
   ],
   "source": [
    "print(classification_report(y_test, y_pred_test))\n",
    "print(f\"Dokładność dla zbioru testowego: {accuracy_score(y_test, y_pred_test):0.3f}\")\n",
    "print(f\"Czułość dla zbioru testowego: {recall_score(y_test, y_pred_test):0.3f}\")\n",
    "print(f\"Specyficzność dla zbioru testowego: {specificity_score(y_test, y_pred_test):0.3f}\")\n",
    "results.append(['SMOTE', accuracy_score(y_test, y_pred_test), recall_score(y_test, y_pred_test), specificity_score(y_test, y_pred_test)])"
   ]
  },
  {
   "cell_type": "code",
   "execution_count": 354,
   "metadata": {},
   "outputs": [
    {
     "data": {
      "image/png": "[encoded data removed]",
      "text/plain": [
       "<Figure size 432x288 with 2 Axes>"
      ]
     },
     "metadata": {
      "needs_background": "light"
     },
     "output_type": "display_data"
    }
   ],
   "source": [
    "conf_matrix = confusion_matrix(y_test, y_pred_test)\n",
    "sns.heatmap(conf_matrix, annot=True, fmt='d', cmap='Oranges')\n",
    "plt.xlabel('Predicted')\n",
    "plt.ylabel('Actual')\n",
    "plt.show()"
   ]
  },
  {
   "cell_type": "markdown",
   "metadata": {},
   "source": [
    "Po zastosowania algorytmu SMOTE czułośc modelu wzrosła, lecz nadal pozostaje niska, co oznacza, że model nie jest efektywny. Jedynie **$6$ spośród $41$ rzeczywiście przypadków chorych** zostało poprawnie sklasyfikowanych."
   ]
  },
  {
   "cell_type": "markdown",
   "metadata": {},
   "source": [
    "#### Undersampling - podpróbkowanie  \n",
    "Polega na usuwanie obserwacji z klasy mniejszościowej."
   ]
  },
  {
   "cell_type": "markdown",
   "metadata": {},
   "source": [
    "**RandomUnderSampler**  \n",
    "<br>\n",
    "Algorytm RandomUnderSampler - metoda losowo wybiera próbki (z powtórzeniami) z klasy mniejszościowej i usuwa je ze zbioru danych aż do osiągnięcia równowagi. "
   ]
  },
  {
   "cell_type": "code",
   "execution_count": 355,
   "metadata": {},
   "outputs": [
    {
     "name": "stdout",
     "output_type": "stream",
     "text": [
      "Przed resamplingiem: Counter({0: 3758, 1: 168})\n",
      "Po resamplingu: Counter({0: 168, 1: 168})\n"
     ]
    }
   ],
   "source": [
    "random_under = RandomUnderSampler(random_state=42)\n",
    "X_resampled, y_resampled = random_under.fit_resample(X_train, y_train)\n",
    "\n",
    "print(f\"Przed resamplingiem: {Counter(y_train)}\")\n",
    "print(f\"Po resamplingu: {Counter(y_resampled)}\")"
   ]
  },
  {
   "cell_type": "code",
   "execution_count": 356,
   "metadata": {},
   "outputs": [
    {
     "data": {
      "text/plain": [
       "RandomForestClassifier(random_state=42)"
      ]
     },
     "execution_count": 356,
     "metadata": {},
     "output_type": "execute_result"
    }
   ],
   "source": [
    "model = RandomForestClassifier(random_state=42)\n",
    "model.fit(X_resampled, y_resampled)"
   ]
  },
  {
   "cell_type": "code",
   "execution_count": 357,
   "metadata": {},
   "outputs": [],
   "source": [
    "y_pred_train = model.predict(X_resampled)\n",
    "y_pred_test = model.predict(X_test)"
   ]
  },
  {
   "cell_type": "code",
   "execution_count": 358,
   "metadata": {},
   "outputs": [
    {
     "name": "stdout",
     "output_type": "stream",
     "text": [
      "              precision    recall  f1-score   support\n",
      "\n",
      "           0       1.00      1.00      1.00       168\n",
      "           1       1.00      1.00      1.00       168\n",
      "\n",
      "    accuracy                           1.00       336\n",
      "   macro avg       1.00      1.00      1.00       336\n",
      "weighted avg       1.00      1.00      1.00       336\n",
      "\n",
      "Dokładność dla zbioru treningowego: 1.000\n",
      "Czułość dla zbioru treningowego: 1.00\n",
      "Specyficzność dla zbioru treningowego: 1.00\n"
     ]
    }
   ],
   "source": [
    "print(classification_report(y_resampled, y_pred_train))\n",
    "print(f\"Dokładność dla zbioru treningowego: {accuracy_score(y_resampled, y_pred_train):0.3f}\")\n",
    "print(f\"Czułość dla zbioru treningowego: {recall_score(y_resampled, y_pred_train):0.2f}\")\n",
    "print(f\"Specyficzność dla zbioru treningowego: {specificity_score(y_resampled, y_pred_train):0.2f}\")"
   ]
  },
  {
   "cell_type": "code",
   "execution_count": 359,
   "metadata": {},
   "outputs": [
    {
     "name": "stdout",
     "output_type": "stream",
     "text": [
      "              precision    recall  f1-score   support\n",
      "\n",
      "           0       0.99      0.71      0.83       941\n",
      "           1       0.11      0.85      0.20        41\n",
      "\n",
      "    accuracy                           0.72       982\n",
      "   macro avg       0.55      0.78      0.51       982\n",
      "weighted avg       0.95      0.72      0.80       982\n",
      "\n",
      "Dokładność dla zbioru testowego: 0.716\n",
      "Czułość dla zbioru testowego: 0.854\n",
      "Specyficzność dla zbioru testowego: 0.710\n"
     ]
    }
   ],
   "source": [
    "print(classification_report(y_test, y_pred_test))\n",
    "print(f\"Dokładność dla zbioru testowego: {accuracy_score(y_test, y_pred_test):0.3f}\")\n",
    "print(f\"Czułość dla zbioru testowego: {recall_score(y_test, y_pred_test):0.3f}\")\n",
    "print(f\"Specyficzność dla zbioru testowego: {specificity_score(y_test, y_pred_test):0.3f}\")\n",
    "results.append(['RandomUnderSampler', accuracy_score(y_test, y_pred_test), recall_score(y_test, y_pred_test), specificity_score(y_test, y_pred_test)])"
   ]
  },
  {
   "cell_type": "code",
   "execution_count": 360,
   "metadata": {},
   "outputs": [
    {
     "data": {
      "image/png": "[encoded data removed]",
      "text/plain": [
       "<Figure size 432x288 with 2 Axes>"
      ]
     },
     "metadata": {
      "needs_background": "light"
     },
     "output_type": "display_data"
    }
   ],
   "source": [
    "conf_matrix = confusion_matrix(y_test, y_pred_test)\n",
    "sns.heatmap(conf_matrix, annot=True, fmt='d', cmap='Oranges')\n",
    "plt.xlabel('Predicted')\n",
    "plt.ylabel('Actual')\n",
    "plt.show()"
   ]
  },
  {
   "cell_type": "markdown",
   "metadata": {},
   "source": [
    "Losowe usunięcie próbek z danych poprawiło **czułość modelu**, co oznacza, że model **poprawnie klasyfikuje większość chorych osób**. Zmalała natomiast specyficzność, co prowadzi do zwiększonej licbzy fałszywych alarmów.  \n",
    "Z macierzy pomyłek możemy odczytać, że **liczba osób, które zostały błędnie sklasyfikowane jako zdrowe jest realnie niska - $6$**. \n",
    "Kosztem poprawy czułości spadła natomiast dokładność modelu, co wynika z losowego usunięcia próbek. "
   ]
  },
  {
   "cell_type": "markdown",
   "metadata": {},
   "source": [
    "**Tomek Links**  \n",
    "<br>\n",
    "Algorytm Tomek Links polega na **usuwaniu próbek z klasy większościowej, które są blisko próbek z klasy mniejszościowej**.<br>\n",
    "<br>\n",
    "Działanie algorytmu Tomek Links:\n",
    "- identyfikacja par próbek Tomek Link, czyli takich, które są dla siebie najbliższymi sąsiadami, ale należą do różnych klas\n",
    "- usunięcie próbki należącej do klasy większościowej\n",
    "\n",
    "Próbki określane jako **Tomek Link często są trudne do sklasyfikowania i wprowadzają szum**. \n",
    "Dużą więc zaletą tego algorytmu jest **redukowanie szumu oraz poprawa dokładności modelu**.  \n",
    "Należy jednak pamiętać, że metoda ta niekoniecznie usuwnie wszytskie obserwacjie z klasy większościowej, które powodują nierównowagę. \n",
    "W praktyce często łączy się metodę Tomek Links z innymi alogorytmami OverSamplingu lub UnderSamplingu."
   ]
  },
  {
   "cell_type": "code",
   "execution_count": 361,
   "metadata": {},
   "outputs": [
    {
     "name": "stdout",
     "output_type": "stream",
     "text": [
      "Przed resamplingiem: Counter({0: 3758, 1: 168})\n",
      "Po resamplingu: Counter({0: 3681, 1: 168})\n"
     ]
    }
   ],
   "source": [
    "tomek_links = TomekLinks()\n",
    "X_resampled, y_resampled = tomek_links.fit_resample(X_train, y_train)\n",
    "\n",
    "print(f\"Przed resamplingiem: {Counter(y_train)}\")\n",
    "print(f\"Po resamplingu: {Counter(y_resampled)}\")"
   ]
  },
  {
   "cell_type": "markdown",
   "metadata": {},
   "source": [
    "Jak widzimy, algorytm usunął jedynie $77$ obserwacji, co nie doprowadziło do zbalansowania zbioru danych. \n",
    "Połączmy więc metodę **Tomek Links** z algorytmem **SMOTE**. "
   ]
  },
  {
   "cell_type": "code",
   "execution_count": 362,
   "metadata": {},
   "outputs": [
    {
     "name": "stdout",
     "output_type": "stream",
     "text": [
      "Przed resamplingiem: Counter({0: 3681, 1: 168})\n",
      "Po resamplingu: Counter({0: 3681, 1: 3681})\n"
     ]
    }
   ],
   "source": [
    "smote = SMOTE(random_state=42)\n",
    "X_resampled2, y_resampled2 = smote.fit_resample(X_resampled, y_resampled)\n",
    "\n",
    "print(f\"Przed resamplingiem: {Counter(y_resampled)}\")\n",
    "print(f\"Po resamplingu: {Counter(y_resampled2)}\")"
   ]
  },
  {
   "cell_type": "code",
   "execution_count": 363,
   "metadata": {},
   "outputs": [
    {
     "data": {
      "text/plain": [
       "RandomForestClassifier(random_state=42)"
      ]
     },
     "execution_count": 363,
     "metadata": {},
     "output_type": "execute_result"
    }
   ],
   "source": [
    "model = RandomForestClassifier(random_state=42)\n",
    "model.fit(X_resampled2, y_resampled2)"
   ]
  },
  {
   "cell_type": "code",
   "execution_count": 364,
   "metadata": {},
   "outputs": [],
   "source": [
    "y_pred_train = model.predict(X_resampled2)\n",
    "y_pred_test = model.predict(X_test)"
   ]
  },
  {
   "cell_type": "code",
   "execution_count": 365,
   "metadata": {},
   "outputs": [
    {
     "name": "stdout",
     "output_type": "stream",
     "text": [
      "              precision    recall  f1-score   support\n",
      "\n",
      "           0       1.00      1.00      1.00      3681\n",
      "           1       1.00      1.00      1.00      3681\n",
      "\n",
      "    accuracy                           1.00      7362\n",
      "   macro avg       1.00      1.00      1.00      7362\n",
      "weighted avg       1.00      1.00      1.00      7362\n",
      "\n",
      "Dokładność dla zbioru treningowego: 1.000\n",
      "Czułość dla zbioru treningowego: 1.00\n",
      "Specyficzność dla zbioru treningowego: 1.00\n"
     ]
    }
   ],
   "source": [
    "print(classification_report(y_resampled2, y_pred_train))\n",
    "print(f\"Dokładność dla zbioru treningowego: {accuracy_score(y_resampled2, y_pred_train):0.3f}\")\n",
    "print(f\"Czułość dla zbioru treningowego: {recall_score(y_resampled2, y_pred_train):0.2f}\")\n",
    "print(f\"Specyficzność dla zbioru treningowego: {specificity_score(y_resampled2, y_pred_train):0.2f}\")"
   ]
  },
  {
   "cell_type": "code",
   "execution_count": 366,
   "metadata": {},
   "outputs": [
    {
     "name": "stdout",
     "output_type": "stream",
     "text": [
      "              precision    recall  f1-score   support\n",
      "\n",
      "           0       0.96      0.96      0.96       941\n",
      "           1       0.11      0.12      0.11        41\n",
      "\n",
      "    accuracy                           0.92       982\n",
      "   macro avg       0.53      0.54      0.54       982\n",
      "weighted avg       0.93      0.92      0.92       982\n",
      "\n",
      "Dokładność dla zbioru testowego: 0.921\n",
      "Czułość dla zbioru testowego: 0.122\n",
      "Specyficzność dla zbioru testowego: 0.955\n"
     ]
    }
   ],
   "source": [
    "print(classification_report(y_test, y_pred_test))\n",
    "print(f\"Dokładność dla zbioru testowego: {accuracy_score(y_test, y_pred_test):0.3f}\")\n",
    "print(f\"Czułość dla zbioru testowego: {recall_score(y_test, y_pred_test):0.3f}\")\n",
    "print(f\"Specyficzność dla zbioru testowego: {specificity_score(y_test, y_pred_test):0.3f}\")\n",
    "results.append(['Tomek Links + SMOTE', accuracy_score(y_test, y_pred_test), recall_score(y_test, y_pred_test), specificity_score(y_test, y_pred_test)])"
   ]
  },
  {
   "cell_type": "code",
   "execution_count": 367,
   "metadata": {},
   "outputs": [
    {
     "data": {
      "image/png": "[encoded data removed]",
      "text/plain": [
       "<Figure size 432x288 with 2 Axes>"
      ]
     },
     "metadata": {
      "needs_background": "light"
     },
     "output_type": "display_data"
    }
   ],
   "source": [
    "conf_matrix = confusion_matrix(y_test, y_pred_test)\n",
    "sns.heatmap(conf_matrix, annot=True, fmt='d', cmap='Oranges')\n",
    "plt.xlabel('Predicted')\n",
    "plt.ylabel('Actual')\n",
    "plt.show()"
   ]
  },
  {
   "cell_type": "markdown",
   "metadata": {},
   "source": [
    "Przedstawmy jeszcze raz wyniki dla wszytskich modeli, które zostały przez nas zastosowane:"
   ]
  },
  {
   "cell_type": "code",
   "execution_count": 368,
   "metadata": {},
   "outputs": [
    {
     "data": {
      "text/html": [
       "<div>\n",
       "<style scoped>\n",
       "    .dataframe tbody tr th:only-of-type {\n",
       "        vertical-align: middle;\n",
       "    }\n",
       "\n",
       "    .dataframe tbody tr th {\n",
       "        vertical-align: top;\n",
       "    }\n",
       "\n",
       "    .dataframe thead th {\n",
       "        text-align: right;\n",
       "    }\n",
       "</style>\n",
       "<table border=\"1\" class=\"dataframe\">\n",
       "  <thead>\n",
       "    <tr style=\"text-align: right;\">\n",
       "      <th></th>\n",
       "      <th>Model</th>\n",
       "      <th>Dokladność</th>\n",
       "      <th>Czułość</th>\n",
       "      <th>Specyficzność</th>\n",
       "    </tr>\n",
       "  </thead>\n",
       "  <tbody>\n",
       "    <tr>\n",
       "      <th>0</th>\n",
       "      <td>Imbalanced Dataseet</td>\n",
       "      <td>0.956</td>\n",
       "      <td>0.024</td>\n",
       "      <td>0.997</td>\n",
       "    </tr>\n",
       "    <tr>\n",
       "      <th>1</th>\n",
       "      <td>RandomOverSampler</td>\n",
       "      <td>0.952</td>\n",
       "      <td>0.024</td>\n",
       "      <td>0.993</td>\n",
       "    </tr>\n",
       "    <tr>\n",
       "      <th>2</th>\n",
       "      <td>RandomOverSampler</td>\n",
       "      <td>0.952</td>\n",
       "      <td>0.024</td>\n",
       "      <td>0.993</td>\n",
       "    </tr>\n",
       "    <tr>\n",
       "      <th>3</th>\n",
       "      <td>SMOTE</td>\n",
       "      <td>0.924</td>\n",
       "      <td>0.146</td>\n",
       "      <td>0.957</td>\n",
       "    </tr>\n",
       "    <tr>\n",
       "      <th>4</th>\n",
       "      <td>RandomUnderSampler</td>\n",
       "      <td>0.716</td>\n",
       "      <td>0.854</td>\n",
       "      <td>0.710</td>\n",
       "    </tr>\n",
       "    <tr>\n",
       "      <th>5</th>\n",
       "      <td>Tomek Links + SMOTE</td>\n",
       "      <td>0.921</td>\n",
       "      <td>0.122</td>\n",
       "      <td>0.955</td>\n",
       "    </tr>\n",
       "  </tbody>\n",
       "</table>\n",
       "</div>"
      ],
      "text/plain": [
       "                 Model  Dokladność  Czułość  Specyficzność\n",
       "0  Imbalanced Dataseet       0.956    0.024          0.997\n",
       "1    RandomOverSampler       0.952    0.024          0.993\n",
       "2    RandomOverSampler       0.952    0.024          0.993\n",
       "3                SMOTE       0.924    0.146          0.957\n",
       "4   RandomUnderSampler       0.716    0.854          0.710\n",
       "5  Tomek Links + SMOTE       0.921    0.122          0.955"
      ]
     },
     "execution_count": 368,
     "metadata": {},
     "output_type": "execute_result"
    }
   ],
   "source": [
    "columns = ['Model', 'Dokladność', 'Czułość', 'Specyficzność']\n",
    "df = pd.DataFrame(results, columns=columns, index=None)\n",
    "df = df.round(3)\n",
    "df"
   ]
  },
  {
   "cell_type": "markdown",
   "metadata": {},
   "source": [
    "**Najlepsze wyniki w zakresie czułości osiągnięto za pomocą RandomUnderSampler**, ale kosztem dokładności.  \n",
    "Tomek Links + SMOTE pokazuje obiecujące wyniki jako zbalansowana metoda, ale czułość wciąż wymaga poprawy."
   ]
  }
 ],
 "metadata": {
  "kernelspec": {
   "display_name": "base",
   "language": "python",
   "name": "python3"
  },
  "language_info": {
   "codemirror_mode": {
    "name": "ipython",
    "version": 3
   },
   "file_extension": ".py",
   "mimetype": "text/x-python",
   "name": "python",
   "nbconvert_exporter": "python",
   "pygments_lexer": "ipython3",
   "version": "3.9.12"
  }
 },
 "nbformat": 4,
 "nbformat_minor": 2
}
